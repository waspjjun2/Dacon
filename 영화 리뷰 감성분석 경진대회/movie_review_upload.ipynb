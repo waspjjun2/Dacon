{
 "cells": [
  {
   "cell_type": "markdown",
   "metadata": {},
   "source": [
    "###  필요한 Library 불러오기"
   ]
  },
  {
   "cell_type": "code",
   "execution_count": 1,
   "metadata": {},
   "outputs": [],
   "source": [
    "import numpy as np\n",
    "import pandas as pd\n",
    "import re\n",
    "from tqdm import tqdm\n",
    "\n",
    "from sklearn.feature_extraction.text import TfidfVectorizer\n",
    "from sklearn.pipeline import Pipeline\n",
    "\n",
    "from sklearn.model_selection import StratifiedKFold\n",
    "from sklearn.metrics import accuracy_score\n",
    "from sklearn.naive_bayes import BernoulliNB\n",
    "from sklearn.linear_model import SGDClassifier\n",
    "from sklearn.linear_model import LogisticRegression\n",
    "from sklearn.ensemble import RandomForestClassifier, AdaBoostClassifier\n",
    "from sklearn.svm import SVC\n",
    "from xgboost import XGBClassifier\n",
    "from sklearn.ensemble import GradientBoostingClassifier\n",
    "from sklearn.ensemble import StackingClassifier\n",
    "\n",
    "import rich \n",
    "from rich.table import Table"
   ]
  },
  {
   "cell_type": "markdown",
   "metadata": {},
   "source": [
    "### 데이터 불러오기"
   ]
  },
  {
   "cell_type": "code",
   "execution_count": 2,
   "metadata": {},
   "outputs": [],
   "source": [
    "train_df = pd.read_csv(\"./data/train.csv\")\n",
    "test_df = pd.read_csv(\"./data/test.csv\")\n",
    "submission = pd.read_csv(\"./data/sample_submission.csv\")"
   ]
  },
  {
   "cell_type": "markdown",
   "metadata": {},
   "source": [
    "### 전처리"
   ]
  },
  {
   "cell_type": "code",
   "execution_count": 3,
   "metadata": {},
   "outputs": [],
   "source": [
    "# 두 칸 이상의 빈칸을 한칸으로 바꿔줌\n",
    "\n",
    "def preprocess(text):\n",
    "    text = re.sub(\"\\s+\", \" \", text)\n",
    "    return text\n",
    "\n",
    "train_df[\"document\"]  = train_df[\"document\"].apply(lambda x : preprocess(x))\n",
    "test_df[\"document\"]  = test_df[\"document\"].apply(lambda x : preprocess(x))"
   ]
  },
  {
   "cell_type": "markdown",
   "metadata": {},
   "source": [
    "### 파이프라인 및 모델 정의"
   ]
  },
  {
   "cell_type": "code",
   "execution_count": 4,
   "metadata": {},
   "outputs": [],
   "source": [
    "def get_pipe(model, model_name: str) -> Pipeline:\n",
    "    \"TfidfVectorizer와 모델을 연결한 파이프라인을 반환하는 함수\"\n",
    "    tfidf = TfidfVectorizer(analyzer=\"char\", ngram_range=(1, 3), sublinear_tf=True)\n",
    "    pipe = Pipeline([\n",
    "        (\"tfidf\", tfidf),\n",
    "        (model_name, model)\n",
    "    ])\n",
    "    return pipe\n",
    "\n",
    "def return_kfold_accuarcy(model, k: int = 5) -> float:\n",
    "    \"모델을 입력받아 KFold 예측 후 accuracy score를 반환하는 함수\"\n",
    "    kfold = StratifiedKFold(k, shuffle=True, random_state=42)\n",
    "    result = []\n",
    "    cnt = 0\n",
    "    for train_idx, test_idx in kfold.split(train_df[\"document\"], train_df[\"label\"]):\n",
    "        train, val = train_df.iloc[train_idx], train_df.iloc[test_idx]\n",
    "        model.fit(train[\"document\"], train[\"label\"])\n",
    "        pred = model.predict(val[\"document\"])\n",
    "        acc = accuracy_score(val[\"label\"], pred)\n",
    "        result.append(acc)\n",
    "        cnt += 1\n",
    "        print(f'{cnt}th complete!')\n",
    "\n",
    "    return np.mean(result)"
   ]
  },
  {
   "cell_type": "markdown",
   "metadata": {},
   "source": [
    "## 모델 튜닝 및 정의"
   ]
  },
  {
   "cell_type": "code",
   "execution_count": 345,
   "metadata": {},
   "outputs": [],
   "source": [
    "from sklearn.model_selection import GridSearchCV\n",
    "from sklearn.metrics import make_scorer\n",
    "from sklearn.metrics import precision_recall_curve, f1_score, auc\n",
    "\n",
    "def pr_auc_score(y_true, y_score):\n",
    "    \"\"\"\n",
    "    Generates the Area Under the Curve for precision and recall.\n",
    "    \"\"\"\n",
    "    precision, recall, thresholds = \\\n",
    "        precision_recall_curve(y_true, y_score)\n",
    "    return auc(recall, precision)\n",
    "\n",
    "pr_auc_scorer = make_scorer(pr_auc_score, greater_is_better=True,\n",
    "                            needs_proba=True)\n",
    "\n",
    "vectorizer = TfidfVectorizer(analyzer=\"char\", ngram_range=(1, 3), sublinear_tf=True)\n",
    "trainvec = vectorizer.fit_transform(train_df[\"document\"])"
   ]
  },
  {
   "cell_type": "code",
   "execution_count": 1,
   "metadata": {
    "scrolled": true
   },
   "outputs": [],
   "source": [
    "# param_grid_nb={'alpha':[1e-2, 1e-1, 0.5, 1, 2, 5, 1e1, 20, 1e2,]}\n",
    "# nb_cv = GridSearchCV(BernoulliNB(), param_grid_nb,\n",
    "#                      cv=5, scoring = pr_auc_scorer, verbose=2)\n",
    "# nb_cv.fit(trainvec, train_df[\"label\"])\n",
    "# print(nb_cv.best_params_)"
   ]
  },
  {
   "cell_type": "code",
   "execution_count": 2,
   "metadata": {},
   "outputs": [],
   "source": [
    "# param_grid_sgd = {'average': [True, False],\n",
    "#               'l1_ratio': np.linspace(0, 1, num=10),\n",
    "#               'alpha': np.power(10, np.arange(-4, 1, dtype=float))}\n",
    "\n",
    "# sgd_cv = GridSearchCV(SGDClassifier(loss='hinge', penalty='elasticnet', fit_intercept=True,\n",
    "#                           random_state=42, n_jobs=-1,\n",
    "#                           early_stopping=True, validation_fraction=0.2),\n",
    "#                       param_grid_sgd, cv=5, scoring = 'accuracy', verbose=2)\n",
    "\n",
    "# sgd_cv.fit(trainvec, train_df[\"label\"])\n",
    "# print(sgd_cv.best_params_)"
   ]
  },
  {
   "cell_type": "code",
   "execution_count": 3,
   "metadata": {
    "scrolled": true
   },
   "outputs": [],
   "source": [
    "# param_grid_logistic={'C':[1e-2, 1e-1, 1, 2, 5, 1e1, 20, 1e2,]}\n",
    "# logistic_cv = GridSearchCV(LogisticRegression(class_weight='balanced', penalty = 'l2', max_iter=500), param_grid_logistic,\n",
    "#                            cv=5, scoring = pr_auc_scorer, verbose=2)\n",
    "# logistic_cv.fit(trainvec, train_df[\"label\"])\n",
    "# print(logistic_cv.best_params_)"
   ]
  },
  {
   "cell_type": "code",
   "execution_count": 4,
   "metadata": {},
   "outputs": [],
   "source": [
    "# param_grid_ada={'n_estimators' : [100,300,500], 'learning_rate' : [0.01,0.05,0.1]}\n",
    "# ada_cv = GridSearchCV(AdaBoostClassifier(random_state=42),\n",
    "#                      param_grid_ada,\n",
    "#                      cv=5, scoring = pr_auc_scorer,\n",
    "#                      n_jobs=-1, verbose=2)\n",
    "# ada_cv.fit(trainvec, train_df[\"label\"])\n",
    "# print(ada_cv.best_params_)"
   ]
  },
  {
   "cell_type": "code",
   "execution_count": 5,
   "metadata": {},
   "outputs": [],
   "source": [
    "# param_grid_rf={'criterion':[\"gini\",\"entropy\"] ,'max_features':['sqrt','log2'],'max_depth': [8,10,12,15], 'n_estimators' : [1000,1500,2000]}\n",
    "# rf_cv = GridSearchCV(RandomForestClassifier(random_state=42, n_jobs=-1, class_weight='balanced'),\n",
    "#                      param_grid_rf,\n",
    "#                      cv=5, scoring = pr_auc_scorer,\n",
    "#                      n_jobs=-1, verbose=2)\n",
    "# rf_cv.fit(trainvec, train_df[\"label\"])\n",
    "# print(rf_cv.best_params_)"
   ]
  },
  {
   "cell_type": "code",
   "execution_count": 6,
   "metadata": {
    "scrolled": true
   },
   "outputs": [],
   "source": [
    "# param_grid_svc={'C':[1e-2, 1e-1, 1, 1e1], 'gamma' : [1e-2, 1e-1, 1, 1e1], 'kernel' : ['rbf', 'linear']}\n",
    "# svc_cv = GridSearchCV(SVC(random_state=42, probability=True),\n",
    "#                      param_grid_svc,\n",
    "#                      cv=5, scoring = pr_auc_scorer,\n",
    "#                       n_jobs=-1, verbose=2)\n",
    "# svc_cv.fit(trainvec, train_df[\"label\"])\n",
    "# print(svc_cv.best_params_)"
   ]
  },
  {
   "cell_type": "code",
   "execution_count": 5,
   "metadata": {},
   "outputs": [],
   "source": [
    "models = [\n",
    "    (\"naive_bayes\", BernoulliNB(alpha=0.5)),\n",
    "    (\"SGD\", SGDClassifier(loss='hinge', penalty='elasticnet',fit_intercept=True,\n",
    "                          alpha = 0.0001, average = True, l1_ratio = 0.0,\n",
    "                          random_state=42, n_jobs=-1,\n",
    "                          early_stopping=True, validation_fraction=0.2)),\n",
    "    (\"ada\", AdaBoostClassifier(random_state=42, n_estimators = 500, learning_rate = 0.1)),\n",
    "    (\"LR\", LogisticRegression(class_weight='balanced', max_iter=500, random_state=42, C=100)),\n",
    "    (\"SVC\", SVC(random_state=42, C = 10.0, gamma = 0.1, kernel = 'rbf'))\n",
    "]\n",
    "\n",
    "model_pipes = [(name, get_pipe(model, name)) for name, model in models]\n"
   ]
  },
  {
   "cell_type": "markdown",
   "metadata": {},
   "source": [
    "### 모델 훈련"
   ]
  },
  {
   "cell_type": "code",
   "execution_count": 6,
   "metadata": {
    "scrolled": false
   },
   "outputs": [
    {
     "name": "stderr",
     "output_type": "stream",
     "text": [
      "\r",
      "  0%|                                                                                            | 0/5 [00:00<?, ?it/s]"
     ]
    },
    {
     "name": "stdout",
     "output_type": "stream",
     "text": [
      "##################### naive_bayes #################### \n",
      "1th complete!\n",
      "2th complete!\n",
      "3th complete!\n",
      "4th complete!\n"
     ]
    },
    {
     "name": "stderr",
     "output_type": "stream",
     "text": [
      "\r",
      " 20%|████████████████▊                                                                   | 1/5 [00:01<00:07,  1.76s/it]"
     ]
    },
    {
     "name": "stdout",
     "output_type": "stream",
     "text": [
      "5th complete!\n",
      "##################### SGD #################### \n",
      "1th complete!\n",
      "2th complete!\n",
      "3th complete!\n",
      "4th complete!\n"
     ]
    },
    {
     "name": "stderr",
     "output_type": "stream",
     "text": [
      "\r",
      " 40%|█████████████████████████████████▌                                                  | 2/5 [00:03<00:05,  1.78s/it]"
     ]
    },
    {
     "name": "stdout",
     "output_type": "stream",
     "text": [
      "5th complete!\n",
      "##################### ada #################### \n",
      "1th complete!\n",
      "2th complete!\n",
      "3th complete!\n",
      "4th complete!\n"
     ]
    },
    {
     "name": "stderr",
     "output_type": "stream",
     "text": [
      "\r",
      " 60%|██████████████████████████████████████████████████▍                                 | 3/5 [01:24<00:50, 25.44s/it]"
     ]
    },
    {
     "name": "stdout",
     "output_type": "stream",
     "text": [
      "5th complete!\n",
      "##################### LR #################### \n",
      "1th complete!\n",
      "2th complete!\n",
      "3th complete!\n",
      "4th complete!\n"
     ]
    },
    {
     "name": "stderr",
     "output_type": "stream",
     "text": [
      "\r",
      " 80%|███████████████████████████████████████████████████████████████████▏                | 4/5 [01:28<00:19, 19.16s/it]"
     ]
    },
    {
     "name": "stdout",
     "output_type": "stream",
     "text": [
      "5th complete!\n",
      "##################### SVC #################### \n",
      "1th complete!\n",
      "2th complete!\n",
      "3th complete!\n",
      "4th complete!\n"
     ]
    },
    {
     "name": "stderr",
     "output_type": "stream",
     "text": [
      "                                                                                                                       "
     ]
    },
    {
     "name": "stdout",
     "output_type": "stream",
     "text": [
      "5th complete!\n"
     ]
    },
    {
     "name": "stderr",
     "output_type": "stream",
     "text": [
      "\r"
     ]
    },
    {
     "data": {
      "text/html": [
       "<pre style=\"white-space:pre;overflow-x:auto;line-height:normal;font-family:Menlo,'DejaVu Sans Mono',consolas,'Courier New',monospace\"><span style=\"font-style: italic\">  Model Comparison Table  </span>\n",
       "┏━━━━━━━━━━━━━┳━━━━━━━━━━┓\n",
       "┃<span style=\"font-weight: bold\"> Model Name  </span>┃<span style=\"font-weight: bold\"> Accuracy </span>┃\n",
       "┡━━━━━━━━━━━━━╇━━━━━━━━━━┩\n",
       "│<span style=\"color: #008000; text-decoration-color: #008000\"> naive_bayes </span>│    0.885 │\n",
       "│<span style=\"color: #008000; text-decoration-color: #008000\"> SGD         </span>│    0.866 │\n",
       "│<span style=\"color: #008000; text-decoration-color: #008000\"> ada         </span>│    0.820 │\n",
       "│<span style=\"color: #008000; text-decoration-color: #008000\"> LR          </span>│    0.874 │\n",
       "│<span style=\"color: #008000; text-decoration-color: #008000\"> SVC         </span>│    0.875 │\n",
       "└─────────────┴──────────┘\n",
       "</pre>\n"
      ],
      "text/plain": [
       "\u001b[3m  Model Comparison Table  \u001b[0m\n",
       "┏━━━━━━━━━━━━━┳━━━━━━━━━━┓\n",
       "┃\u001b[1m \u001b[0m\u001b[1mModel Name \u001b[0m\u001b[1m \u001b[0m┃\u001b[1m \u001b[0m\u001b[1mAccuracy\u001b[0m\u001b[1m \u001b[0m┃\n",
       "┡━━━━━━━━━━━━━╇━━━━━━━━━━┩\n",
       "│\u001b[32m \u001b[0m\u001b[32mnaive_bayes\u001b[0m\u001b[32m \u001b[0m│    0.885 │\n",
       "│\u001b[32m \u001b[0m\u001b[32mSGD        \u001b[0m\u001b[32m \u001b[0m│    0.866 │\n",
       "│\u001b[32m \u001b[0m\u001b[32mada        \u001b[0m\u001b[32m \u001b[0m│    0.820 │\n",
       "│\u001b[32m \u001b[0m\u001b[32mLR         \u001b[0m\u001b[32m \u001b[0m│    0.874 │\n",
       "│\u001b[32m \u001b[0m\u001b[32mSVC        \u001b[0m\u001b[32m \u001b[0m│    0.875 │\n",
       "└─────────────┴──────────┘\n"
      ]
     },
     "metadata": {},
     "output_type": "display_data"
    }
   ],
   "source": [
    "table = Table(title=\"Model Comparison Table\")\n",
    "table.add_column(\"Model Name\", justify=\"left\", style=\"green\")\n",
    "table.add_column(\"Accuracy\", justify=\"right\")\n",
    "\n",
    "for model_name, model in tqdm(model_pipes, leave=False):\n",
    "    print(f'##################### {model_name} #################### ')\n",
    "    acc = return_kfold_accuarcy(model)\n",
    "    table.add_row(model_name, f\"{acc:0.3f}\")\n",
    "\n",
    "rich.print(table)"
   ]
  },
  {
   "cell_type": "code",
   "execution_count": 7,
   "metadata": {},
   "outputs": [
    {
     "name": "stdout",
     "output_type": "stream",
     "text": [
      "1th complete!\n",
      "2th complete!\n",
      "3th complete!\n",
      "4th complete!\n",
      "5th complete!\n"
     ]
    },
    {
     "data": {
      "text/html": [
       "<pre style=\"white-space:pre;overflow-x:auto;line-height:normal;font-family:Menlo,'DejaVu Sans Mono',consolas,'Courier New',monospace\"><span style=\"color: #008080; text-decoration-color: #008080; font-weight: bold\">0.8868</span>\n",
       "</pre>\n"
      ],
      "text/plain": [
       "\u001b[1;36m0.8868\u001b[0m\n"
      ]
     },
     "metadata": {},
     "output_type": "display_data"
    }
   ],
   "source": [
    "stack_models = [(name, get_pipe(model, name)) for name, model in models]\n",
    "stacking = StackingClassifier(stack_models, verbose=2, n_jobs=-1)\n",
    "acc = return_kfold_accuarcy(stacking)\n",
    "rich.print(acc)"
   ]
  },
  {
   "cell_type": "markdown",
   "metadata": {},
   "source": [
    "### 결과물 생성"
   ]
  },
  {
   "cell_type": "code",
   "execution_count": 8,
   "metadata": {},
   "outputs": [],
   "source": [
    "stacking.fit(train_df[\"document\"], train_df[\"label\"])\n",
    "submission_pred = stacking.predict(test_df[\"document\"])"
   ]
  },
  {
   "cell_type": "code",
   "execution_count": 9,
   "metadata": {},
   "outputs": [
    {
     "data": {
      "text/html": [
       "<div>\n",
       "<style scoped>\n",
       "    .dataframe tbody tr th:only-of-type {\n",
       "        vertical-align: middle;\n",
       "    }\n",
       "\n",
       "    .dataframe tbody tr th {\n",
       "        vertical-align: top;\n",
       "    }\n",
       "\n",
       "    .dataframe thead th {\n",
       "        text-align: right;\n",
       "    }\n",
       "</style>\n",
       "<table border=\"1\" class=\"dataframe\">\n",
       "  <thead>\n",
       "    <tr style=\"text-align: right;\">\n",
       "      <th></th>\n",
       "      <th>id</th>\n",
       "      <th>label</th>\n",
       "    </tr>\n",
       "  </thead>\n",
       "  <tbody>\n",
       "    <tr>\n",
       "      <th>0</th>\n",
       "      <td>1</td>\n",
       "      <td>0</td>\n",
       "    </tr>\n",
       "    <tr>\n",
       "      <th>1</th>\n",
       "      <td>2</td>\n",
       "      <td>1</td>\n",
       "    </tr>\n",
       "    <tr>\n",
       "      <th>2</th>\n",
       "      <td>3</td>\n",
       "      <td>1</td>\n",
       "    </tr>\n",
       "    <tr>\n",
       "      <th>3</th>\n",
       "      <td>4</td>\n",
       "      <td>1</td>\n",
       "    </tr>\n",
       "    <tr>\n",
       "      <th>4</th>\n",
       "      <td>5</td>\n",
       "      <td>1</td>\n",
       "    </tr>\n",
       "    <tr>\n",
       "      <th>...</th>\n",
       "      <td>...</td>\n",
       "      <td>...</td>\n",
       "    </tr>\n",
       "    <tr>\n",
       "      <th>4995</th>\n",
       "      <td>4996</td>\n",
       "      <td>0</td>\n",
       "    </tr>\n",
       "    <tr>\n",
       "      <th>4996</th>\n",
       "      <td>4997</td>\n",
       "      <td>0</td>\n",
       "    </tr>\n",
       "    <tr>\n",
       "      <th>4997</th>\n",
       "      <td>4998</td>\n",
       "      <td>1</td>\n",
       "    </tr>\n",
       "    <tr>\n",
       "      <th>4998</th>\n",
       "      <td>4999</td>\n",
       "      <td>0</td>\n",
       "    </tr>\n",
       "    <tr>\n",
       "      <th>4999</th>\n",
       "      <td>5000</td>\n",
       "      <td>1</td>\n",
       "    </tr>\n",
       "  </tbody>\n",
       "</table>\n",
       "<p>5000 rows × 2 columns</p>\n",
       "</div>"
      ],
      "text/plain": [
       "        id  label\n",
       "0        1      0\n",
       "1        2      1\n",
       "2        3      1\n",
       "3        4      1\n",
       "4        5      1\n",
       "...    ...    ...\n",
       "4995  4996      0\n",
       "4996  4997      0\n",
       "4997  4998      1\n",
       "4998  4999      0\n",
       "4999  5000      1\n",
       "\n",
       "[5000 rows x 2 columns]"
      ]
     },
     "execution_count": 9,
     "metadata": {},
     "output_type": "execute_result"
    }
   ],
   "source": [
    "submission = pd.read_csv(\"./data/sample_submission.csv\")\n",
    "submission[\"label\"] = submission_pred\n",
    "submission"
   ]
  },
  {
   "cell_type": "code",
   "execution_count": 10,
   "metadata": {},
   "outputs": [],
   "source": [
    "submission.to_csv(\"./data/sub_movie.csv\", index=False)"
   ]
  },
  {
   "cell_type": "code",
   "execution_count": null,
   "metadata": {},
   "outputs": [],
   "source": []
  }
 ],
 "metadata": {
  "interpreter": {
   "hash": "b69a98d3df882577ba469635c4ab08c5ae67eaedfd3a57f311f98966a6edb2d0"
  },
  "kernelspec": {
   "display_name": "Python 3",
   "language": "python",
   "name": "python3"
  },
  "language_info": {
   "codemirror_mode": {
    "name": "ipython",
    "version": 3
   },
   "file_extension": ".py",
   "mimetype": "text/x-python",
   "name": "python",
   "nbconvert_exporter": "python",
   "pygments_lexer": "ipython3",
   "version": "3.6.13"
  }
 },
 "nbformat": 4,
 "nbformat_minor": 2
}
