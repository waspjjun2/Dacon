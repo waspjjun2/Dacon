{
 "cells": [
  {
   "cell_type": "markdown",
   "id": "495b776a",
   "metadata": {},
   "source": [
    "# Module import"
   ]
  },
  {
   "cell_type": "code",
   "execution_count": 1,
   "id": "69742659",
   "metadata": {},
   "outputs": [],
   "source": [
    "import numpy as np \n",
    "import pandas as pd\n",
    "\n",
    "from sklearn.metrics import f1_score\n",
    "from sklearn.model_selection import StratifiedKFold\n",
    "from sklearn.covariance import EllipticEnvelope\n",
    "from tqdm.notebook import tqdm\n",
    "\n",
    "import lightgbm \n",
    "from lightgbm import LGBMClassifier\n",
    "import optuna\n",
    "from optuna.samplers import TPESampler\n",
    "\n",
    "import torch\n",
    "\n",
    "import warnings\n",
    "warnings.filterwarnings(action='ignore')\n",
    "\n"
   ]
  },
  {
   "cell_type": "code",
   "execution_count": null,
   "id": "685672bf",
   "metadata": {},
   "outputs": [],
   "source": [
    "import numpy as np\n",
    "import pandas as pd\n",
    "import tensorflow as tf\n",
    "import matplotlib.pyplot as plt\n",
    "import seaborn as sns\n",
    "from sklearn.manifold import TSNE\n",
    "from sklearn.decomposition import PCA, TruncatedSVD\n",
    "import matplotlib.patches as mpatches\n",
    "import time\n",
    "import collections\n",
    "from collections import Counter\n",
    "\n",
    "from sklearn.neighbors import KNeighborsClassifier\n",
    "from sklearn.ensemble import RandomForestClassifier\n",
    "from sklearn.preprocessing import MinMaxScaler, MaxAbsScaler, RobustScaler, StandardScaler\n",
    "\n",
    "from sklearn.model_selection import train_test_split, GridSearchCV\n",
    "from sklearn.pipeline import make_pipeline\n",
    "from sklearn.metrics import precision_score, recall_score, f1_score, roc_auc_score, accuracy_score, classification_report\n",
    "from sklearn.model_selection import KFold, StratifiedKFold, StratifiedShuffleSplit, StratifiedKFold, cross_val_score\n",
    "\n",
    "import xgboost as xgb\n",
    "import optuna\n",
    "import umap"
   ]
  },
  {
   "cell_type": "markdown",
   "id": "84fd7deb",
   "metadata": {},
   "source": [
    "# Data Load"
   ]
  },
  {
   "cell_type": "code",
   "execution_count": 2,
   "id": "a5611ee1",
   "metadata": {},
   "outputs": [],
   "source": [
    "train = pd.read_csv('./dacon/train.csv')\n",
    "valid = pd.read_csv('./dacon/val.csv')\n",
    "test = pd.read_csv('./dacon/test.csv')"
   ]
  },
  {
   "cell_type": "code",
   "execution_count": 3,
   "id": "8912fc07",
   "metadata": {},
   "outputs": [],
   "source": [
    "trainset = train.drop(['ID'] , axis = 1) \n",
    "testset = test.drop(['ID'] , axis = 1) "
   ]
  },
  {
   "cell_type": "code",
   "execution_count": 4,
   "id": "ee782abb",
   "metadata": {},
   "outputs": [
    {
     "name": "stdout",
     "output_type": "stream",
     "text": [
      "0.0010540369615627855\n"
     ]
    }
   ],
   "source": [
    "fraud_ratio = valid['Class'].values.sum() / len(valid)\n",
    "print(fraud_ratio)"
   ]
  },
  {
   "cell_type": "code",
   "execution_count": 5,
   "id": "2f4127c3",
   "metadata": {},
   "outputs": [
    {
     "data": {
      "text/plain": [
       "EllipticEnvelope(contamination=0.0010540369615627855, random_state=42,\n",
       "                 support_fraction=0.994)"
      ]
     },
     "execution_count": 5,
     "metadata": {},
     "output_type": "execute_result"
    }
   ],
   "source": [
    "model = EllipticEnvelope(support_fraction = 0.994, contamination = fraud_ratio, random_state = 42) \n",
    "model.fit(trainset)"
   ]
  },
  {
   "cell_type": "markdown",
   "id": "e488bc6c",
   "metadata": {},
   "source": [
    "# Ensemble을 위한 test prediction value 1 획득"
   ]
  },
  {
   "cell_type": "code",
   "execution_count": 6,
   "id": "d410cd59",
   "metadata": {},
   "outputs": [],
   "source": [
    "def get_pred_label(model, x, k):\n",
    "  prob = model.score_samples(x)\n",
    "  prob = torch.tensor(prob, dtype = torch.float)\n",
    "  topk_indices = torch.topk(prob, k = k, largest = False).indices\n",
    "\n",
    "  pred = torch.zeros(len(x), dtype = torch.long)\n",
    "  pred[topk_indices] = 1\n",
    "  return pred , prob"
   ]
  },
  {
   "cell_type": "code",
   "execution_count": 7,
   "id": "62691ebe",
   "metadata": {},
   "outputs": [],
   "source": [
    "test_pred, _ = get_pred_label(model, testset, 313)"
   ]
  },
  {
   "cell_type": "code",
   "execution_count": 8,
   "id": "7b701166",
   "metadata": {},
   "outputs": [],
   "source": [
    "envelope_pred = np.array(test_pred)"
   ]
  },
  {
   "cell_type": "markdown",
   "id": "4b16129a",
   "metadata": {},
   "source": [
    "# 분류 모델링을 위한 trainset label 임의 획득"
   ]
  },
  {
   "cell_type": "code",
   "execution_count": 9,
   "id": "255b4a55",
   "metadata": {},
   "outputs": [],
   "source": [
    "# valid와 동일한 비율 118~120개 사이의 fraud label을 가질 거라 가정하여 label 획득\n",
    "# trainset의 label을 임의로 준 이유는 지도학습의 결과를 함께 앙상블하기 위함\n",
    "# 물론, 일정 부분 잘못된 label을 부여하고 학습을 하는 것이 논리에 어긋나지만 \n",
    "# 하나라도 사기 거래를 잘 찾아내는 것에 집중하기 위해 잘못된 label을 주고 모델 학습\n",
    "\n",
    "train_pred, _ = get_pred_label(model, trainset, 118)\n",
    "Y = np.array(train_pred)"
   ]
  },
  {
   "cell_type": "markdown",
   "id": "a2c6262c",
   "metadata": {},
   "source": [
    "# 모델 최적화 (optuna module 사용)"
   ]
  },
  {
   "cell_type": "code",
   "execution_count": null,
   "id": "40d2e8c6",
   "metadata": {},
   "outputs": [],
   "source": [
    "def RF_objective(trial: optuna.trial.Trial):\n",
    "    params = {\n",
    "        'objective': 'binary:logistic',\n",
    "        'eval_metric':'auc',\n",
    "        'booster':'gbtree',\n",
    "        'n_estimators': trial.suggest_int(\"n_estimators\", 100, 1000, step=10),\n",
    "        \"max_depth\": trial.suggest_int(\"max_depth\", 4, 10),\n",
    "        \n",
    "        'tree_method':'gpu_hist', 'predictor':'gpu_predictor', 'gpu_id': 0, # GPU 사용시\n",
    "        # \"tree_method\": 'exact', 'gpu_id': -1,  # CPU 사용시\n",
    "        \n",
    "        \"gamma\": trial.suggest_float(\"gamma\", 0.1, 1.0, log=True),\n",
    "        'min_child_weight': trial.suggest_int('min_child_weight', 1, 5),\n",
    "        'subsample': trial.suggest_discrete_uniform('subsample', 0.6, 1.0, 0.05),\n",
    "        \"colsample_bytree\": trial.suggest_float(\"colsample_bytree\", 0.5, 1.0),\n",
    "        \"colsample_bylevel\": trial.suggest_float(\"colsample_bylevel\", 0.5, 1.0),\n",
    "        \"colsample_bynode\": trial.suggest_float(\"colsample_bynode\", 0.5, 1.0),\n",
    "        \"reg_lambda\": trial.suggest_loguniform(\"reg_lambda\", 1e-2, 1),\n",
    "        \"reg_alpha\": trial.suggest_loguniform(\"reg_alpha\", 1e-2, 1),\n",
    "        'scale_pos_weight': scale_pos_weight\n",
    "        # 'early_stopping_rounds': trial.suggest_int('early_stopping_rounds', 5, 20, step=5)\n",
    "        \n",
    "        # \"learning_rate\": trial.suggest_uniform('learning_rate', 0.0001, 0.99),\n",
    "        # 'num_parallel_tree': trial.suggest_int(\"num_parallel_tree\", 1, 500) 추가하면 느려짐.\n",
    "    }\n",
    "\n",
    "    model = xgb.XGBClassifier(**params, random_state = 42, use_label_encoder = False, n_jobs=-1)\n",
    "    \n",
    "    cv = StratifiedShuffleSplit(n_splits=3, test_size=0.3, random_state=42)\n",
    "    score = cross_val_score(model, X, y, cv=cv, scoring=\"f1\", n_jobs=-1)\n",
    "    f1_mean = score.mean()\n",
    "\n",
    "    return f1_mean"
   ]
  },
  {
   "cell_type": "code",
   "execution_count": 37,
   "id": "07528576-814b-4e01-ae00-aeb0b8b07ce0",
   "metadata": {},
   "outputs": [],
   "source": [
    "# optuna.logging.set_verbosity(optuna.logging.WARNING)"
   ]
  },
  {
   "cell_type": "code",
   "execution_count": null,
   "id": "0a712254-4a4d-41e6-ae4a-62167a61ec93",
   "metadata": {},
   "outputs": [],
   "source": [
    "#Execute optuna and set hyperparameters\n",
    "RF_study = optuna.create_study(direction='maximize', pruner=optuna.pruners.MedianPruner(n_warmup_steps=5))\n",
    "RF_study.optimize(RF_objective, n_trials=1000)"
   ]
  },
  {
   "cell_type": "code",
   "execution_count": 47,
   "id": "a3994d54-9833-4129-8be7-5cb4947173e5",
   "metadata": {},
   "outputs": [
    {
     "data": {
      "text/plain": [
       "{'n_estimators': 460,\n",
       " 'max_depth': 4,\n",
       " 'gamma': 0.7155935590497422,\n",
       " 'min_child_weight': 1,\n",
       " 'subsample': 0.95,\n",
       " 'colsample_bytree': 0.8516143607917493,\n",
       " 'colsample_bylevel': 0.8499089569307289,\n",
       " 'colsample_bynode': 0.7783533814866374,\n",
       " 'reg_lambda': 0.20646353054278152,\n",
       " 'reg_alpha': 0.031101827218005206}"
      ]
     },
     "execution_count": 47,
     "metadata": {},
     "output_type": "execute_result"
    }
   ],
   "source": [
    "RF_study.best_params"
   ]
  },
  {
   "cell_type": "code",
   "execution_count": 48,
   "id": "537b57eb-a3b8-4c10-bae6-859847a7aad3",
   "metadata": {},
   "outputs": [],
   "source": [
    "#Create an instance with tuned hyperparameters\n",
    "rfc = xgb.XGBClassifier(**RF_study.best_params,\n",
    "                        objective='binary:logistic',\n",
    "                        eval_metric='auc',\n",
    "                        booster='gbtree',\n",
    "                        scale_pos_weight=scale_pos_weight\n",
    "                        random_state = 42,\n",
    "                        use_label_encoder = False, n_jobs=-1)"
   ]
  },
  {
   "cell_type": "code",
   "execution_count": 49,
   "id": "ec43142c-2d99-4b0e-b3d1-73182783b6b8",
   "metadata": {},
   "outputs": [
    {
     "data": {
      "text/html": [
       "<style>#sk-container-id-3 {color: black;background-color: white;}#sk-container-id-3 pre{padding: 0;}#sk-container-id-3 div.sk-toggleable {background-color: white;}#sk-container-id-3 label.sk-toggleable__label {cursor: pointer;display: block;width: 100%;margin-bottom: 0;padding: 0.3em;box-sizing: border-box;text-align: center;}#sk-container-id-3 label.sk-toggleable__label-arrow:before {content: \"▸\";float: left;margin-right: 0.25em;color: #696969;}#sk-container-id-3 label.sk-toggleable__label-arrow:hover:before {color: black;}#sk-container-id-3 div.sk-estimator:hover label.sk-toggleable__label-arrow:before {color: black;}#sk-container-id-3 div.sk-toggleable__content {max-height: 0;max-width: 0;overflow: hidden;text-align: left;background-color: #f0f8ff;}#sk-container-id-3 div.sk-toggleable__content pre {margin: 0.2em;color: black;border-radius: 0.25em;background-color: #f0f8ff;}#sk-container-id-3 input.sk-toggleable__control:checked~div.sk-toggleable__content {max-height: 200px;max-width: 100%;overflow: auto;}#sk-container-id-3 input.sk-toggleable__control:checked~label.sk-toggleable__label-arrow:before {content: \"▾\";}#sk-container-id-3 div.sk-estimator input.sk-toggleable__control:checked~label.sk-toggleable__label {background-color: #d4ebff;}#sk-container-id-3 div.sk-label input.sk-toggleable__control:checked~label.sk-toggleable__label {background-color: #d4ebff;}#sk-container-id-3 input.sk-hidden--visually {border: 0;clip: rect(1px 1px 1px 1px);clip: rect(1px, 1px, 1px, 1px);height: 1px;margin: -1px;overflow: hidden;padding: 0;position: absolute;width: 1px;}#sk-container-id-3 div.sk-estimator {font-family: monospace;background-color: #f0f8ff;border: 1px dotted black;border-radius: 0.25em;box-sizing: border-box;margin-bottom: 0.5em;}#sk-container-id-3 div.sk-estimator:hover {background-color: #d4ebff;}#sk-container-id-3 div.sk-parallel-item::after {content: \"\";width: 100%;border-bottom: 1px solid gray;flex-grow: 1;}#sk-container-id-3 div.sk-label:hover label.sk-toggleable__label {background-color: #d4ebff;}#sk-container-id-3 div.sk-serial::before {content: \"\";position: absolute;border-left: 1px solid gray;box-sizing: border-box;top: 0;bottom: 0;left: 50%;z-index: 0;}#sk-container-id-3 div.sk-serial {display: flex;flex-direction: column;align-items: center;background-color: white;padding-right: 0.2em;padding-left: 0.2em;position: relative;}#sk-container-id-3 div.sk-item {position: relative;z-index: 1;}#sk-container-id-3 div.sk-parallel {display: flex;align-items: stretch;justify-content: center;background-color: white;position: relative;}#sk-container-id-3 div.sk-item::before, #sk-container-id-3 div.sk-parallel-item::before {content: \"\";position: absolute;border-left: 1px solid gray;box-sizing: border-box;top: 0;bottom: 0;left: 50%;z-index: -1;}#sk-container-id-3 div.sk-parallel-item {display: flex;flex-direction: column;z-index: 1;position: relative;background-color: white;}#sk-container-id-3 div.sk-parallel-item:first-child::after {align-self: flex-end;width: 50%;}#sk-container-id-3 div.sk-parallel-item:last-child::after {align-self: flex-start;width: 50%;}#sk-container-id-3 div.sk-parallel-item:only-child::after {width: 0;}#sk-container-id-3 div.sk-dashed-wrapped {border: 1px dashed gray;margin: 0 0.4em 0.5em 0.4em;box-sizing: border-box;padding-bottom: 0.4em;background-color: white;}#sk-container-id-3 div.sk-label label {font-family: monospace;font-weight: bold;display: inline-block;line-height: 1.2em;}#sk-container-id-3 div.sk-label-container {text-align: center;}#sk-container-id-3 div.sk-container {/* jupyter's `normalize.less` sets `[hidden] { display: none; }` but bootstrap.min.css set `[hidden] { display: none !important; }` so we also need the `!important` here to be able to override the default hidden behavior on the sphinx rendered scikit-learn.org. See: https://github.com/scikit-learn/scikit-learn/issues/21755 */display: inline-block !important;position: relative;}#sk-container-id-3 div.sk-text-repr-fallback {display: none;}</style><div id=\"sk-container-id-3\" class=\"sk-top-container\"><div class=\"sk-text-repr-fallback\"><pre>XGBClassifier(base_score=0.5, booster=&#x27;gbtree&#x27;, callbacks=None,\n",
       "              colsample_bylevel=0.8499089569307289,\n",
       "              colsample_bynode=0.7783533814866374,\n",
       "              colsample_bytree=0.8516143607917493, early_stopping_rounds=None,\n",
       "              enable_categorical=False, eval_metric=&#x27;auc&#x27;,\n",
       "              gamma=0.7155935590497422, gpu_id=-1, grow_policy=&#x27;depthwise&#x27;,\n",
       "              importance_type=None, interaction_constraints=&#x27;&#x27;,\n",
       "              learning_rate=0.300000012, max_bin=256, max_cat_to_onehot=4,\n",
       "              max_delta_step=0, max_depth=4, max_leaves=0, min_child_weight=1,\n",
       "              missing=nan, monotone_constraints=&#x27;()&#x27;, n_estimators=460,\n",
       "              n_jobs=-1, num_parallel_tree=1, predictor=&#x27;auto&#x27;, random_state=42,\n",
       "              reg_alpha=0.031101827218005206, reg_lambda=0.20646353054278152, ...)</pre><b>In a Jupyter environment, please rerun this cell to show the HTML representation or trust the notebook. <br />On GitHub, the HTML representation is unable to render, please try loading this page with nbviewer.org.</b></div><div class=\"sk-container\" hidden><div class=\"sk-item\"><div class=\"sk-estimator sk-toggleable\"><input class=\"sk-toggleable__control sk-hidden--visually\" id=\"sk-estimator-id-3\" type=\"checkbox\" checked><label for=\"sk-estimator-id-3\" class=\"sk-toggleable__label sk-toggleable__label-arrow\">XGBClassifier</label><div class=\"sk-toggleable__content\"><pre>XGBClassifier(base_score=0.5, booster=&#x27;gbtree&#x27;, callbacks=None,\n",
       "              colsample_bylevel=0.8499089569307289,\n",
       "              colsample_bynode=0.7783533814866374,\n",
       "              colsample_bytree=0.8516143607917493, early_stopping_rounds=None,\n",
       "              enable_categorical=False, eval_metric=&#x27;auc&#x27;,\n",
       "              gamma=0.7155935590497422, gpu_id=-1, grow_policy=&#x27;depthwise&#x27;,\n",
       "              importance_type=None, interaction_constraints=&#x27;&#x27;,\n",
       "              learning_rate=0.300000012, max_bin=256, max_cat_to_onehot=4,\n",
       "              max_delta_step=0, max_depth=4, max_leaves=0, min_child_weight=1,\n",
       "              missing=nan, monotone_constraints=&#x27;()&#x27;, n_estimators=460,\n",
       "              n_jobs=-1, num_parallel_tree=1, predictor=&#x27;auto&#x27;, random_state=42,\n",
       "              reg_alpha=0.031101827218005206, reg_lambda=0.20646353054278152, ...)</pre></div></div></div></div></div>"
      ],
      "text/plain": [
       "XGBClassifier(base_score=0.5, booster='gbtree', callbacks=None,\n",
       "              colsample_bylevel=0.8499089569307289,\n",
       "              colsample_bynode=0.7783533814866374,\n",
       "              colsample_bytree=0.8516143607917493, early_stopping_rounds=None,\n",
       "              enable_categorical=False, eval_metric='auc',\n",
       "              gamma=0.7155935590497422, gpu_id=-1, grow_policy='depthwise',\n",
       "              importance_type=None, interaction_constraints='',\n",
       "              learning_rate=0.300000012, max_bin=256, max_cat_to_onehot=4,\n",
       "              max_delta_step=0, max_depth=4, max_leaves=0, min_child_weight=1,\n",
       "              missing=nan, monotone_constraints='()', n_estimators=460,\n",
       "              n_jobs=-1, num_parallel_tree=1, predictor='auto', random_state=42,\n",
       "              reg_alpha=0.031101827218005206, reg_lambda=0.20646353054278152, ...)"
      ]
     },
     "execution_count": 49,
     "metadata": {},
     "output_type": "execute_result"
    }
   ],
   "source": [
    "rfc.fit(trainset, Y)"
   ]
  },
  {
   "cell_type": "code",
   "execution_count": 50,
   "id": "7437a058-2cfe-44f3-82b7-225f9082ed40",
   "metadata": {},
   "outputs": [],
   "source": [
    "y_pred = rfc.predict(testset)"
   ]
  },
  {
   "cell_type": "markdown",
   "id": "07eb7ffd",
   "metadata": {},
   "source": [
    "# Ensemble을 위한 test prediction value 2 획득"
   ]
  },
  {
   "cell_type": "code",
   "execution_count": 14,
   "id": "9a77cf85",
   "metadata": {},
   "outputs": [],
   "source": [
    "# Ensemble 시,  AorB : true 조건을 사용한 이유는 \n",
    "# 두 예측 시스템에서 최소 1번이라도 fraud로 예측된 example은 fraud로 의사 결정을 내리기 위함\n",
    "# 이유 :: 사기 거래 탐지는 보수적인 의사 결정을 해야 옳다고 생각했기 때문에.\n",
    "\n",
    "sub = pd.read_csv('./dacon/sample_submission.csv')\n",
    "sub['Class'] = envelope_pred|y_pred # Ensemble \n",
    "sub.to_csv('./dacon/AorBans_result.csv', index = False)"
   ]
  },
  {
   "cell_type": "code",
   "execution_count": null,
   "id": "697e962e",
   "metadata": {},
   "outputs": [],
   "source": []
  },
  {
   "cell_type": "code",
   "execution_count": null,
   "id": "c5cce7f3",
   "metadata": {},
   "outputs": [],
   "source": []
  },
  {
   "cell_type": "code",
   "execution_count": null,
   "id": "2dc18c8d",
   "metadata": {},
   "outputs": [],
   "source": []
  },
  {
   "cell_type": "code",
   "execution_count": null,
   "id": "5560471b",
   "metadata": {},
   "outputs": [],
   "source": []
  },
  {
   "cell_type": "code",
   "execution_count": null,
   "id": "e3e8baa4",
   "metadata": {},
   "outputs": [],
   "source": []
  }
 ],
 "metadata": {
  "kernelspec": {
   "display_name": "Python 3",
   "language": "python",
   "name": "python3"
  },
  "language_info": {
   "codemirror_mode": {
    "name": "ipython",
    "version": 3
   },
   "file_extension": ".py",
   "mimetype": "text/x-python",
   "name": "python",
   "nbconvert_exporter": "python",
   "pygments_lexer": "ipython3",
   "version": "3.6.13"
  }
 },
 "nbformat": 4,
 "nbformat_minor": 5
}
