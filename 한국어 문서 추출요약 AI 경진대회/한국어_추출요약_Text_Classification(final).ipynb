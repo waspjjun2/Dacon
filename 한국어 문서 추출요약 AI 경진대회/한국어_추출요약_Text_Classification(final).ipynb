{
 "cells": [
  {
   "cell_type": "markdown",
   "metadata": {
    "id": "BttvidaMe7kI"
   },
   "source": [
    "## 0. 코드 및 대회 설명\n",
    "- 이 코드는 데이콘에서 진행한 한국어 문서 추출요약 AI 경진대회(https://dacon.io/competitions/official/235671/overview/) 에서 사용한 코드입니다.\n",
    "- 본 대회는 주어진 기사 데이터(train.jsonl)의 각 기사마다 중요한 문장을 3개씩 뽑는 대회였으며, 저희 팀은 TextRank, KR-wordrank 패키지, 그리고 자체적으로 피처를 만들어 분류 문제로 바꿔 문제를 해결하였습니다. 이 코드는 분류 문제로 바꿔 문제를 해결한 코드입니다.\n",
    "- 중앙대학교 2020-2학기 `데이터마이닝(2)` 수업에서 진행한 팀 프로젝트입니다.\n",
    "- 자세한 코드 설명은 프로젝트 수행 보고서 파일을 참고해주세요."
   ]
  },
  {
   "cell_type": "markdown",
   "metadata": {
    "id": "HzAWd4KBeos-"
   },
   "source": [
    "## 1. 데이터 불러오기 및 데이터 전처리"
   ]
  },
  {
   "cell_type": "code",
   "execution_count": null,
   "metadata": {
    "id": "vrLDkbWpjoxH"
   },
   "outputs": [],
   "source": [
    "#필요한 패키지 로드\n",
    "import json\n",
    "import numpy as np\n",
    "import pandas as pd\n",
    "\n",
    "import os\n",
    "import re\n",
    "import matplotlib.pyplot as plt"
   ]
  },
  {
   "cell_type": "code",
   "execution_count": null,
   "metadata": {
    "colab": {
     "base_uri": "https://localhost:8080/",
     "height": 195
    },
    "id": "Rid6kZ6Hj9bD",
    "outputId": "bdd3dbcc-cd7e-497d-963d-016acfac687e"
   },
   "outputs": [
    {
     "data": {
      "text/html": [
       "<div>\n",
       "<style scoped>\n",
       "    .dataframe tbody tr th:only-of-type {\n",
       "        vertical-align: middle;\n",
       "    }\n",
       "\n",
       "    .dataframe tbody tr th {\n",
       "        vertical-align: top;\n",
       "    }\n",
       "\n",
       "    .dataframe thead th {\n",
       "        text-align: right;\n",
       "    }\n",
       "</style>\n",
       "<table border=\"1\" class=\"dataframe\">\n",
       "  <thead>\n",
       "    <tr style=\"text-align: right;\">\n",
       "      <th></th>\n",
       "      <th>media</th>\n",
       "      <th>id</th>\n",
       "      <th>article_original</th>\n",
       "      <th>abstractive</th>\n",
       "      <th>extractive</th>\n",
       "    </tr>\n",
       "  </thead>\n",
       "  <tbody>\n",
       "    <tr>\n",
       "      <th>0</th>\n",
       "      <td>당진시대</td>\n",
       "      <td>327827480</td>\n",
       "      <td>[당진시 문화관광과를 대상으로 하는 행정사무감사에서 당진시립합창단 관계자가 보낸 것...</td>\n",
       "      <td>지난 6일 당진시의회 행정사무감사에서 '합창단이 소리를 작게 낼 것이니 알고 있으라...</td>\n",
       "      <td>[0, 1, 2]</td>\n",
       "    </tr>\n",
       "    <tr>\n",
       "      <th>1</th>\n",
       "      <td>국제신문</td>\n",
       "      <td>339840364</td>\n",
       "      <td>[미국 메이저리그(MLB)에서 활동하는 한국 선수들의 시즌 초반 희비가 엇갈리고 있...</td>\n",
       "      <td>LA 에인절스의 최지만이 맹활약을 하여 시즌 타율 0.250에서 0.313으로 올리...</td>\n",
       "      <td>[0, 1, 3]</td>\n",
       "    </tr>\n",
       "    <tr>\n",
       "      <th>2</th>\n",
       "      <td>기호일보</td>\n",
       "      <td>371071597</td>\n",
       "      <td>[인천 부영공원 운영 생활야구협회 80여 동호회 팀에 260만 원씩 받아, 국유지로...</td>\n",
       "      <td>16일 부평구와 협회 등에 따르면 부영공원 안에 있는 야구장을 구생활체육야구협회가 ...</td>\n",
       "      <td>[6, 7, 10]</td>\n",
       "    </tr>\n",
       "    <tr>\n",
       "      <th>3</th>\n",
       "      <td>대구일보</td>\n",
       "      <td>354806783</td>\n",
       "      <td>[대구·경북첨단의료산업진흥재단 의약생산센터는 항암주사제 무균충전 시설을 갖추고 있다...</td>\n",
       "      <td>대구·경북첨단의료산업진흥재단 의약생산센터는 약사법 시행규칙에서 정한 바에 따라 전용...</td>\n",
       "      <td>[1, 6, 4]</td>\n",
       "    </tr>\n",
       "    <tr>\n",
       "      <th>4</th>\n",
       "      <td>대구신문</td>\n",
       "      <td>347022773</td>\n",
       "      <td>[국내 유통되는 탄산음료 중 식품의약품안전처에 품질인증을 받은 제품이 하나도 없는 ...</td>\n",
       "      <td>식품의약품안전처는 29일 어린이가 즐겨마시는 음료를 대상으로 영양성분을 조사한 결과...</td>\n",
       "      <td>[2, 3, 10]</td>\n",
       "    </tr>\n",
       "  </tbody>\n",
       "</table>\n",
       "</div>"
      ],
      "text/plain": [
       "  media  ...  extractive\n",
       "0  당진시대  ...   [0, 1, 2]\n",
       "1  국제신문  ...   [0, 1, 3]\n",
       "2  기호일보  ...  [6, 7, 10]\n",
       "3  대구일보  ...   [1, 6, 4]\n",
       "4  대구신문  ...  [2, 3, 10]\n",
       "\n",
       "[5 rows x 5 columns]"
      ]
     },
     "execution_count": 47,
     "metadata": {
      "tags": []
     },
     "output_type": "execute_result"
    }
   ],
   "source": [
    "train = pd.read_json('drive/MyDrive/train.jsonl', encoding = 'UTF-8', lines=True)\n",
    "train.head()"
   ]
  },
  {
   "cell_type": "code",
   "execution_count": null,
   "metadata": {
    "colab": {
     "base_uri": "https://localhost:8080/"
    },
    "id": "nAGoK46E_1F4",
    "outputId": "fe3063f0-ceb8-486c-e0d3-325b3f276a19"
   },
   "outputs": [
    {
     "data": {
      "text/plain": [
       "(42803, 5)"
      ]
     },
     "execution_count": 48,
     "metadata": {
      "tags": []
     },
     "output_type": "execute_result"
    }
   ],
   "source": [
    "train.shape"
   ]
  },
  {
   "cell_type": "markdown",
   "metadata": {
    "id": "YrPGqNrEel4x"
   },
   "source": [
    "### 1) Bias 피처 생성"
   ]
  },
  {
   "cell_type": "code",
   "execution_count": 1,
   "metadata": {
    "colab": {
     "base_uri": "https://localhost:8080/"
    },
    "id": "T0W6tGEZdXrI",
    "outputId": "4e0c1e75-b610-4192-9044-2f158aaf9010"
   },
   "outputs": [],
   "source": [
    "medialist = list(train['media'].value_counts().index)\n",
    "\n",
    "biasdat = pd.DataFrame(columns=['bias', 'id2'])\n",
    "\n",
    "for media in medialist:\n",
    "\n",
    "    # define dataset\n",
    "    mediatrain = train.loc[train['media'] == media,]\n",
    "    mediatrain.reset_index(drop=True, inplace=True) # index 초기화해서 for문 돌게!\n",
    "\n",
    "    # define bias vector\n",
    "    fullext = []\n",
    "\n",
    "    for i, ext in enumerate(mediatrain['extractive']):\n",
    "        for element in ext:\n",
    "            fullext.append(element)\n",
    "\n",
    "    pdfullext = pd.DataFrame({'number' : fullext})\n",
    "    count = pdfullext['number'].value_counts()\n",
    "    countdf = count.rename_axis('unique_values').reset_index(name='counts')\n",
    "    countdf = pd.DataFrame(countdf)\n",
    "    countdf.sort_values(by = ['unique_values'], axis=0, inplace=True)\n",
    "    \n",
    "    mediabiasdat = pd.DataFrame(index=range(0,len(mediatrain)), columns=['bias', 'id2'])\n",
    "    \n",
    "    for i in range(len(mediatrain)):\n",
    "        lenart = len(mediatrain['article_original'][i])\n",
    "\n",
    "        # 가지고 있는 편향 벡터보다 길면\n",
    "        if lenart >= len(countdf): \n",
    "            # 가지고 있는 편향 벡터만큼 생성\n",
    "            ogbias = np.array(countdf['counts'][:len(countdf)] / countdf['counts'][len(countdf)-1])\n",
    "            # 나머지 길이는 전부 다 가중치 1로 동일하게\n",
    "            others = np.ones(len(mediatrain['article_original'][i]) - len(countdf)) \n",
    "            # 두 벡터를 합쳐서 최종 편향 벡터 구성\n",
    "            biasdf = np.concatenate((ogbias,others)) \n",
    "        else :\n",
    "            biasdf = np.array(countdf['counts'][:lenart] / countdf['counts'][lenart-1])\n",
    "        \n",
    "        \n",
    "        mediabiasdat['id2'][i] = mediatrain['id'][i]\n",
    "        mediabiasdat['bias'][i] = biasdf\n",
    "        print('{}th complete!'.format(i))\n",
    "        \n",
    "    biasdat = pd.concat([biasdat, mediabiasdat],\n",
    "                        join='inner',\n",
    "                       ignore_index=True)"
   ]
  },
  {
   "cell_type": "code",
   "execution_count": null,
   "metadata": {
    "colab": {
     "base_uri": "https://localhost:8080/",
     "height": 212
    },
    "id": "uCF2X3ERdXzB",
    "outputId": "d4f99c2f-e823-4eb7-948b-7c5b264b665f"
   },
   "outputs": [
    {
     "name": "stdout",
     "output_type": "stream",
     "text": [
      "(42803, 2)\n"
     ]
    },
    {
     "data": {
      "text/html": [
       "<div>\n",
       "<style scoped>\n",
       "    .dataframe tbody tr th:only-of-type {\n",
       "        vertical-align: middle;\n",
       "    }\n",
       "\n",
       "    .dataframe tbody tr th {\n",
       "        vertical-align: top;\n",
       "    }\n",
       "\n",
       "    .dataframe thead th {\n",
       "        text-align: right;\n",
       "    }\n",
       "</style>\n",
       "<table border=\"1\" class=\"dataframe\">\n",
       "  <thead>\n",
       "    <tr style=\"text-align: right;\">\n",
       "      <th></th>\n",
       "      <th>bias</th>\n",
       "      <th>id2</th>\n",
       "    </tr>\n",
       "  </thead>\n",
       "  <tbody>\n",
       "    <tr>\n",
       "      <th>0</th>\n",
       "      <td>[73.03508771929825, 73.0701754385965, 59.92982...</td>\n",
       "      <td>371071597</td>\n",
       "    </tr>\n",
       "    <tr>\n",
       "      <th>1</th>\n",
       "      <td>[5.587919463087248, 5.590604026845638, 4.58523...</td>\n",
       "      <td>359531654</td>\n",
       "    </tr>\n",
       "    <tr>\n",
       "      <th>2</th>\n",
       "      <td>[32.5234375, 32.5390625, 26.6875, 18.3671875, ...</td>\n",
       "      <td>362074213</td>\n",
       "    </tr>\n",
       "    <tr>\n",
       "      <th>3</th>\n",
       "      <td>[19.09633027522936, 19.105504587155963, 15.669...</td>\n",
       "      <td>353044329</td>\n",
       "    </tr>\n",
       "    <tr>\n",
       "      <th>4</th>\n",
       "      <td>[6.9267886855241265, 6.930116472545757, 5.6838...</td>\n",
       "      <td>365168679</td>\n",
       "    </tr>\n",
       "  </tbody>\n",
       "</table>\n",
       "</div>"
      ],
      "text/plain": [
       "                                                bias        id2\n",
       "0  [73.03508771929825, 73.0701754385965, 59.92982...  371071597\n",
       "1  [5.587919463087248, 5.590604026845638, 4.58523...  359531654\n",
       "2  [32.5234375, 32.5390625, 26.6875, 18.3671875, ...  362074213\n",
       "3  [19.09633027522936, 19.105504587155963, 15.669...  353044329\n",
       "4  [6.9267886855241265, 6.930116472545757, 5.6838...  365168679"
      ]
     },
     "execution_count": 50,
     "metadata": {
      "tags": []
     },
     "output_type": "execute_result"
    }
   ],
   "source": [
    "print(biasdat.shape)\n",
    "biasdat.head()"
   ]
  },
  {
   "cell_type": "code",
   "execution_count": null,
   "metadata": {
    "colab": {
     "base_uri": "https://localhost:8080/",
     "height": 279
    },
    "id": "QYf-ChWvdX3j",
    "outputId": "a2b3928f-d8a2-43c0-d354-51b3f7670a9e"
   },
   "outputs": [
    {
     "data": {
      "text/html": [
       "<div>\n",
       "<style scoped>\n",
       "    .dataframe tbody tr th:only-of-type {\n",
       "        vertical-align: middle;\n",
       "    }\n",
       "\n",
       "    .dataframe tbody tr th {\n",
       "        vertical-align: top;\n",
       "    }\n",
       "\n",
       "    .dataframe thead th {\n",
       "        text-align: right;\n",
       "    }\n",
       "</style>\n",
       "<table border=\"1\" class=\"dataframe\">\n",
       "  <thead>\n",
       "    <tr style=\"text-align: right;\">\n",
       "      <th></th>\n",
       "      <th>media</th>\n",
       "      <th>id</th>\n",
       "      <th>article_original</th>\n",
       "      <th>abstractive</th>\n",
       "      <th>extractive</th>\n",
       "      <th>bias</th>\n",
       "    </tr>\n",
       "  </thead>\n",
       "  <tbody>\n",
       "    <tr>\n",
       "      <th>0</th>\n",
       "      <td>당진시대</td>\n",
       "      <td>327827480</td>\n",
       "      <td>[당진시 문화관광과를 대상으로 하는 행정사무감사에서 당진시립합창단 관계자가 보낸 것...</td>\n",
       "      <td>지난 6일 당진시의회 행정사무감사에서 '합창단이 소리를 작게 낼 것이니 알고 있으라...</td>\n",
       "      <td>[0, 1, 2]</td>\n",
       "      <td>[6.567741935483871, 8.141935483870968, 6.37419...</td>\n",
       "    </tr>\n",
       "    <tr>\n",
       "      <th>1</th>\n",
       "      <td>국제신문</td>\n",
       "      <td>339840364</td>\n",
       "      <td>[미국 메이저리그(MLB)에서 활동하는 한국 선수들의 시즌 초반 희비가 엇갈리고 있...</td>\n",
       "      <td>LA 에인절스의 최지만이 맹활약을 하여 시즌 타율 0.250에서 0.313으로 올리...</td>\n",
       "      <td>[0, 1, 3]</td>\n",
       "      <td>[46.44155844155844, 38.61038961038961, 36.5454...</td>\n",
       "    </tr>\n",
       "    <tr>\n",
       "      <th>2</th>\n",
       "      <td>기호일보</td>\n",
       "      <td>371071597</td>\n",
       "      <td>[인천 부영공원 운영 생활야구협회 80여 동호회 팀에 260만 원씩 받아, 국유지로...</td>\n",
       "      <td>16일 부평구와 협회 등에 따르면 부영공원 안에 있는 야구장을 구생활체육야구협회가 ...</td>\n",
       "      <td>[6, 7, 10]</td>\n",
       "      <td>[73.03508771929825, 73.0701754385965, 59.92982...</td>\n",
       "    </tr>\n",
       "    <tr>\n",
       "      <th>3</th>\n",
       "      <td>대구일보</td>\n",
       "      <td>354806783</td>\n",
       "      <td>[대구·경북첨단의료산업진흥재단 의약생산센터는 항암주사제 무균충전 시설을 갖추고 있다...</td>\n",
       "      <td>대구·경북첨단의료산업진흥재단 의약생산센터는 약사법 시행규칙에서 정한 바에 따라 전용...</td>\n",
       "      <td>[1, 6, 4]</td>\n",
       "      <td>[9.920529801324504, 11.178807947019868, 10.788...</td>\n",
       "    </tr>\n",
       "    <tr>\n",
       "      <th>4</th>\n",
       "      <td>대구신문</td>\n",
       "      <td>347022773</td>\n",
       "      <td>[국내 유통되는 탄산음료 중 식품의약품안전처에 품질인증을 받은 제품이 하나도 없는 ...</td>\n",
       "      <td>식품의약품안전처는 29일 어린이가 즐겨마시는 음료를 대상으로 영양성분을 조사한 결과...</td>\n",
       "      <td>[2, 3, 10]</td>\n",
       "      <td>[25.94047619047619, 26.357142857142858, 23.380...</td>\n",
       "    </tr>\n",
       "  </tbody>\n",
       "</table>\n",
       "</div>"
      ],
      "text/plain": [
       "  media  ...                                               bias\n",
       "0  당진시대  ...  [6.567741935483871, 8.141935483870968, 6.37419...\n",
       "1  국제신문  ...  [46.44155844155844, 38.61038961038961, 36.5454...\n",
       "2  기호일보  ...  [73.03508771929825, 73.0701754385965, 59.92982...\n",
       "3  대구일보  ...  [9.920529801324504, 11.178807947019868, 10.788...\n",
       "4  대구신문  ...  [25.94047619047619, 26.357142857142858, 23.380...\n",
       "\n",
       "[5 rows x 6 columns]"
      ]
     },
     "execution_count": 51,
     "metadata": {
      "tags": []
     },
     "output_type": "execute_result"
    }
   ],
   "source": [
    "train = pd.merge(train, biasdat, left_on = 'id', right_on='id2')\n",
    "train.drop(['id2'], axis=1, inplace=True)\n",
    "train.head()"
   ]
  },
  {
   "cell_type": "markdown",
   "metadata": {
    "id": "tLUt2Dp7rbOq"
   },
   "source": [
    "### 2) train/validation set split\n",
    "- 이후에 sentence별로 split을 하면 기사들이 섞이는 문제 -> 미리 나눠놓은 후, train 및 validation set 각각에 대해 전처리 진행 "
   ]
  },
  {
   "cell_type": "code",
   "execution_count": null,
   "metadata": {
    "id": "XcS84d1DrqiX"
   },
   "outputs": [],
   "source": [
    "#id 기준, train set과 val set은 8:2의 비율로 나눔 \n",
    "from sklearn.model_selection import train_test_split\n",
    "\n",
    "X_df = train.drop('id', axis=1)\n",
    "y_df = train.loc[:,'id']\n",
    "X_train, X_val, y_train, y_val = train_test_split(X_df, y_df, test_size=0.2, random_state=99, shuffle=True)"
   ]
  },
  {
   "cell_type": "code",
   "execution_count": null,
   "metadata": {
    "colab": {
     "base_uri": "https://localhost:8080/"
    },
    "id": "-KP5uVWKtptd",
    "outputId": "84c566ac-5122-419c-fe72-ae52f0a59bb5"
   },
   "outputs": [
    {
     "name": "stdout",
     "output_type": "stream",
     "text": [
      "(34242, 5) (8561, 5)\n",
      "        media  ...                                               bias\n",
      "11439    국제신문  ...  [10.642857142857142, 8.848214285714286, 8.375,...\n",
      "15262    대구신문  ...  [48.422222222222224, 49.2, 43.644444444444446,...\n",
      "34201    기호일보  ...  [4.457173447537473, 4.4593147751606, 3.6573875...\n",
      "7198     기호일보  ...  [6.9267886855241265, 6.930116472545757, 5.6838...\n",
      "26763  광주매일신문  ...  [10.860759493670885, 8.30379746835443, 7.16033...\n",
      "\n",
      "[5 rows x 5 columns]\n"
     ]
    }
   ],
   "source": [
    "print(X_train.shape, X_val.shape)\n",
    "print(X_train.head())"
   ]
  },
  {
   "cell_type": "code",
   "execution_count": null,
   "metadata": {
    "colab": {
     "base_uri": "https://localhost:8080/",
     "height": 279
    },
    "id": "eAITiRZntzkp",
    "outputId": "63855044-6c43-40db-ad20-3060c9bfdab3"
   },
   "outputs": [
    {
     "data": {
      "text/html": [
       "<div>\n",
       "<style scoped>\n",
       "    .dataframe tbody tr th:only-of-type {\n",
       "        vertical-align: middle;\n",
       "    }\n",
       "\n",
       "    .dataframe tbody tr th {\n",
       "        vertical-align: top;\n",
       "    }\n",
       "\n",
       "    .dataframe thead th {\n",
       "        text-align: right;\n",
       "    }\n",
       "</style>\n",
       "<table border=\"1\" class=\"dataframe\">\n",
       "  <thead>\n",
       "    <tr style=\"text-align: right;\">\n",
       "      <th></th>\n",
       "      <th>media</th>\n",
       "      <th>article_original</th>\n",
       "      <th>abstractive</th>\n",
       "      <th>extractive</th>\n",
       "      <th>bias</th>\n",
       "      <th>id</th>\n",
       "    </tr>\n",
       "  </thead>\n",
       "  <tbody>\n",
       "    <tr>\n",
       "      <th>0</th>\n",
       "      <td>국제신문</td>\n",
       "      <td>[부산시가 2032년 하계올림픽 국내 유치 신청 도시 선정을 앞두고 경쟁 도시인 서...</td>\n",
       "      <td>부산시가 2032년 하계올림픽 국내 유치 신청 도시 선정을 앞두고 경쟁 도시인 서울...</td>\n",
       "      <td>[0, 5, 3]</td>\n",
       "      <td>[10.642857142857142, 8.848214285714286, 8.375,...</td>\n",
       "      <td>333727228</td>\n",
       "    </tr>\n",
       "    <tr>\n",
       "      <th>1</th>\n",
       "      <td>대구신문</td>\n",
       "      <td>[원전해체 산업 육성 추진도 청와대가 16일 기업 활동 지원방안과 관련해 대규모 투...</td>\n",
       "      <td>정부는 공경경제장관회의에서 소득주도성장 및 혁신성장, 소비자 권익 보호에 관한 논의...</td>\n",
       "      <td>[0, 2, 15]</td>\n",
       "      <td>[48.422222222222224, 49.2, 43.644444444444446,...</td>\n",
       "      <td>331235501</td>\n",
       "    </tr>\n",
       "    <tr>\n",
       "      <th>2</th>\n",
       "      <td>기호일보</td>\n",
       "      <td>[오산시는 지난 11일 지역경제 활성화 및 하반기 신속집행 적극적 추진을 위해 20...</td>\n",
       "      <td>오산시는 11일  2019년 하반기 신속집행 부진부서 보고회 자리에서 김문환 부시장...</td>\n",
       "      <td>[0, 5, 3]</td>\n",
       "      <td>[4.457173447537473, 4.4593147751606, 3.6573875...</td>\n",
       "      <td>366943194</td>\n",
       "    </tr>\n",
       "    <tr>\n",
       "      <th>3</th>\n",
       "      <td>기호일보</td>\n",
       "      <td>[이천시가 시민의 적극적이고 능동적인 시정참여를 위한 ‘시민이 주인인 학교’ 1기 ...</td>\n",
       "      <td>이천시가 '시민이 주인인 이천'을 구현하기 위해 올해부터 추진 중인 민주시민교육 '...</td>\n",
       "      <td>[0, 1, 4]</td>\n",
       "      <td>[6.9267886855241265, 6.930116472545757, 5.6838...</td>\n",
       "      <td>358892168</td>\n",
       "    </tr>\n",
       "    <tr>\n",
       "      <th>4</th>\n",
       "      <td>광주매일신문</td>\n",
       "      <td>[전남도는 28일 “축산농가 생산비 절감 및 최적의 사양관리 등 경쟁력 강화를 위해...</td>\n",
       "      <td>28일 전남도는 “축산농가 생산비 절감 및 최적의 사양관리 등 경쟁력 강화를 위해 ...</td>\n",
       "      <td>[0, 4, 9]</td>\n",
       "      <td>[10.860759493670885, 8.30379746835443, 7.16033...</td>\n",
       "      <td>368911616</td>\n",
       "    </tr>\n",
       "  </tbody>\n",
       "</table>\n",
       "</div>"
      ],
      "text/plain": [
       "    media  ...         id\n",
       "0    국제신문  ...  333727228\n",
       "1    대구신문  ...  331235501\n",
       "2    기호일보  ...  366943194\n",
       "3    기호일보  ...  358892168\n",
       "4  광주매일신문  ...  368911616\n",
       "\n",
       "[5 rows x 6 columns]"
      ]
     },
     "execution_count": 54,
     "metadata": {
      "tags": []
     },
     "output_type": "execute_result"
    }
   ],
   "source": [
    "#다시 train, val set으로 묶기\n",
    "train = X_train.copy()\n",
    "val = X_val.copy()\n",
    "train['id'] = y_train\n",
    "val['id'] = y_val\n",
    "train.reset_index(inplace=True, drop=True)\n",
    "val.reset_index(inplace=True, drop=True)\n",
    "train.head()"
   ]
  },
  {
   "cell_type": "code",
   "execution_count": null,
   "metadata": {
    "colab": {
     "base_uri": "https://localhost:8080/",
     "height": 279
    },
    "id": "_ThQU3TxuG2-",
    "outputId": "33a7376f-38f9-4086-84d1-abb944f9fe46"
   },
   "outputs": [
    {
     "data": {
      "text/html": [
       "<div>\n",
       "<style scoped>\n",
       "    .dataframe tbody tr th:only-of-type {\n",
       "        vertical-align: middle;\n",
       "    }\n",
       "\n",
       "    .dataframe tbody tr th {\n",
       "        vertical-align: top;\n",
       "    }\n",
       "\n",
       "    .dataframe thead th {\n",
       "        text-align: right;\n",
       "    }\n",
       "</style>\n",
       "<table border=\"1\" class=\"dataframe\">\n",
       "  <thead>\n",
       "    <tr style=\"text-align: right;\">\n",
       "      <th></th>\n",
       "      <th>media</th>\n",
       "      <th>article_original</th>\n",
       "      <th>abstractive</th>\n",
       "      <th>extractive</th>\n",
       "      <th>bias</th>\n",
       "      <th>id</th>\n",
       "    </tr>\n",
       "  </thead>\n",
       "  <tbody>\n",
       "    <tr>\n",
       "      <th>0</th>\n",
       "      <td>기호일보</td>\n",
       "      <td>[포토 : 바세린, [기호일보=디지털뉴스부] 요근래 매일매일 다채로운 Quiz를 내...</td>\n",
       "      <td>매일 다채로운 Quiz 를 내놓고 있는 'TOSS'가 '바세린 바른 입술'과 관련한...</td>\n",
       "      <td>[1, 3, 5]</td>\n",
       "      <td>[6.9267886855241265, 6.930116472545757, 5.6838...</td>\n",
       "      <td>366196093</td>\n",
       "    </tr>\n",
       "    <tr>\n",
       "      <th>1</th>\n",
       "      <td>경기일보</td>\n",
       "      <td>[인천 서구가 미세먼지 줄이기, 보육의 질 향상, 일자리 창출에 나선다., 서구는 ...</td>\n",
       "      <td>인천 서구는 올해 미세먼지 저감대책 마련, 보육의 질 향상, 일자리 창출을 집중적으...</td>\n",
       "      <td>[2, 10, 16]</td>\n",
       "      <td>[73.10526315789474, 70.94736842105263, 54.2631...</td>\n",
       "      <td>333606877</td>\n",
       "    </tr>\n",
       "    <tr>\n",
       "      <th>2</th>\n",
       "      <td>대구신문</td>\n",
       "      <td>[경주시는 지난 17일 시청에서 노사발전재단과 지역일자리 컨설팅 지원사업 협약식을 ...</td>\n",
       "      <td>경주시는 17일 노사발전재단과 지역 일자리 모델 개발을 위한 컨설팅과 사업운영을 지...</td>\n",
       "      <td>[1, 2, 3]</td>\n",
       "      <td>[3.5546492659053834, 3.6117455138662318, 3.203...</td>\n",
       "      <td>345653499</td>\n",
       "    </tr>\n",
       "    <tr>\n",
       "      <th>3</th>\n",
       "      <td>국제신문</td>\n",
       "      <td>[- “김해신공항은 제2의 4대강 사업, - 출향 공무원 부산네트워크 필요”, 오거...</td>\n",
       "      <td>3일 주요 현안에 대한 중앙부처 공무원의 관심과 협조를 당부하고자 정부세종청사에 마...</td>\n",
       "      <td>[2, 4, 3]</td>\n",
       "      <td>[9.076142131979696, 7.5456852791878175, 7.1421...</td>\n",
       "      <td>340082244</td>\n",
       "    </tr>\n",
       "    <tr>\n",
       "      <th>4</th>\n",
       "      <td>당진시대</td>\n",
       "      <td>[▲ 제36회 교정대상에서 공로상을 수상한 이재원 대표(왼)가 박상기 법무부 장관(...</td>\n",
       "      <td>읍내동에서 의류 브랜드 아날도바시니 당진점을 운영하고 있는 이재원 대표가 수용자 교...</td>\n",
       "      <td>[1, 2, 3]</td>\n",
       "      <td>[30.848484848484848, 38.24242424242424, 29.939...</td>\n",
       "      <td>305296115</td>\n",
       "    </tr>\n",
       "  </tbody>\n",
       "</table>\n",
       "</div>"
      ],
      "text/plain": [
       "  media  ...         id\n",
       "0  기호일보  ...  366196093\n",
       "1  경기일보  ...  333606877\n",
       "2  대구신문  ...  345653499\n",
       "3  국제신문  ...  340082244\n",
       "4  당진시대  ...  305296115\n",
       "\n",
       "[5 rows x 6 columns]"
      ]
     },
     "execution_count": 55,
     "metadata": {
      "tags": []
     },
     "output_type": "execute_result"
    }
   ],
   "source": [
    "val.head()"
   ]
  },
  {
   "cell_type": "code",
   "execution_count": null,
   "metadata": {
    "colab": {
     "base_uri": "https://localhost:8080/"
    },
    "id": "bd6Wsi2PuJtn",
    "outputId": "78f1c2da-5c61-464d-9c18-4126033fc2ab"
   },
   "outputs": [
    {
     "name": "stdout",
     "output_type": "stream",
     "text": [
      "(34242, 6) (8561, 6)\n"
     ]
    }
   ],
   "source": [
    "print(train.shape, val.shape)"
   ]
  },
  {
   "cell_type": "markdown",
   "metadata": {
    "id": "osEJtUhbCYZP"
   },
   "source": [
    "### 3) 'article_original'의 특수문자 등 제거 "
   ]
  },
  {
   "cell_type": "code",
   "execution_count": null,
   "metadata": {
    "id": "zSKj2zFpkZaA"
   },
   "outputs": [],
   "source": [
    "## pattern들 정의\n",
    "import re\n",
    "from string import punctuation\n",
    "\n",
    "# 한글, 영어, 숫자, 살릴 특수문자들이 아닌 기호들 날리기\n",
    "patmain = re.compile(r\"[^A-Za-z0-9가-힣ㄱ-ㅎㅏ-ㅣ+@$?\\-!<&;()=/_>\\\"\\'*%#`.,:~]\")\n",
    "\n",
    "# white space 2번 이상 반복되면 날리기\n",
    "patwhite = re.compile(r'\\s{2,}') "
   ]
  },
  {
   "cell_type": "code",
   "execution_count": null,
   "metadata": {
    "id": "MO0vnFZc_nv6"
   },
   "outputs": [],
   "source": [
    "def cleaning(doc):\n",
    "    return patwhite.sub(' ',\n",
    "            patmain.sub(' ',doc)).strip()"
   ]
  },
  {
   "cell_type": "code",
   "execution_count": null,
   "metadata": {
    "colab": {
     "base_uri": "https://localhost:8080/"
    },
    "id": "1Hrn2N6i_piZ",
    "outputId": "90ec5b30-d922-43c7-d502-f93e9c8ce68b"
   },
   "outputs": [
    {
     "data": {
      "text/plain": [
       "['부산시가 2032년 하계올림픽 국내 유치 신청 도시 선정을 앞두고 경쟁 도시인 서울시에 ‘공동 유치’(국제신문 11일 자 1면 보도)를 공식 제안했다.',\n",
       " '오거돈 부산시장은 11일 오후 충북 진천 국가대표 선수촌에서 열릴 대한체육회의 대의원 총회의 해당 올림픽 국내 유치 신청 도시 선정 심의를 앞두고 이와 관련한 입장문을 발표했다.',\n",
       " '대의원 총회 심의에는 오거돈 부산시장과 박원순 서울시장이 참석해 각각 올림픽 유치 계획을 발표한다.',\n",
       " '두 광역단체장의 발표와 질의응답을 거친 뒤 대의원 투표를 통해 국내 유치 도시가 확정된다.',\n",
       " '오 시장은 “한반도는 되돌릴 수 없는 평화의 미래를 향해 또 한 번 큰 걸음을 내딛는 중이다.',\n",
       " '바야흐로 평화의 시대, 2032년 하계올림픽은 남과 북이 함께 하는 역사적인 ‘평화올림픽’으로 추진돼야 한다”며 “그래서 2032년 하계올림픽의 부산-서울 공동 개최를 제안한다.',\n",
       " '북측에서도 평양과 함께 또 다른 도시를 공동개최지로 선정한다면 그야말로 한반도 전체가 하나의 도시로서 평화 올림픽을 치러내는 세계적 평화 이벤트가 될 것”이라고 밝혔다.',\n",
       " '그는 “무엇보다 부산의 참여는 2032년 하계올림픽의 한반도 유치에 가장 큰 경쟁력이 될 것”이라며 “바다와 육지, 해양과 대륙이 만나는 부산은 한반도 평화가 시작되는 출발점이자 종착점으로, 이미 북측의 시선은 서울을 넘어 부산에 닿았다”고 부연했다.',\n",
       " '그러면서 “역대 올림픽 중 동일한 도시에서 두 번 대회를 유치한 국가는 고작 5곳에 불과하다.',\n",
       " '88올림픽을 치러낸 서울에서 단독으로 하계올림픽을 다시 유치하는 것은 그만큼 큰 위험부담이 있는데, 부산과의 공동 유치로 이 문제를 해결할 수 있다”고 말했다.',\n",
       " '오 시장은 “부산은 2002년 아시안게임으로 올림픽 종목 경기시설과 운영 노하우를 보유하고 있고, 88올림픽 요트경기를 치렀던 수영만 요트경기장을 비롯해 해양스포츠와 육상 스포츠, 어떤 종목이든 가능한 지리적 장점을 가지고 있다”며 “2020년 세계탁구선수권대회, LPGA 국제골프대회 같은 대규모 스포츠 대회도 연달아 유치해 놓고 있다”고 설명했다.',\n",
       " '나아가 그는 “대한민국은 여전히 서울, 수도권 공화국이다.',\n",
       " '기회의 독점은 대한민국 전체의 발전에 결코 도움이 되지 않는다”며 “2032년 하계올림픽의 부산-서울 공동개최가 결정된다면 이는 기회의 공정이라는 가치와 대한민국 균형발전의 비전을 제시하는 의미있는 결단이 될 것”이라고 호소했다.']"
      ]
     },
     "execution_count": 59,
     "metadata": {
      "tags": []
     },
     "output_type": "execute_result"
    }
   ],
   "source": [
    "#전처리 전 1번 기사 \n",
    "train['article_original'][0]"
   ]
  },
  {
   "cell_type": "code",
   "execution_count": null,
   "metadata": {
    "id": "3fW6G-aw_xfq"
   },
   "outputs": [],
   "source": [
    "for i in range(len(train)):\n",
    "    train['article_original'][i] = list(map(lambda x: cleaning(x), train['article_original'][i]))"
   ]
  },
  {
   "cell_type": "code",
   "execution_count": null,
   "metadata": {
    "id": "drxKYVOhugb4"
   },
   "outputs": [],
   "source": [
    "for i in range(len(val)):\n",
    "    val['article_original'][i] = list(map(lambda x: cleaning(x), val['article_original'][i]))"
   ]
  },
  {
   "cell_type": "code",
   "execution_count": null,
   "metadata": {
    "colab": {
     "base_uri": "https://localhost:8080/"
    },
    "id": "7BFCUcMd_690",
    "outputId": "6dfd648f-e9e0-4f53-adbf-cdf3885c1269"
   },
   "outputs": [
    {
     "data": {
      "text/plain": [
       "['부산시가 2032년 하계올림픽 국내 유치 신청 도시 선정을 앞두고 경쟁 도시인 서울시에 공동 유치 (국제신문 11일 자 1면 보도)를 공식 제안했다.',\n",
       " '오거돈 부산시장은 11일 오후 충북 진천 국가대표 선수촌에서 열릴 대한체육회의 대의원 총회의 해당 올림픽 국내 유치 신청 도시 선정 심의를 앞두고 이와 관련한 입장문을 발표했다.',\n",
       " '대의원 총회 심의에는 오거돈 부산시장과 박원순 서울시장이 참석해 각각 올림픽 유치 계획을 발표한다.',\n",
       " '두 광역단체장의 발표와 질의응답을 거친 뒤 대의원 투표를 통해 국내 유치 도시가 확정된다.',\n",
       " '오 시장은 한반도는 되돌릴 수 없는 평화의 미래를 향해 또 한 번 큰 걸음을 내딛는 중이다.',\n",
       " '바야흐로 평화의 시대, 2032년 하계올림픽은 남과 북이 함께 하는 역사적인 평화올림픽 으로 추진돼야 한다 며 그래서 2032년 하계올림픽의 부산-서울 공동 개최를 제안한다.',\n",
       " '북측에서도 평양과 함께 또 다른 도시를 공동개최지로 선정한다면 그야말로 한반도 전체가 하나의 도시로서 평화 올림픽을 치러내는 세계적 평화 이벤트가 될 것 이라고 밝혔다.',\n",
       " '그는 무엇보다 부산의 참여는 2032년 하계올림픽의 한반도 유치에 가장 큰 경쟁력이 될 것 이라며 바다와 육지, 해양과 대륙이 만나는 부산은 한반도 평화가 시작되는 출발점이자 종착점으로, 이미 북측의 시선은 서울을 넘어 부산에 닿았다 고 부연했다.',\n",
       " '그러면서 역대 올림픽 중 동일한 도시에서 두 번 대회를 유치한 국가는 고작 5곳에 불과하다.',\n",
       " '88올림픽을 치러낸 서울에서 단독으로 하계올림픽을 다시 유치하는 것은 그만큼 큰 위험부담이 있는데, 부산과의 공동 유치로 이 문제를 해결할 수 있다 고 말했다.',\n",
       " '오 시장은 부산은 2002년 아시안게임으로 올림픽 종목 경기시설과 운영 노하우를 보유하고 있고, 88올림픽 요트경기를 치렀던 수영만 요트경기장을 비롯해 해양스포츠와 육상 스포츠, 어떤 종목이든 가능한 지리적 장점을 가지고 있다 며 2020년 세계탁구선수권대회, LPGA 국제골프대회 같은 대규모 스포츠 대회도 연달아 유치해 놓고 있다 고 설명했다.',\n",
       " '나아가 그는 대한민국은 여전히 서울, 수도권 공화국이다.',\n",
       " '기회의 독점은 대한민국 전체의 발전에 결코 도움이 되지 않는다 며 2032년 하계올림픽의 부산-서울 공동개최가 결정된다면 이는 기회의 공정이라는 가치와 대한민국 균형발전의 비전을 제시하는 의미있는 결단이 될 것 이라고 호소했다.']"
      ]
     },
     "execution_count": 62,
     "metadata": {
      "tags": []
     },
     "output_type": "execute_result"
    }
   ],
   "source": [
    "#전처리 후 1번 기사\n",
    "train['article_original'][0]"
   ]
  },
  {
   "cell_type": "code",
   "execution_count": null,
   "metadata": {
    "colab": {
     "base_uri": "https://localhost:8080/",
     "height": 279
    },
    "id": "LU9kmY77AGDD",
    "outputId": "6a93fa15-4a3d-40fb-e09d-f8aa77967ef8"
   },
   "outputs": [
    {
     "data": {
      "text/html": [
       "<div>\n",
       "<style scoped>\n",
       "    .dataframe tbody tr th:only-of-type {\n",
       "        vertical-align: middle;\n",
       "    }\n",
       "\n",
       "    .dataframe tbody tr th {\n",
       "        vertical-align: top;\n",
       "    }\n",
       "\n",
       "    .dataframe thead th {\n",
       "        text-align: right;\n",
       "    }\n",
       "</style>\n",
       "<table border=\"1\" class=\"dataframe\">\n",
       "  <thead>\n",
       "    <tr style=\"text-align: right;\">\n",
       "      <th></th>\n",
       "      <th>media</th>\n",
       "      <th>article_original</th>\n",
       "      <th>abstractive</th>\n",
       "      <th>extractive</th>\n",
       "      <th>bias</th>\n",
       "      <th>id</th>\n",
       "    </tr>\n",
       "  </thead>\n",
       "  <tbody>\n",
       "    <tr>\n",
       "      <th>0</th>\n",
       "      <td>국제신문</td>\n",
       "      <td>[부산시가 2032년 하계올림픽 국내 유치 신청 도시 선정을 앞두고 경쟁 도시인 서...</td>\n",
       "      <td>부산시가 2032년 하계올림픽 국내 유치 신청 도시 선정을 앞두고 경쟁 도시인 서울...</td>\n",
       "      <td>[0, 5, 3]</td>\n",
       "      <td>[10.642857142857142, 8.848214285714286, 8.375,...</td>\n",
       "      <td>333727228</td>\n",
       "    </tr>\n",
       "    <tr>\n",
       "      <th>1</th>\n",
       "      <td>대구신문</td>\n",
       "      <td>[원전해체 산업 육성 추진도 청와대가 16일 기업 활동 지원방안과 관련해 대규모 투...</td>\n",
       "      <td>정부는 공경경제장관회의에서 소득주도성장 및 혁신성장, 소비자 권익 보호에 관한 논의...</td>\n",
       "      <td>[0, 2, 15]</td>\n",
       "      <td>[48.422222222222224, 49.2, 43.644444444444446,...</td>\n",
       "      <td>331235501</td>\n",
       "    </tr>\n",
       "    <tr>\n",
       "      <th>2</th>\n",
       "      <td>기호일보</td>\n",
       "      <td>[오산시는 지난 11일 지역경제 활성화 및 하반기 신속집행 적극적 추진을 위해 20...</td>\n",
       "      <td>오산시는 11일  2019년 하반기 신속집행 부진부서 보고회 자리에서 김문환 부시장...</td>\n",
       "      <td>[0, 5, 3]</td>\n",
       "      <td>[4.457173447537473, 4.4593147751606, 3.6573875...</td>\n",
       "      <td>366943194</td>\n",
       "    </tr>\n",
       "    <tr>\n",
       "      <th>3</th>\n",
       "      <td>기호일보</td>\n",
       "      <td>[이천시가 시민의 적극적이고 능동적인 시정참여를 위한 시민이 주인인 학교 1기 졸업...</td>\n",
       "      <td>이천시가 '시민이 주인인 이천'을 구현하기 위해 올해부터 추진 중인 민주시민교육 '...</td>\n",
       "      <td>[0, 1, 4]</td>\n",
       "      <td>[6.9267886855241265, 6.930116472545757, 5.6838...</td>\n",
       "      <td>358892168</td>\n",
       "    </tr>\n",
       "    <tr>\n",
       "      <th>4</th>\n",
       "      <td>광주매일신문</td>\n",
       "      <td>[전남도는 28일 축산농가 생산비 절감 및 최적의 사양관리 등 경쟁력 강화를 위해 ...</td>\n",
       "      <td>28일 전남도는 “축산농가 생산비 절감 및 최적의 사양관리 등 경쟁력 강화를 위해 ...</td>\n",
       "      <td>[0, 4, 9]</td>\n",
       "      <td>[10.860759493670885, 8.30379746835443, 7.16033...</td>\n",
       "      <td>368911616</td>\n",
       "    </tr>\n",
       "  </tbody>\n",
       "</table>\n",
       "</div>"
      ],
      "text/plain": [
       "    media  ...         id\n",
       "0    국제신문  ...  333727228\n",
       "1    대구신문  ...  331235501\n",
       "2    기호일보  ...  366943194\n",
       "3    기호일보  ...  358892168\n",
       "4  광주매일신문  ...  368911616\n",
       "\n",
       "[5 rows x 6 columns]"
      ]
     },
     "execution_count": 63,
     "metadata": {
      "tags": []
     },
     "output_type": "execute_result"
    }
   ],
   "source": [
    "train.head()"
   ]
  },
  {
   "cell_type": "code",
   "execution_count": null,
   "metadata": {
    "colab": {
     "base_uri": "https://localhost:8080/",
     "height": 279
    },
    "id": "Y10uLIRFutQO",
    "outputId": "9c663e2d-83e2-4a76-f4a4-9899cffe91ff"
   },
   "outputs": [
    {
     "data": {
      "text/html": [
       "<div>\n",
       "<style scoped>\n",
       "    .dataframe tbody tr th:only-of-type {\n",
       "        vertical-align: middle;\n",
       "    }\n",
       "\n",
       "    .dataframe tbody tr th {\n",
       "        vertical-align: top;\n",
       "    }\n",
       "\n",
       "    .dataframe thead th {\n",
       "        text-align: right;\n",
       "    }\n",
       "</style>\n",
       "<table border=\"1\" class=\"dataframe\">\n",
       "  <thead>\n",
       "    <tr style=\"text-align: right;\">\n",
       "      <th></th>\n",
       "      <th>media</th>\n",
       "      <th>article_original</th>\n",
       "      <th>abstractive</th>\n",
       "      <th>extractive</th>\n",
       "      <th>bias</th>\n",
       "      <th>id</th>\n",
       "    </tr>\n",
       "  </thead>\n",
       "  <tbody>\n",
       "    <tr>\n",
       "      <th>0</th>\n",
       "      <td>기호일보</td>\n",
       "      <td>[포토 : 바세린, 기호일보=디지털뉴스부 요근래 매일매일 다채로운 Quiz를 내놓고...</td>\n",
       "      <td>매일 다채로운 Quiz 를 내놓고 있는 'TOSS'가 '바세린 바른 입술'과 관련한...</td>\n",
       "      <td>[1, 3, 5]</td>\n",
       "      <td>[6.9267886855241265, 6.930116472545757, 5.6838...</td>\n",
       "      <td>366196093</td>\n",
       "    </tr>\n",
       "    <tr>\n",
       "      <th>1</th>\n",
       "      <td>경기일보</td>\n",
       "      <td>[인천 서구가 미세먼지 줄이기, 보육의 질 향상, 일자리 창출에 나선다., 서구는 ...</td>\n",
       "      <td>인천 서구는 올해 미세먼지 저감대책 마련, 보육의 질 향상, 일자리 창출을 집중적으...</td>\n",
       "      <td>[2, 10, 16]</td>\n",
       "      <td>[73.10526315789474, 70.94736842105263, 54.2631...</td>\n",
       "      <td>333606877</td>\n",
       "    </tr>\n",
       "    <tr>\n",
       "      <th>2</th>\n",
       "      <td>대구신문</td>\n",
       "      <td>[경주시는 지난 17일 시청에서 노사발전재단과 지역일자리 컨설팅 지원사업 협약식을 ...</td>\n",
       "      <td>경주시는 17일 노사발전재단과 지역 일자리 모델 개발을 위한 컨설팅과 사업운영을 지...</td>\n",
       "      <td>[1, 2, 3]</td>\n",
       "      <td>[3.5546492659053834, 3.6117455138662318, 3.203...</td>\n",
       "      <td>345653499</td>\n",
       "    </tr>\n",
       "    <tr>\n",
       "      <th>3</th>\n",
       "      <td>국제신문</td>\n",
       "      <td>[- 김해신공항은 제2의 4대강 사업, - 출향 공무원 부산네트워크 필요, 오거돈 ...</td>\n",
       "      <td>3일 주요 현안에 대한 중앙부처 공무원의 관심과 협조를 당부하고자 정부세종청사에 마...</td>\n",
       "      <td>[2, 4, 3]</td>\n",
       "      <td>[9.076142131979696, 7.5456852791878175, 7.1421...</td>\n",
       "      <td>340082244</td>\n",
       "    </tr>\n",
       "    <tr>\n",
       "      <th>4</th>\n",
       "      <td>당진시대</td>\n",
       "      <td>[제36회 교정대상에서 공로상을 수상한 이재원 대표(왼)가 박상기 법무부 장관(가운...</td>\n",
       "      <td>읍내동에서 의류 브랜드 아날도바시니 당진점을 운영하고 있는 이재원 대표가 수용자 교...</td>\n",
       "      <td>[1, 2, 3]</td>\n",
       "      <td>[30.848484848484848, 38.24242424242424, 29.939...</td>\n",
       "      <td>305296115</td>\n",
       "    </tr>\n",
       "  </tbody>\n",
       "</table>\n",
       "</div>"
      ],
      "text/plain": [
       "  media  ...         id\n",
       "0  기호일보  ...  366196093\n",
       "1  경기일보  ...  333606877\n",
       "2  대구신문  ...  345653499\n",
       "3  국제신문  ...  340082244\n",
       "4  당진시대  ...  305296115\n",
       "\n",
       "[5 rows x 6 columns]"
      ]
     },
     "execution_count": 64,
     "metadata": {
      "tags": []
     },
     "output_type": "execute_result"
    }
   ],
   "source": [
    "val.head()"
   ]
  },
  {
   "cell_type": "markdown",
   "metadata": {
    "id": "OCNnmSUWChxM"
   },
   "source": [
    "### 4)새로운 df에 'article_original'의 문장을 하나씩 빼서 저장 + label 생성 + 'first' 컬럼 +'bias' 컬럼 생성 \n",
    "- new df는 'article_original', 'article_sent', 'article_token', 'label'이 들어갈 것임 (3번에서 토큰화 진행, 피처구축은 그 이후)\n",
    "- extractive 값에 포함되는 sentence 번호에 1, 아니면 0 부여\n",
    "- 뒤에서 이용할 피처 중 하나인 'first'(기사의 첫 번째 문장)이면 1, 아니면 0 부여하는 컬럼 생성"
   ]
  },
  {
   "cell_type": "code",
   "execution_count": null,
   "metadata": {
    "colab": {
     "base_uri": "https://localhost:8080/",
     "height": 402
    },
    "id": "U66NINWxLl5Z",
    "outputId": "2c465ccc-63c8-45b4-b906-fb2e5b9667d2"
   },
   "outputs": [
    {
     "data": {
      "text/html": [
       "<div>\n",
       "<style scoped>\n",
       "    .dataframe tbody tr th:only-of-type {\n",
       "        vertical-align: middle;\n",
       "    }\n",
       "\n",
       "    .dataframe tbody tr th {\n",
       "        vertical-align: top;\n",
       "    }\n",
       "\n",
       "    .dataframe thead th {\n",
       "        text-align: right;\n",
       "    }\n",
       "</style>\n",
       "<table border=\"1\" class=\"dataframe\">\n",
       "  <thead>\n",
       "    <tr style=\"text-align: right;\">\n",
       "      <th></th>\n",
       "      <th>id</th>\n",
       "      <th>article_sent</th>\n",
       "      <th>label</th>\n",
       "      <th>first</th>\n",
       "    </tr>\n",
       "  </thead>\n",
       "  <tbody>\n",
       "    <tr>\n",
       "      <th>0</th>\n",
       "      <td>333727228</td>\n",
       "      <td>부산시가 2032년 하계올림픽 국내 유치 신청 도시 선정을 앞두고 경쟁 도시인 서울...</td>\n",
       "      <td>1</td>\n",
       "      <td>1</td>\n",
       "    </tr>\n",
       "    <tr>\n",
       "      <th>1</th>\n",
       "      <td>333727228</td>\n",
       "      <td>오거돈 부산시장은 11일 오후 충북 진천 국가대표 선수촌에서 열릴 대한체육회의 대의...</td>\n",
       "      <td>0</td>\n",
       "      <td>0</td>\n",
       "    </tr>\n",
       "    <tr>\n",
       "      <th>2</th>\n",
       "      <td>333727228</td>\n",
       "      <td>대의원 총회 심의에는 오거돈 부산시장과 박원순 서울시장이 참석해 각각 올림픽 유치 ...</td>\n",
       "      <td>0</td>\n",
       "      <td>0</td>\n",
       "    </tr>\n",
       "    <tr>\n",
       "      <th>3</th>\n",
       "      <td>333727228</td>\n",
       "      <td>두 광역단체장의 발표와 질의응답을 거친 뒤 대의원 투표를 통해 국내 유치 도시가 확...</td>\n",
       "      <td>1</td>\n",
       "      <td>0</td>\n",
       "    </tr>\n",
       "    <tr>\n",
       "      <th>4</th>\n",
       "      <td>333727228</td>\n",
       "      <td>오 시장은 한반도는 되돌릴 수 없는 평화의 미래를 향해 또 한 번 큰 걸음을 내딛는...</td>\n",
       "      <td>0</td>\n",
       "      <td>0</td>\n",
       "    </tr>\n",
       "    <tr>\n",
       "      <th>...</th>\n",
       "      <td>...</td>\n",
       "      <td>...</td>\n",
       "      <td>...</td>\n",
       "      <td>...</td>\n",
       "    </tr>\n",
       "    <tr>\n",
       "      <th>453898</th>\n",
       "      <td>351719161</td>\n",
       "      <td>2018자카르타-팔렘방 아시안게임에서 여자혼영 200m 금메달을 땄던 김서영은 이번...</td>\n",
       "      <td>0</td>\n",
       "      <td>0</td>\n",
       "    </tr>\n",
       "    <tr>\n",
       "      <th>453899</th>\n",
       "      <td>351719161</td>\n",
       "      <td>또 브라질 리우 올림픽에서 다이빙 결선까지 진출하고 2019 FINA 다이빙 그랑프...</td>\n",
       "      <td>0</td>\n",
       "      <td>0</td>\n",
       "    </tr>\n",
       "    <tr>\n",
       "      <th>453900</th>\n",
       "      <td>351719161</td>\n",
       "      <td>해외 선수로는 지난 2017년 부다페스트 7관왕인 미국의 카엘렙 드레셀(Caeleb...</td>\n",
       "      <td>0</td>\n",
       "      <td>0</td>\n",
       "    </tr>\n",
       "    <tr>\n",
       "      <th>453901</th>\n",
       "      <td>351719161</td>\n",
       "      <td>2016 리우 올림픽과 지난 부다페스트 대회 2관왕인 중국의 수영스타 쑨양(Sun ...</td>\n",
       "      <td>0</td>\n",
       "      <td>0</td>\n",
       "    </tr>\n",
       "    <tr>\n",
       "      <th>453902</th>\n",
       "      <td>351719161</td>\n",
       "      <td>이밖에 전 세계 유명 선수들이 어떤 경기에 출전하는지 확인하려면 광주세계수영선수권대...</td>\n",
       "      <td>0</td>\n",
       "      <td>0</td>\n",
       "    </tr>\n",
       "  </tbody>\n",
       "</table>\n",
       "<p>453903 rows × 4 columns</p>\n",
       "</div>"
      ],
      "text/plain": [
       "               id  ... first\n",
       "0       333727228  ...     1\n",
       "1       333727228  ...     0\n",
       "2       333727228  ...     0\n",
       "3       333727228  ...     0\n",
       "4       333727228  ...     0\n",
       "...           ...  ...   ...\n",
       "453898  351719161  ...     0\n",
       "453899  351719161  ...     0\n",
       "453900  351719161  ...     0\n",
       "453901  351719161  ...     0\n",
       "453902  351719161  ...     0\n",
       "\n",
       "[453903 rows x 4 columns]"
      ]
     },
     "execution_count": 65,
     "metadata": {
      "tags": []
     },
     "output_type": "execute_result"
    }
   ],
   "source": [
    "\n",
    "tmp = []\n",
    "tmp2 = []\n",
    "\n",
    "for i in range(len(train)):\n",
    "    sentences = train['article_original'][i]\n",
    "    extract = train['extractive'][i]\n",
    "    biasvec = train['bias'][i]\n",
    "    \n",
    "    for j, sent in enumerate(sentences):\n",
    "        \n",
    "        if j in train['extractive'][i]:    \n",
    "            if j==0:\n",
    "                tmp.append((train.loc[i,'id'], sent, 1, 1))\n",
    "            else: tmp.append((train.loc[i,'id'], sent, 1, 0))\n",
    "                \n",
    "        else: \n",
    "            if j==0:\n",
    "                tmp.append((train.loc[i,'id'], sent, 0, 1))\n",
    "            else: tmp.append((train.loc[i,'id'], sent, 0, 0))\n",
    "    \n",
    "    for bias in biasvec:\n",
    "        tmp2.append(bias)\n",
    "     \n",
    "\n",
    "new_df = pd.DataFrame(tmp, columns=['id','article_sent','label','first'])\n",
    "new_df"
   ]
  },
  {
   "cell_type": "code",
   "execution_count": null,
   "metadata": {
    "colab": {
     "base_uri": "https://localhost:8080/",
     "height": 402
    },
    "id": "oyCLP6CY2LI2",
    "outputId": "52ab1f37-be09-4ea4-bf7d-56d330655e64"
   },
   "outputs": [
    {
     "data": {
      "text/html": [
       "<div>\n",
       "<style scoped>\n",
       "    .dataframe tbody tr th:only-of-type {\n",
       "        vertical-align: middle;\n",
       "    }\n",
       "\n",
       "    .dataframe tbody tr th {\n",
       "        vertical-align: top;\n",
       "    }\n",
       "\n",
       "    .dataframe thead th {\n",
       "        text-align: right;\n",
       "    }\n",
       "</style>\n",
       "<table border=\"1\" class=\"dataframe\">\n",
       "  <thead>\n",
       "    <tr style=\"text-align: right;\">\n",
       "      <th></th>\n",
       "      <th>bias</th>\n",
       "    </tr>\n",
       "  </thead>\n",
       "  <tbody>\n",
       "    <tr>\n",
       "      <th>0</th>\n",
       "      <td>10.642857</td>\n",
       "    </tr>\n",
       "    <tr>\n",
       "      <th>1</th>\n",
       "      <td>8.848214</td>\n",
       "    </tr>\n",
       "    <tr>\n",
       "      <th>2</th>\n",
       "      <td>8.375000</td>\n",
       "    </tr>\n",
       "    <tr>\n",
       "      <th>3</th>\n",
       "      <td>6.511905</td>\n",
       "    </tr>\n",
       "    <tr>\n",
       "      <th>4</th>\n",
       "      <td>4.895833</td>\n",
       "    </tr>\n",
       "    <tr>\n",
       "      <th>...</th>\n",
       "      <td>...</td>\n",
       "    </tr>\n",
       "    <tr>\n",
       "      <th>453898</th>\n",
       "      <td>2.791667</td>\n",
       "    </tr>\n",
       "    <tr>\n",
       "      <th>453899</th>\n",
       "      <td>1.541667</td>\n",
       "    </tr>\n",
       "    <tr>\n",
       "      <th>453900</th>\n",
       "      <td>1.458333</td>\n",
       "    </tr>\n",
       "    <tr>\n",
       "      <th>453901</th>\n",
       "      <td>1.250000</td>\n",
       "    </tr>\n",
       "    <tr>\n",
       "      <th>453902</th>\n",
       "      <td>1.000000</td>\n",
       "    </tr>\n",
       "  </tbody>\n",
       "</table>\n",
       "<p>453903 rows × 1 columns</p>\n",
       "</div>"
      ],
      "text/plain": [
       "             bias\n",
       "0       10.642857\n",
       "1        8.848214\n",
       "2        8.375000\n",
       "3        6.511905\n",
       "4        4.895833\n",
       "...           ...\n",
       "453898   2.791667\n",
       "453899   1.541667\n",
       "453900   1.458333\n",
       "453901   1.250000\n",
       "453902   1.000000\n",
       "\n",
       "[453903 rows x 1 columns]"
      ]
     },
     "execution_count": 66,
     "metadata": {
      "tags": []
     },
     "output_type": "execute_result"
    }
   ],
   "source": [
    "new_df2 = pd.DataFrame(tmp2, columns=['bias'])\n",
    "new_df2"
   ]
  },
  {
   "cell_type": "code",
   "execution_count": null,
   "metadata": {
    "id": "do5sR-m62Lvj"
   },
   "outputs": [],
   "source": [
    "new_df = pd.concat([new_df, new_df2], axis=1)"
   ]
  },
  {
   "cell_type": "code",
   "execution_count": null,
   "metadata": {
    "id": "ROOuDFpH2L0B"
   },
   "outputs": [],
   "source": [
    "mapperlist = list(range(len(new_df)))\n",
    "mapperdat = pd.DataFrame(mapperlist, columns=['mapper'])"
   ]
  },
  {
   "cell_type": "code",
   "execution_count": null,
   "metadata": {
    "colab": {
     "base_uri": "https://localhost:8080/",
     "height": 279
    },
    "id": "2C_zzI412UK3",
    "outputId": "842c8bca-515b-42c8-9c4d-36255d9fbc98"
   },
   "outputs": [
    {
     "data": {
      "text/html": [
       "<div>\n",
       "<style scoped>\n",
       "    .dataframe tbody tr th:only-of-type {\n",
       "        vertical-align: middle;\n",
       "    }\n",
       "\n",
       "    .dataframe tbody tr th {\n",
       "        vertical-align: top;\n",
       "    }\n",
       "\n",
       "    .dataframe thead th {\n",
       "        text-align: right;\n",
       "    }\n",
       "</style>\n",
       "<table border=\"1\" class=\"dataframe\">\n",
       "  <thead>\n",
       "    <tr style=\"text-align: right;\">\n",
       "      <th></th>\n",
       "      <th>media</th>\n",
       "      <th>article_original</th>\n",
       "      <th>abstractive</th>\n",
       "      <th>extractive</th>\n",
       "      <th>id</th>\n",
       "      <th>article_sent</th>\n",
       "      <th>label</th>\n",
       "      <th>first</th>\n",
       "      <th>bias</th>\n",
       "    </tr>\n",
       "  </thead>\n",
       "  <tbody>\n",
       "    <tr>\n",
       "      <th>0</th>\n",
       "      <td>국제신문</td>\n",
       "      <td>[부산시가 2032년 하계올림픽 국내 유치 신청 도시 선정을 앞두고 경쟁 도시인 서...</td>\n",
       "      <td>부산시가 2032년 하계올림픽 국내 유치 신청 도시 선정을 앞두고 경쟁 도시인 서울...</td>\n",
       "      <td>[0, 5, 3]</td>\n",
       "      <td>333727228</td>\n",
       "      <td>부산시가 2032년 하계올림픽 국내 유치 신청 도시 선정을 앞두고 경쟁 도시인 서울...</td>\n",
       "      <td>1</td>\n",
       "      <td>1</td>\n",
       "      <td>10.642857</td>\n",
       "    </tr>\n",
       "    <tr>\n",
       "      <th>1</th>\n",
       "      <td>국제신문</td>\n",
       "      <td>[부산시가 2032년 하계올림픽 국내 유치 신청 도시 선정을 앞두고 경쟁 도시인 서...</td>\n",
       "      <td>부산시가 2032년 하계올림픽 국내 유치 신청 도시 선정을 앞두고 경쟁 도시인 서울...</td>\n",
       "      <td>[0, 5, 3]</td>\n",
       "      <td>333727228</td>\n",
       "      <td>오거돈 부산시장은 11일 오후 충북 진천 국가대표 선수촌에서 열릴 대한체육회의 대의...</td>\n",
       "      <td>0</td>\n",
       "      <td>0</td>\n",
       "      <td>8.848214</td>\n",
       "    </tr>\n",
       "    <tr>\n",
       "      <th>2</th>\n",
       "      <td>국제신문</td>\n",
       "      <td>[부산시가 2032년 하계올림픽 국내 유치 신청 도시 선정을 앞두고 경쟁 도시인 서...</td>\n",
       "      <td>부산시가 2032년 하계올림픽 국내 유치 신청 도시 선정을 앞두고 경쟁 도시인 서울...</td>\n",
       "      <td>[0, 5, 3]</td>\n",
       "      <td>333727228</td>\n",
       "      <td>대의원 총회 심의에는 오거돈 부산시장과 박원순 서울시장이 참석해 각각 올림픽 유치 ...</td>\n",
       "      <td>0</td>\n",
       "      <td>0</td>\n",
       "      <td>8.375000</td>\n",
       "    </tr>\n",
       "    <tr>\n",
       "      <th>3</th>\n",
       "      <td>국제신문</td>\n",
       "      <td>[부산시가 2032년 하계올림픽 국내 유치 신청 도시 선정을 앞두고 경쟁 도시인 서...</td>\n",
       "      <td>부산시가 2032년 하계올림픽 국내 유치 신청 도시 선정을 앞두고 경쟁 도시인 서울...</td>\n",
       "      <td>[0, 5, 3]</td>\n",
       "      <td>333727228</td>\n",
       "      <td>두 광역단체장의 발표와 질의응답을 거친 뒤 대의원 투표를 통해 국내 유치 도시가 확...</td>\n",
       "      <td>1</td>\n",
       "      <td>0</td>\n",
       "      <td>6.511905</td>\n",
       "    </tr>\n",
       "    <tr>\n",
       "      <th>4</th>\n",
       "      <td>국제신문</td>\n",
       "      <td>[부산시가 2032년 하계올림픽 국내 유치 신청 도시 선정을 앞두고 경쟁 도시인 서...</td>\n",
       "      <td>부산시가 2032년 하계올림픽 국내 유치 신청 도시 선정을 앞두고 경쟁 도시인 서울...</td>\n",
       "      <td>[0, 5, 3]</td>\n",
       "      <td>333727228</td>\n",
       "      <td>오 시장은 한반도는 되돌릴 수 없는 평화의 미래를 향해 또 한 번 큰 걸음을 내딛는...</td>\n",
       "      <td>0</td>\n",
       "      <td>0</td>\n",
       "      <td>4.895833</td>\n",
       "    </tr>\n",
       "  </tbody>\n",
       "</table>\n",
       "</div>"
      ],
      "text/plain": [
       "  media                                   article_original  ... first       bias\n",
       "0  국제신문  [부산시가 2032년 하계올림픽 국내 유치 신청 도시 선정을 앞두고 경쟁 도시인 서...  ...     1  10.642857\n",
       "1  국제신문  [부산시가 2032년 하계올림픽 국내 유치 신청 도시 선정을 앞두고 경쟁 도시인 서...  ...     0   8.848214\n",
       "2  국제신문  [부산시가 2032년 하계올림픽 국내 유치 신청 도시 선정을 앞두고 경쟁 도시인 서...  ...     0   8.375000\n",
       "3  국제신문  [부산시가 2032년 하계올림픽 국내 유치 신청 도시 선정을 앞두고 경쟁 도시인 서...  ...     0   6.511905\n",
       "4  국제신문  [부산시가 2032년 하계올림픽 국내 유치 신청 도시 선정을 앞두고 경쟁 도시인 서...  ...     0   4.895833\n",
       "\n",
       "[5 rows x 9 columns]"
      ]
     },
     "execution_count": 69,
     "metadata": {
      "tags": []
     },
     "output_type": "execute_result"
    }
   ],
   "source": [
    "new_df = pd.concat([new_df, mapperdat], axis=1, join='inner')\n",
    "new_train = pd.merge(train, new_df, on='id')\n",
    "new_train.drop(['bias_x', 'mapper'], axis=1, inplace=True)\n",
    "new_train.rename(columns={\"bias_y\": \"bias\"}, inplace=True)\n",
    "new_train.head()"
   ]
  },
  {
   "cell_type": "code",
   "execution_count": null,
   "metadata": {
    "colab": {
     "base_uri": "https://localhost:8080/"
    },
    "id": "joZ3FONJRn4X",
    "outputId": "a02ae3ee-6c19-444b-ec59-169d4bfcdebd"
   },
   "outputs": [
    {
     "data": {
      "text/plain": [
       "(453903, 9)"
      ]
     },
     "execution_count": 70,
     "metadata": {
      "tags": []
     },
     "output_type": "execute_result"
    }
   ],
   "source": [
    "new_train.shape"
   ]
  },
  {
   "cell_type": "code",
   "execution_count": null,
   "metadata": {
    "colab": {
     "base_uri": "https://localhost:8080/",
     "height": 47
    },
    "id": "jbCG7zDj6OSy",
    "outputId": "45a31a6f-a7f0-493b-dce7-453f583b8840"
   },
   "outputs": [
    {
     "data": {
      "text/html": [
       "<div>\n",
       "<style scoped>\n",
       "    .dataframe tbody tr th:only-of-type {\n",
       "        vertical-align: middle;\n",
       "    }\n",
       "\n",
       "    .dataframe tbody tr th {\n",
       "        vertical-align: top;\n",
       "    }\n",
       "\n",
       "    .dataframe thead th {\n",
       "        text-align: right;\n",
       "    }\n",
       "</style>\n",
       "<table border=\"1\" class=\"dataframe\">\n",
       "  <thead>\n",
       "    <tr style=\"text-align: right;\">\n",
       "      <th></th>\n",
       "      <th>media</th>\n",
       "      <th>article_original</th>\n",
       "      <th>abstractive</th>\n",
       "      <th>extractive</th>\n",
       "      <th>id</th>\n",
       "      <th>article_sent</th>\n",
       "      <th>label</th>\n",
       "      <th>first</th>\n",
       "      <th>bias</th>\n",
       "    </tr>\n",
       "  </thead>\n",
       "  <tbody>\n",
       "  </tbody>\n",
       "</table>\n",
       "</div>"
      ],
      "text/plain": [
       "Empty DataFrame\n",
       "Columns: [media, article_original, abstractive, extractive, id, article_sent, label, first, bias]\n",
       "Index: []"
      ]
     },
     "execution_count": 71,
     "metadata": {
      "tags": []
     },
     "output_type": "execute_result"
    }
   ],
   "source": [
    "new_train[new_train['article_sent'].isna()]"
   ]
  },
  {
   "cell_type": "code",
   "execution_count": null,
   "metadata": {
    "colab": {
     "base_uri": "https://localhost:8080/",
     "height": 402
    },
    "id": "SdnJ6TcF2nfD",
    "outputId": "1297209a-7d42-4c50-eb9c-3a7f336d14e6"
   },
   "outputs": [
    {
     "data": {
      "text/html": [
       "<div>\n",
       "<style scoped>\n",
       "    .dataframe tbody tr th:only-of-type {\n",
       "        vertical-align: middle;\n",
       "    }\n",
       "\n",
       "    .dataframe tbody tr th {\n",
       "        vertical-align: top;\n",
       "    }\n",
       "\n",
       "    .dataframe thead th {\n",
       "        text-align: right;\n",
       "    }\n",
       "</style>\n",
       "<table border=\"1\" class=\"dataframe\">\n",
       "  <thead>\n",
       "    <tr style=\"text-align: right;\">\n",
       "      <th></th>\n",
       "      <th>id</th>\n",
       "      <th>article_sent</th>\n",
       "      <th>label</th>\n",
       "      <th>first</th>\n",
       "    </tr>\n",
       "  </thead>\n",
       "  <tbody>\n",
       "    <tr>\n",
       "      <th>0</th>\n",
       "      <td>366196093</td>\n",
       "      <td>포토 : 바세린</td>\n",
       "      <td>0</td>\n",
       "      <td>1</td>\n",
       "    </tr>\n",
       "    <tr>\n",
       "      <th>1</th>\n",
       "      <td>366196093</td>\n",
       "      <td>기호일보=디지털뉴스부 요근래 매일매일 다채로운 Quiz를 내놓고 있는 TOSS'가 ...</td>\n",
       "      <td>1</td>\n",
       "      <td>0</td>\n",
       "    </tr>\n",
       "    <tr>\n",
       "      <th>2</th>\n",
       "      <td>366196093</td>\n",
       "      <td>이로인해 현재 대형포털의 서칭리스트 상단에 바세린 바른입술 이 순위권을 장악하고 있...</td>\n",
       "      <td>0</td>\n",
       "      <td>0</td>\n",
       "    </tr>\n",
       "    <tr>\n",
       "      <th>3</th>\n",
       "      <td>366196093</td>\n",
       "      <td>칠 일 'toss'에는 바세린 바른입술 과 관련한 event에 대한 내용을 열거한 ...</td>\n",
       "      <td>1</td>\n",
       "      <td>0</td>\n",
       "    </tr>\n",
       "    <tr>\n",
       "      <th>4</th>\n",
       "      <td>366196093</td>\n",
       "      <td>이어 hint로 naver에서 복사한 해당 문구를 붙여넣기를 한 후 엔터를 쳐 나오...</td>\n",
       "      <td>0</td>\n",
       "      <td>0</td>\n",
       "    </tr>\n",
       "    <tr>\n",
       "      <th>...</th>\n",
       "      <td>...</td>\n",
       "      <td>...</td>\n",
       "      <td>...</td>\n",
       "      <td>...</td>\n",
       "    </tr>\n",
       "    <tr>\n",
       "      <th>113514</th>\n",
       "      <td>341140100</td>\n",
       "      <td>이외에도 빅데이터를 기반으로 실내 미세먼지를 잡는 아트맨 과 전기자동차 충전기 서비...</td>\n",
       "      <td>0</td>\n",
       "      <td>0</td>\n",
       "    </tr>\n",
       "    <tr>\n",
       "      <th>113515</th>\n",
       "      <td>341140100</td>\n",
       "      <td>상생혁신포럼은 이번 출범식을 계기로 참여 기업을 확대할 방침이다.</td>\n",
       "      <td>0</td>\n",
       "      <td>0</td>\n",
       "    </tr>\n",
       "    <tr>\n",
       "      <th>113516</th>\n",
       "      <td>341140100</td>\n",
       "      <td>스타트업과 지역 기업을 연계해 상생 구조를 만들겠다는 계획이다.</td>\n",
       "      <td>0</td>\n",
       "      <td>0</td>\n",
       "    </tr>\n",
       "    <tr>\n",
       "      <th>113517</th>\n",
       "      <td>341140100</td>\n",
       "      <td>실제로 부산경제진흥원의 창업지원사업을 졸업한 프라임오라는 상아제약과 기술개발 공동 ...</td>\n",
       "      <td>0</td>\n",
       "      <td>0</td>\n",
       "    </tr>\n",
       "    <tr>\n",
       "      <th>113518</th>\n",
       "      <td>341140100</td>\n",
       "      <td>경제진흥원 최헌 창업지원본부장은 올해부터 기술창업 지원을 강화할 계획 이라며 지역 ...</td>\n",
       "      <td>0</td>\n",
       "      <td>0</td>\n",
       "    </tr>\n",
       "  </tbody>\n",
       "</table>\n",
       "<p>113519 rows × 4 columns</p>\n",
       "</div>"
      ],
      "text/plain": [
       "               id  ... first\n",
       "0       366196093  ...     1\n",
       "1       366196093  ...     0\n",
       "2       366196093  ...     0\n",
       "3       366196093  ...     0\n",
       "4       366196093  ...     0\n",
       "...           ...  ...   ...\n",
       "113514  341140100  ...     0\n",
       "113515  341140100  ...     0\n",
       "113516  341140100  ...     0\n",
       "113517  341140100  ...     0\n",
       "113518  341140100  ...     0\n",
       "\n",
       "[113519 rows x 4 columns]"
      ]
     },
     "execution_count": 72,
     "metadata": {
      "tags": []
     },
     "output_type": "execute_result"
    }
   ],
   "source": [
    "#validation set에 대해서도 같은 작업을 진행\n",
    "tmp = []\n",
    "tmp2 = []\n",
    "\n",
    "for i in range(len(val)):\n",
    "    sentences = val['article_original'][i]\n",
    "    extract = val['extractive'][i]\n",
    "    biasvec = val['bias'][i]\n",
    "    \n",
    "    for j, sent in enumerate(sentences):\n",
    "        \n",
    "        if j in val['extractive'][i]:    \n",
    "            if j==0:\n",
    "                tmp.append((val.loc[i,'id'], sent, 1, 1))\n",
    "            else: tmp.append((val.loc[i,'id'], sent, 1, 0))\n",
    "                \n",
    "        else: \n",
    "            if j==0:\n",
    "                tmp.append((val.loc[i,'id'], sent, 0, 1))\n",
    "            else: tmp.append((val.loc[i,'id'], sent, 0, 0))\n",
    "    \n",
    "    for bias in biasvec:\n",
    "        tmp2.append(bias)\n",
    "     \n",
    "\n",
    "new_df = pd.DataFrame(tmp, columns=['id','article_sent','label','first'])\n",
    "new_df"
   ]
  },
  {
   "cell_type": "code",
   "execution_count": null,
   "metadata": {
    "colab": {
     "base_uri": "https://localhost:8080/",
     "height": 279
    },
    "id": "TjJd7_Uy3F3m",
    "outputId": "a3cdcc65-4b09-4208-be79-4c80929e0045"
   },
   "outputs": [
    {
     "data": {
      "text/html": [
       "<div>\n",
       "<style scoped>\n",
       "    .dataframe tbody tr th:only-of-type {\n",
       "        vertical-align: middle;\n",
       "    }\n",
       "\n",
       "    .dataframe tbody tr th {\n",
       "        vertical-align: top;\n",
       "    }\n",
       "\n",
       "    .dataframe thead th {\n",
       "        text-align: right;\n",
       "    }\n",
       "</style>\n",
       "<table border=\"1\" class=\"dataframe\">\n",
       "  <thead>\n",
       "    <tr style=\"text-align: right;\">\n",
       "      <th></th>\n",
       "      <th>media</th>\n",
       "      <th>article_original</th>\n",
       "      <th>abstractive</th>\n",
       "      <th>extractive</th>\n",
       "      <th>id</th>\n",
       "      <th>article_sent</th>\n",
       "      <th>label</th>\n",
       "      <th>first</th>\n",
       "      <th>bias</th>\n",
       "    </tr>\n",
       "  </thead>\n",
       "  <tbody>\n",
       "    <tr>\n",
       "      <th>0</th>\n",
       "      <td>기호일보</td>\n",
       "      <td>[포토 : 바세린, 기호일보=디지털뉴스부 요근래 매일매일 다채로운 Quiz를 내놓고...</td>\n",
       "      <td>매일 다채로운 Quiz 를 내놓고 있는 'TOSS'가 '바세린 바른 입술'과 관련한...</td>\n",
       "      <td>[1, 3, 5]</td>\n",
       "      <td>366196093</td>\n",
       "      <td>포토 : 바세린</td>\n",
       "      <td>0</td>\n",
       "      <td>1</td>\n",
       "      <td>6.926789</td>\n",
       "    </tr>\n",
       "    <tr>\n",
       "      <th>1</th>\n",
       "      <td>기호일보</td>\n",
       "      <td>[포토 : 바세린, 기호일보=디지털뉴스부 요근래 매일매일 다채로운 Quiz를 내놓고...</td>\n",
       "      <td>매일 다채로운 Quiz 를 내놓고 있는 'TOSS'가 '바세린 바른 입술'과 관련한...</td>\n",
       "      <td>[1, 3, 5]</td>\n",
       "      <td>366196093</td>\n",
       "      <td>기호일보=디지털뉴스부 요근래 매일매일 다채로운 Quiz를 내놓고 있는 TOSS'가 ...</td>\n",
       "      <td>1</td>\n",
       "      <td>0</td>\n",
       "      <td>6.930116</td>\n",
       "    </tr>\n",
       "    <tr>\n",
       "      <th>2</th>\n",
       "      <td>기호일보</td>\n",
       "      <td>[포토 : 바세린, 기호일보=디지털뉴스부 요근래 매일매일 다채로운 Quiz를 내놓고...</td>\n",
       "      <td>매일 다채로운 Quiz 를 내놓고 있는 'TOSS'가 '바세린 바른 입술'과 관련한...</td>\n",
       "      <td>[1, 3, 5]</td>\n",
       "      <td>366196093</td>\n",
       "      <td>이로인해 현재 대형포털의 서칭리스트 상단에 바세린 바른입술 이 순위권을 장악하고 있...</td>\n",
       "      <td>0</td>\n",
       "      <td>0</td>\n",
       "      <td>5.683860</td>\n",
       "    </tr>\n",
       "    <tr>\n",
       "      <th>3</th>\n",
       "      <td>기호일보</td>\n",
       "      <td>[포토 : 바세린, 기호일보=디지털뉴스부 요근래 매일매일 다채로운 Quiz를 내놓고...</td>\n",
       "      <td>매일 다채로운 Quiz 를 내놓고 있는 'TOSS'가 '바세린 바른 입술'과 관련한...</td>\n",
       "      <td>[1, 3, 5]</td>\n",
       "      <td>366196093</td>\n",
       "      <td>칠 일 'toss'에는 바세린 바른입술 과 관련한 event에 대한 내용을 열거한 ...</td>\n",
       "      <td>1</td>\n",
       "      <td>0</td>\n",
       "      <td>3.911814</td>\n",
       "    </tr>\n",
       "    <tr>\n",
       "      <th>4</th>\n",
       "      <td>기호일보</td>\n",
       "      <td>[포토 : 바세린, 기호일보=디지털뉴스부 요근래 매일매일 다채로운 Quiz를 내놓고...</td>\n",
       "      <td>매일 다채로운 Quiz 를 내놓고 있는 'TOSS'가 '바세린 바른 입술'과 관련한...</td>\n",
       "      <td>[1, 3, 5]</td>\n",
       "      <td>366196093</td>\n",
       "      <td>이어 hint로 naver에서 복사한 해당 문구를 붙여넣기를 한 후 엔터를 쳐 나오...</td>\n",
       "      <td>0</td>\n",
       "      <td>0</td>\n",
       "      <td>2.923461</td>\n",
       "    </tr>\n",
       "  </tbody>\n",
       "</table>\n",
       "</div>"
      ],
      "text/plain": [
       "  media                                   article_original  ... first      bias\n",
       "0  기호일보  [포토 : 바세린, 기호일보=디지털뉴스부 요근래 매일매일 다채로운 Quiz를 내놓고...  ...     1  6.926789\n",
       "1  기호일보  [포토 : 바세린, 기호일보=디지털뉴스부 요근래 매일매일 다채로운 Quiz를 내놓고...  ...     0  6.930116\n",
       "2  기호일보  [포토 : 바세린, 기호일보=디지털뉴스부 요근래 매일매일 다채로운 Quiz를 내놓고...  ...     0  5.683860\n",
       "3  기호일보  [포토 : 바세린, 기호일보=디지털뉴스부 요근래 매일매일 다채로운 Quiz를 내놓고...  ...     0  3.911814\n",
       "4  기호일보  [포토 : 바세린, 기호일보=디지털뉴스부 요근래 매일매일 다채로운 Quiz를 내놓고...  ...     0  2.923461\n",
       "\n",
       "[5 rows x 9 columns]"
      ]
     },
     "execution_count": 73,
     "metadata": {
      "tags": []
     },
     "output_type": "execute_result"
    }
   ],
   "source": [
    "new_df2 = pd.DataFrame(tmp2, columns=['bias'])\n",
    "new_df = pd.concat([new_df, new_df2], axis=1)\n",
    "mapperlist = list(range(len(new_df)))\n",
    "mapperdat = pd.DataFrame(mapperlist, columns=['mapper'])\n",
    "new_df = pd.concat([new_df, mapperdat], axis=1, join='inner')\n",
    "new_val = pd.merge(val, new_df, on='id')\n",
    "new_val.drop(['bias_x', 'mapper'], axis=1, inplace=True)\n",
    "new_val.rename(columns={\"bias_y\": \"bias\"}, inplace=True)\n",
    "new_val.head()"
   ]
  },
  {
   "cell_type": "code",
   "execution_count": null,
   "metadata": {
    "colab": {
     "base_uri": "https://localhost:8080/"
    },
    "id": "GceT1iCc4Z6U",
    "outputId": "66e906e9-6061-45b6-a319-c30947dd6cde"
   },
   "outputs": [
    {
     "data": {
      "text/plain": [
       "(113519, 9)"
      ]
     },
     "execution_count": 74,
     "metadata": {
      "tags": []
     },
     "output_type": "execute_result"
    }
   ],
   "source": [
    "new_val.shape"
   ]
  },
  {
   "cell_type": "code",
   "execution_count": null,
   "metadata": {
    "colab": {
     "base_uri": "https://localhost:8080/"
    },
    "id": "kmS8pwHyvys0",
    "outputId": "d154453e-aeac-4b04-d9f0-dcf9a01a912d"
   },
   "outputs": [
    {
     "data": {
      "text/plain": [
       "Series([], Name: label, dtype: int64)"
      ]
     },
     "execution_count": 75,
     "metadata": {
      "tags": []
     },
     "output_type": "execute_result"
    }
   ],
   "source": [
    "new_val[new_val['article_sent'].isna()]['label'].value_counts()"
   ]
  },
  {
   "cell_type": "markdown",
   "metadata": {
    "id": "ESZ9oDTKv5oi"
   },
   "source": [
    "- 이제 train set: new_train, validation set: new_val 데이터프레임을 계속 사용할 것임!"
   ]
  },
  {
   "cell_type": "markdown",
   "metadata": {
    "id": "6AeRjLHHJuUu"
   },
   "source": [
    "### 5)토큰화 - Mecab 사용\n",
    "- new_train df에 새로운 컬럼 'article_token'을 만들고 품사를 태깅한 토큰화 수행"
   ]
  },
  {
   "cell_type": "code",
   "execution_count": null,
   "metadata": {
    "id": "TGzNsnKikaQr"
   },
   "outputs": [],
   "source": [
    "# !git clone https://github.com/SOMJANG/Mecab-ko-for-Google-Colab.git\n",
    "# %cd Mecab-ko-for-Google-Colab\n",
    "# !bash install_mecab-ko_on_colab190912.sh"
   ]
  },
  {
   "cell_type": "code",
   "execution_count": null,
   "metadata": {
    "id": "UI6bs8GjkaVy"
   },
   "outputs": [],
   "source": [
    "from konlpy.tag import Mecab"
   ]
  },
  {
   "cell_type": "code",
   "execution_count": null,
   "metadata": {
    "colab": {
     "base_uri": "https://localhost:8080/",
     "height": 541
    },
    "id": "5MvmlGijeiOd",
    "outputId": "0188bcef-aa54-4f56-82fc-b47e1109f520"
   },
   "outputs": [
    {
     "data": {
      "text/html": [
       "<div>\n",
       "<style scoped>\n",
       "    .dataframe tbody tr th:only-of-type {\n",
       "        vertical-align: middle;\n",
       "    }\n",
       "\n",
       "    .dataframe tbody tr th {\n",
       "        vertical-align: top;\n",
       "    }\n",
       "\n",
       "    .dataframe thead th {\n",
       "        text-align: right;\n",
       "    }\n",
       "</style>\n",
       "<table border=\"1\" class=\"dataframe\">\n",
       "  <thead>\n",
       "    <tr style=\"text-align: right;\">\n",
       "      <th></th>\n",
       "      <th>media</th>\n",
       "      <th>article_original</th>\n",
       "      <th>abstractive</th>\n",
       "      <th>extractive</th>\n",
       "      <th>id</th>\n",
       "      <th>article_sent</th>\n",
       "      <th>label</th>\n",
       "      <th>first</th>\n",
       "      <th>bias</th>\n",
       "      <th>article_token</th>\n",
       "    </tr>\n",
       "  </thead>\n",
       "  <tbody>\n",
       "    <tr>\n",
       "      <th>0</th>\n",
       "      <td>국제신문</td>\n",
       "      <td>[부산시가 2032년 하계올림픽 국내 유치 신청 도시 선정을 앞두고 경쟁 도시인 서...</td>\n",
       "      <td>부산시가 2032년 하계올림픽 국내 유치 신청 도시 선정을 앞두고 경쟁 도시인 서울...</td>\n",
       "      <td>[0, 5, 3]</td>\n",
       "      <td>333727228</td>\n",
       "      <td>부산시가 2032년 하계올림픽 국내 유치 신청 도시 선정을 앞두고 경쟁 도시인 서울...</td>\n",
       "      <td>1</td>\n",
       "      <td>1</td>\n",
       "      <td>10.642857</td>\n",
       "      <td>[(부산시, NNP), (가, JKS), (2032, SN), (년, NNBC), ...</td>\n",
       "    </tr>\n",
       "    <tr>\n",
       "      <th>1</th>\n",
       "      <td>국제신문</td>\n",
       "      <td>[부산시가 2032년 하계올림픽 국내 유치 신청 도시 선정을 앞두고 경쟁 도시인 서...</td>\n",
       "      <td>부산시가 2032년 하계올림픽 국내 유치 신청 도시 선정을 앞두고 경쟁 도시인 서울...</td>\n",
       "      <td>[0, 5, 3]</td>\n",
       "      <td>333727228</td>\n",
       "      <td>오거돈 부산시장은 11일 오후 충북 진천 국가대표 선수촌에서 열릴 대한체육회의 대의...</td>\n",
       "      <td>0</td>\n",
       "      <td>0</td>\n",
       "      <td>8.848214</td>\n",
       "      <td>[(오거돈, NNP), (부산, NNP), (시장, NNG), (은, JX), (1...</td>\n",
       "    </tr>\n",
       "    <tr>\n",
       "      <th>2</th>\n",
       "      <td>국제신문</td>\n",
       "      <td>[부산시가 2032년 하계올림픽 국내 유치 신청 도시 선정을 앞두고 경쟁 도시인 서...</td>\n",
       "      <td>부산시가 2032년 하계올림픽 국내 유치 신청 도시 선정을 앞두고 경쟁 도시인 서울...</td>\n",
       "      <td>[0, 5, 3]</td>\n",
       "      <td>333727228</td>\n",
       "      <td>대의원 총회 심의에는 오거돈 부산시장과 박원순 서울시장이 참석해 각각 올림픽 유치 ...</td>\n",
       "      <td>0</td>\n",
       "      <td>0</td>\n",
       "      <td>8.375000</td>\n",
       "      <td>[(대의원, NNG), (총회, NNG), (심의, NNG), (에, JKB), (...</td>\n",
       "    </tr>\n",
       "  </tbody>\n",
       "</table>\n",
       "</div>"
      ],
      "text/plain": [
       "  media  ...                                      article_token\n",
       "0  국제신문  ...  [(부산시, NNP), (가, JKS), (2032, SN), (년, NNBC), ...\n",
       "1  국제신문  ...  [(오거돈, NNP), (부산, NNP), (시장, NNG), (은, JX), (1...\n",
       "2  국제신문  ...  [(대의원, NNG), (총회, NNG), (심의, NNG), (에, JKB), (...\n",
       "\n",
       "[3 rows x 10 columns]"
      ]
     },
     "metadata": {
      "tags": []
     },
     "output_type": "display_data"
    },
    {
     "data": {
      "text/html": [
       "<div>\n",
       "<style scoped>\n",
       "    .dataframe tbody tr th:only-of-type {\n",
       "        vertical-align: middle;\n",
       "    }\n",
       "\n",
       "    .dataframe tbody tr th {\n",
       "        vertical-align: top;\n",
       "    }\n",
       "\n",
       "    .dataframe thead th {\n",
       "        text-align: right;\n",
       "    }\n",
       "</style>\n",
       "<table border=\"1\" class=\"dataframe\">\n",
       "  <thead>\n",
       "    <tr style=\"text-align: right;\">\n",
       "      <th></th>\n",
       "      <th>media</th>\n",
       "      <th>article_original</th>\n",
       "      <th>abstractive</th>\n",
       "      <th>extractive</th>\n",
       "      <th>id</th>\n",
       "      <th>article_sent</th>\n",
       "      <th>label</th>\n",
       "      <th>first</th>\n",
       "      <th>bias</th>\n",
       "      <th>article_token</th>\n",
       "    </tr>\n",
       "  </thead>\n",
       "  <tbody>\n",
       "    <tr>\n",
       "      <th>0</th>\n",
       "      <td>기호일보</td>\n",
       "      <td>[포토 : 바세린, 기호일보=디지털뉴스부 요근래 매일매일 다채로운 Quiz를 내놓고...</td>\n",
       "      <td>매일 다채로운 Quiz 를 내놓고 있는 'TOSS'가 '바세린 바른 입술'과 관련한...</td>\n",
       "      <td>[1, 3, 5]</td>\n",
       "      <td>366196093</td>\n",
       "      <td>포토 : 바세린</td>\n",
       "      <td>0</td>\n",
       "      <td>1</td>\n",
       "      <td>6.926789</td>\n",
       "      <td>[(포토, NNG), (:, SC), (바세린, NNP)]</td>\n",
       "    </tr>\n",
       "    <tr>\n",
       "      <th>1</th>\n",
       "      <td>기호일보</td>\n",
       "      <td>[포토 : 바세린, 기호일보=디지털뉴스부 요근래 매일매일 다채로운 Quiz를 내놓고...</td>\n",
       "      <td>매일 다채로운 Quiz 를 내놓고 있는 'TOSS'가 '바세린 바른 입술'과 관련한...</td>\n",
       "      <td>[1, 3, 5]</td>\n",
       "      <td>366196093</td>\n",
       "      <td>기호일보=디지털뉴스부 요근래 매일매일 다채로운 Quiz를 내놓고 있는 TOSS'가 ...</td>\n",
       "      <td>1</td>\n",
       "      <td>0</td>\n",
       "      <td>6.930116</td>\n",
       "      <td>[(기호일보, NNP), (=, SY), (디지털, NNG), (뉴스, NNG), ...</td>\n",
       "    </tr>\n",
       "    <tr>\n",
       "      <th>2</th>\n",
       "      <td>기호일보</td>\n",
       "      <td>[포토 : 바세린, 기호일보=디지털뉴스부 요근래 매일매일 다채로운 Quiz를 내놓고...</td>\n",
       "      <td>매일 다채로운 Quiz 를 내놓고 있는 'TOSS'가 '바세린 바른 입술'과 관련한...</td>\n",
       "      <td>[1, 3, 5]</td>\n",
       "      <td>366196093</td>\n",
       "      <td>이로인해 현재 대형포털의 서칭리스트 상단에 바세린 바른입술 이 순위권을 장악하고 있...</td>\n",
       "      <td>0</td>\n",
       "      <td>0</td>\n",
       "      <td>5.683860</td>\n",
       "      <td>[(이, NP), (로, JKB), (인해, VV+EC), (현재, MAG), (대...</td>\n",
       "    </tr>\n",
       "  </tbody>\n",
       "</table>\n",
       "</div>"
      ],
      "text/plain": [
       "  media  ...                                      article_token\n",
       "0  기호일보  ...                   [(포토, NNG), (:, SC), (바세린, NNP)]\n",
       "1  기호일보  ...  [(기호일보, NNP), (=, SY), (디지털, NNG), (뉴스, NNG), ...\n",
       "2  기호일보  ...  [(이, NP), (로, JKB), (인해, VV+EC), (현재, MAG), (대...\n",
       "\n",
       "[3 rows x 10 columns]"
      ]
     },
     "metadata": {
      "tags": []
     },
     "output_type": "display_data"
    }
   ],
   "source": [
    "mecab = Mecab()\n",
    "new_train['article_token'] = new_train['article_sent'].apply(mecab.pos)\n",
    "new_val['article_token'] = new_val['article_sent'].apply(mecab.pos)\n",
    "#cf; 품사 태깅을 원한다면 mecab.pos / 명사만 뽑기 mecab.nouns / 형태소만 추출 mecab.morphs\n",
    "display(new_train.head(3), new_val.head(3))"
   ]
  },
  {
   "cell_type": "code",
   "execution_count": null,
   "metadata": {
    "id": "ldm5OZtLa-R2"
   },
   "outputs": [],
   "source": [
    "# 태깅된 품사 중 필요한 태그만 가져오기 - 단, 태그는 더이상 사용하지 않으므로 개별 단어 뒤에 태그는 붙이지 않음. \n",
    "significant_tags = ['NNG', 'NNP', 'NNB', 'VV', 'VA', 'VX', 'MAG', 'MAJ', 'XSV', 'XSA']\n",
    "token_data1 = []\n",
    "for i in range(len(new_train)):\n",
    "  tmp=[]\n",
    "  tokens = new_train.loc[i,'article_token']\n",
    "  [tmp.append(token[0]) for token in tokens if token[1] in significant_tags]\n",
    "  token_data1.append(tmp)"
   ]
  },
  {
   "cell_type": "code",
   "execution_count": null,
   "metadata": {
    "id": "85AOXpu86l2O"
   },
   "outputs": [],
   "source": [
    "# 태깅된 품사 중 필요한 태그만 가져오기 - 단, 태그는 더이상 사용하지 않으므로 개별 단어 뒤에 태그는 붙이지 않음. \n",
    "significant_tags = ['NNG', 'NNP', 'NNB', 'VV', 'VA', 'VX', 'MAG', 'MAJ', 'XSV', 'XSA']\n",
    "token_data2 = []\n",
    "for i in range(len(new_val)):\n",
    "  tmp=[]\n",
    "  tokens = new_val.loc[i,'article_token']\n",
    "  [tmp.append(token[0]) for token in tokens if token[1] in significant_tags]\n",
    "  token_data2.append(tmp)"
   ]
  },
  {
   "cell_type": "code",
   "execution_count": null,
   "metadata": {
    "id": "a1KXBrudgdyx"
   },
   "outputs": [],
   "source": [
    "new_train['article_token'] = token_data1\n",
    "new_val['article_token'] = token_data2"
   ]
  },
  {
   "cell_type": "markdown",
   "metadata": {
    "id": "M0Qy9trCJ8cL"
   },
   "source": [
    "## 2. 피처 구축"
   ]
  },
  {
   "cell_type": "markdown",
   "metadata": {
    "id": "NbxOpRTJ__wd"
   },
   "source": [
    "### 1) SL(Sentence Length)\n",
    "- 피처명: 'SL'\n",
    "- 한 문장 내 등장한 단어의 수 / 기사의 가장 긴 문장에서 등장한 단어의 수 "
   ]
  },
  {
   "cell_type": "code",
   "execution_count": null,
   "metadata": {
    "id": "gnknLBJM8UKV"
   },
   "outputs": [],
   "source": [
    "#저장된 파일을 불러오면 'article_token'이 list인데 str으로 인식되는 문제 해결 \n",
    "#new_train['article_token'] = new_train['article_token'].apply(eval)"
   ]
  },
  {
   "cell_type": "code",
   "execution_count": null,
   "metadata": {
    "id": "5E9QR0meAj4i"
   },
   "outputs": [],
   "source": [
    "#각 문장의 token 개수 반환 -> 'SL1'\n",
    "sl_full1 = []\n",
    "for i in range(len(new_train)):\n",
    "  sl1 = len(new_train['article_token'][i])\n",
    "  sl_full1.append(sl1)\n",
    "\n",
    "new_train['SL1'] = sl_full1"
   ]
  },
  {
   "cell_type": "code",
   "execution_count": null,
   "metadata": {
    "colab": {
     "base_uri": "https://localhost:8080/",
     "height": 195
    },
    "id": "eJgwHlqaAmzJ",
    "outputId": "a6087634-c063-47bf-ef6d-8a8a549e542e"
   },
   "outputs": [
    {
     "data": {
      "text/html": [
       "<div>\n",
       "<style scoped>\n",
       "    .dataframe tbody tr th:only-of-type {\n",
       "        vertical-align: middle;\n",
       "    }\n",
       "\n",
       "    .dataframe tbody tr th {\n",
       "        vertical-align: top;\n",
       "    }\n",
       "\n",
       "    .dataframe thead th {\n",
       "        text-align: right;\n",
       "    }\n",
       "</style>\n",
       "<table border=\"1\" class=\"dataframe\">\n",
       "  <thead>\n",
       "    <tr style=\"text-align: right;\">\n",
       "      <th></th>\n",
       "      <th>id</th>\n",
       "      <th>SL1</th>\n",
       "    </tr>\n",
       "  </thead>\n",
       "  <tbody>\n",
       "    <tr>\n",
       "      <th>0</th>\n",
       "      <td>250362727</td>\n",
       "      <td>34</td>\n",
       "    </tr>\n",
       "    <tr>\n",
       "      <th>1</th>\n",
       "      <td>250366714</td>\n",
       "      <td>28</td>\n",
       "    </tr>\n",
       "    <tr>\n",
       "      <th>2</th>\n",
       "      <td>250366726</td>\n",
       "      <td>59</td>\n",
       "    </tr>\n",
       "    <tr>\n",
       "      <th>3</th>\n",
       "      <td>250366727</td>\n",
       "      <td>22</td>\n",
       "    </tr>\n",
       "    <tr>\n",
       "      <th>4</th>\n",
       "      <td>250371207</td>\n",
       "      <td>24</td>\n",
       "    </tr>\n",
       "  </tbody>\n",
       "</table>\n",
       "</div>"
      ],
      "text/plain": [
       "          id  SL1\n",
       "0  250362727   34\n",
       "1  250366714   28\n",
       "2  250366726   59\n",
       "3  250366727   22\n",
       "4  250371207   24"
      ]
     },
     "execution_count": 84,
     "metadata": {
      "tags": []
     },
     "output_type": "execute_result"
    }
   ],
   "source": [
    "#각 article 내 가장 긴 문장의 token 개수 반환-> 'SL2'\n",
    "sl_full2 = pd.DataFrame(new_train.groupby(by='id')['SL1'].max())\n",
    "sl_full2.reset_index(inplace=True)\n",
    "sl_full2.head()"
   ]
  },
  {
   "cell_type": "code",
   "execution_count": null,
   "metadata": {
    "id": "J-qPqemTBz-D"
   },
   "outputs": [],
   "source": [
    "sl_full2.rename(columns={'SL1':'SL2'}, inplace=True)\n",
    "new_train = pd.merge(new_train, sl_full2, on='id')"
   ]
  },
  {
   "cell_type": "code",
   "execution_count": null,
   "metadata": {
    "colab": {
     "base_uri": "https://localhost:8080/",
     "height": 430
    },
    "id": "Aob0SYvvCRoT",
    "outputId": "9a31dad8-ef05-4920-f777-af1545eee6df"
   },
   "outputs": [
    {
     "data": {
      "text/html": [
       "<div>\n",
       "<style scoped>\n",
       "    .dataframe tbody tr th:only-of-type {\n",
       "        vertical-align: middle;\n",
       "    }\n",
       "\n",
       "    .dataframe tbody tr th {\n",
       "        vertical-align: top;\n",
       "    }\n",
       "\n",
       "    .dataframe thead th {\n",
       "        text-align: right;\n",
       "    }\n",
       "</style>\n",
       "<table border=\"1\" class=\"dataframe\">\n",
       "  <thead>\n",
       "    <tr style=\"text-align: right;\">\n",
       "      <th></th>\n",
       "      <th>media</th>\n",
       "      <th>article_original</th>\n",
       "      <th>abstractive</th>\n",
       "      <th>extractive</th>\n",
       "      <th>id</th>\n",
       "      <th>article_sent</th>\n",
       "      <th>label</th>\n",
       "      <th>first</th>\n",
       "      <th>bias</th>\n",
       "      <th>article_token</th>\n",
       "      <th>SL</th>\n",
       "    </tr>\n",
       "  </thead>\n",
       "  <tbody>\n",
       "    <tr>\n",
       "      <th>0</th>\n",
       "      <td>국제신문</td>\n",
       "      <td>[부산시가 2032년 하계올림픽 국내 유치 신청 도시 선정을 앞두고 경쟁 도시인 서...</td>\n",
       "      <td>부산시가 2032년 하계올림픽 국내 유치 신청 도시 선정을 앞두고 경쟁 도시인 서울...</td>\n",
       "      <td>[0, 5, 3]</td>\n",
       "      <td>333727228</td>\n",
       "      <td>부산시가 2032년 하계올림픽 국내 유치 신청 도시 선정을 앞두고 경쟁 도시인 서울...</td>\n",
       "      <td>1</td>\n",
       "      <td>1</td>\n",
       "      <td>10.642857</td>\n",
       "      <td>[부산시, 하계, 올림픽, 국내, 유치, 신청, 도시, 선정, 앞두, 경쟁, 도시,...</td>\n",
       "      <td>0.466667</td>\n",
       "    </tr>\n",
       "    <tr>\n",
       "      <th>1</th>\n",
       "      <td>국제신문</td>\n",
       "      <td>[부산시가 2032년 하계올림픽 국내 유치 신청 도시 선정을 앞두고 경쟁 도시인 서...</td>\n",
       "      <td>부산시가 2032년 하계올림픽 국내 유치 신청 도시 선정을 앞두고 경쟁 도시인 서울...</td>\n",
       "      <td>[0, 5, 3]</td>\n",
       "      <td>333727228</td>\n",
       "      <td>오거돈 부산시장은 11일 오후 충북 진천 국가대표 선수촌에서 열릴 대한체육회의 대의...</td>\n",
       "      <td>0</td>\n",
       "      <td>0</td>\n",
       "      <td>8.848214</td>\n",
       "      <td>[오거돈, 부산, 시장, 오후, 충북, 진천, 국가, 대표, 선수, 촌, 대한체육회...</td>\n",
       "      <td>0.577778</td>\n",
       "    </tr>\n",
       "    <tr>\n",
       "      <th>2</th>\n",
       "      <td>국제신문</td>\n",
       "      <td>[부산시가 2032년 하계올림픽 국내 유치 신청 도시 선정을 앞두고 경쟁 도시인 서...</td>\n",
       "      <td>부산시가 2032년 하계올림픽 국내 유치 신청 도시 선정을 앞두고 경쟁 도시인 서울...</td>\n",
       "      <td>[0, 5, 3]</td>\n",
       "      <td>333727228</td>\n",
       "      <td>대의원 총회 심의에는 오거돈 부산시장과 박원순 서울시장이 참석해 각각 올림픽 유치 ...</td>\n",
       "      <td>0</td>\n",
       "      <td>0</td>\n",
       "      <td>8.375000</td>\n",
       "      <td>[대의원, 총회, 심의, 오거돈, 부산, 시장, 박원순, 서울, 시장, 참석, 각각...</td>\n",
       "      <td>0.333333</td>\n",
       "    </tr>\n",
       "    <tr>\n",
       "      <th>3</th>\n",
       "      <td>국제신문</td>\n",
       "      <td>[부산시가 2032년 하계올림픽 국내 유치 신청 도시 선정을 앞두고 경쟁 도시인 서...</td>\n",
       "      <td>부산시가 2032년 하계올림픽 국내 유치 신청 도시 선정을 앞두고 경쟁 도시인 서울...</td>\n",
       "      <td>[0, 5, 3]</td>\n",
       "      <td>333727228</td>\n",
       "      <td>두 광역단체장의 발표와 질의응답을 거친 뒤 대의원 투표를 통해 국내 유치 도시가 확...</td>\n",
       "      <td>1</td>\n",
       "      <td>0</td>\n",
       "      <td>6.511905</td>\n",
       "      <td>[광역, 단체장, 발표, 질, 응답, 뒤, 대의원, 투표, 국내, 유치, 도시, 확정]</td>\n",
       "      <td>0.266667</td>\n",
       "    </tr>\n",
       "    <tr>\n",
       "      <th>4</th>\n",
       "      <td>국제신문</td>\n",
       "      <td>[부산시가 2032년 하계올림픽 국내 유치 신청 도시 선정을 앞두고 경쟁 도시인 서...</td>\n",
       "      <td>부산시가 2032년 하계올림픽 국내 유치 신청 도시 선정을 앞두고 경쟁 도시인 서울...</td>\n",
       "      <td>[0, 5, 3]</td>\n",
       "      <td>333727228</td>\n",
       "      <td>오 시장은 한반도는 되돌릴 수 없는 평화의 미래를 향해 또 한 번 큰 걸음을 내딛는...</td>\n",
       "      <td>0</td>\n",
       "      <td>0</td>\n",
       "      <td>4.895833</td>\n",
       "      <td>[시장, 한반도, 수, 없, 평화, 미래, 또, 걸음, 내딛, 중]</td>\n",
       "      <td>0.222222</td>\n",
       "    </tr>\n",
       "  </tbody>\n",
       "</table>\n",
       "</div>"
      ],
      "text/plain": [
       "  media  ...        SL\n",
       "0  국제신문  ...  0.466667\n",
       "1  국제신문  ...  0.577778\n",
       "2  국제신문  ...  0.333333\n",
       "3  국제신문  ...  0.266667\n",
       "4  국제신문  ...  0.222222\n",
       "\n",
       "[5 rows x 11 columns]"
      ]
     },
     "execution_count": 86,
     "metadata": {
      "tags": []
     },
     "output_type": "execute_result"
    }
   ],
   "source": [
    "#문장의 길이의 비 ('SL' 컬럼) 계산\n",
    "new_train['SL'] = new_train['SL1']/new_train['SL2']\n",
    "new_train.drop(labels=['SL1','SL2'], axis=1, inplace=True) #필요 없는 컬럼 삭제\n",
    "new_train.head()"
   ]
  },
  {
   "cell_type": "code",
   "execution_count": null,
   "metadata": {
    "colab": {
     "base_uri": "https://localhost:8080/",
     "height": 414
    },
    "id": "Ut-ioxz_7mvu",
    "outputId": "b687bea7-08da-4935-fb6d-033f1b39fa4b"
   },
   "outputs": [
    {
     "data": {
      "text/html": [
       "<div>\n",
       "<style scoped>\n",
       "    .dataframe tbody tr th:only-of-type {\n",
       "        vertical-align: middle;\n",
       "    }\n",
       "\n",
       "    .dataframe tbody tr th {\n",
       "        vertical-align: top;\n",
       "    }\n",
       "\n",
       "    .dataframe thead th {\n",
       "        text-align: right;\n",
       "    }\n",
       "</style>\n",
       "<table border=\"1\" class=\"dataframe\">\n",
       "  <thead>\n",
       "    <tr style=\"text-align: right;\">\n",
       "      <th></th>\n",
       "      <th>media</th>\n",
       "      <th>article_original</th>\n",
       "      <th>abstractive</th>\n",
       "      <th>extractive</th>\n",
       "      <th>id</th>\n",
       "      <th>article_sent</th>\n",
       "      <th>label</th>\n",
       "      <th>first</th>\n",
       "      <th>bias</th>\n",
       "      <th>article_token</th>\n",
       "      <th>SL</th>\n",
       "    </tr>\n",
       "  </thead>\n",
       "  <tbody>\n",
       "    <tr>\n",
       "      <th>0</th>\n",
       "      <td>기호일보</td>\n",
       "      <td>[포토 : 바세린, 기호일보=디지털뉴스부 요근래 매일매일 다채로운 Quiz를 내놓고...</td>\n",
       "      <td>매일 다채로운 Quiz 를 내놓고 있는 'TOSS'가 '바세린 바른 입술'과 관련한...</td>\n",
       "      <td>[1, 3, 5]</td>\n",
       "      <td>366196093</td>\n",
       "      <td>포토 : 바세린</td>\n",
       "      <td>0</td>\n",
       "      <td>1</td>\n",
       "      <td>6.926789</td>\n",
       "      <td>[포토, 바세린]</td>\n",
       "      <td>0.054054</td>\n",
       "    </tr>\n",
       "    <tr>\n",
       "      <th>1</th>\n",
       "      <td>기호일보</td>\n",
       "      <td>[포토 : 바세린, 기호일보=디지털뉴스부 요근래 매일매일 다채로운 Quiz를 내놓고...</td>\n",
       "      <td>매일 다채로운 Quiz 를 내놓고 있는 'TOSS'가 '바세린 바른 입술'과 관련한...</td>\n",
       "      <td>[1, 3, 5]</td>\n",
       "      <td>366196093</td>\n",
       "      <td>기호일보=디지털뉴스부 요근래 매일매일 다채로운 Quiz를 내놓고 있는 TOSS'가 ...</td>\n",
       "      <td>1</td>\n",
       "      <td>0</td>\n",
       "      <td>6.930116</td>\n",
       "      <td>[기호일보, 디지털, 뉴스, 부, 근래, 매일, 매일, 내놓, 있, 이번, 바세린,...</td>\n",
       "      <td>0.405405</td>\n",
       "    </tr>\n",
       "    <tr>\n",
       "      <th>2</th>\n",
       "      <td>기호일보</td>\n",
       "      <td>[포토 : 바세린, 기호일보=디지털뉴스부 요근래 매일매일 다채로운 Quiz를 내놓고...</td>\n",
       "      <td>매일 다채로운 Quiz 를 내놓고 있는 'TOSS'가 '바세린 바른 입술'과 관련한...</td>\n",
       "      <td>[1, 3, 5]</td>\n",
       "      <td>366196093</td>\n",
       "      <td>이로인해 현재 대형포털의 서칭리스트 상단에 바세린 바른입술 이 순위권을 장악하고 있...</td>\n",
       "      <td>0</td>\n",
       "      <td>0</td>\n",
       "      <td>5.683860</td>\n",
       "      <td>[현재, 대형, 포털, 서, 칭, 리스트, 상단, 바세린, 입술, 순위, 장악, 하...</td>\n",
       "      <td>0.540541</td>\n",
       "    </tr>\n",
       "    <tr>\n",
       "      <th>3</th>\n",
       "      <td>기호일보</td>\n",
       "      <td>[포토 : 바세린, 기호일보=디지털뉴스부 요근래 매일매일 다채로운 Quiz를 내놓고...</td>\n",
       "      <td>매일 다채로운 Quiz 를 내놓고 있는 'TOSS'가 '바세린 바른 입술'과 관련한...</td>\n",
       "      <td>[1, 3, 5]</td>\n",
       "      <td>366196093</td>\n",
       "      <td>칠 일 'toss'에는 바세린 바른입술 과 관련한 event에 대한 내용을 열거한 ...</td>\n",
       "      <td>1</td>\n",
       "      <td>0</td>\n",
       "      <td>3.911814</td>\n",
       "      <td>[바세린, 입술, 과, 관련, 내용, 열거, 후, 내용, 들어가, 단어, 묻]</td>\n",
       "      <td>0.297297</td>\n",
       "    </tr>\n",
       "    <tr>\n",
       "      <th>4</th>\n",
       "      <td>기호일보</td>\n",
       "      <td>[포토 : 바세린, 기호일보=디지털뉴스부 요근래 매일매일 다채로운 Quiz를 내놓고...</td>\n",
       "      <td>매일 다채로운 Quiz 를 내놓고 있는 'TOSS'가 '바세린 바른 입술'과 관련한...</td>\n",
       "      <td>[1, 3, 5]</td>\n",
       "      <td>366196093</td>\n",
       "      <td>이어 hint로 naver에서 복사한 해당 문구를 붙여넣기를 한 후 엔터를 쳐 나오...</td>\n",
       "      <td>0</td>\n",
       "      <td>0</td>\n",
       "      <td>2.923461</td>\n",
       "      <td>[이어, 복사, 해당, 문구, 넣, 후, 엔터, 나오, 결과물, 참조, 하, 설명,...</td>\n",
       "      <td>0.648649</td>\n",
       "    </tr>\n",
       "  </tbody>\n",
       "</table>\n",
       "</div>"
      ],
      "text/plain": [
       "  media  ...        SL\n",
       "0  기호일보  ...  0.054054\n",
       "1  기호일보  ...  0.405405\n",
       "2  기호일보  ...  0.540541\n",
       "3  기호일보  ...  0.297297\n",
       "4  기호일보  ...  0.648649\n",
       "\n",
       "[5 rows x 11 columns]"
      ]
     },
     "execution_count": 87,
     "metadata": {
      "tags": []
     },
     "output_type": "execute_result"
    }
   ],
   "source": [
    "# val set에 대해서도 같은 과정 진행\n",
    "#각 문장의 token 개수 반환 -> 'SL1'\n",
    "sl_full1 = []\n",
    "for i in range(len(new_val)):\n",
    "  sl1 = len(new_val['article_token'][i])\n",
    "  sl_full1.append(sl1)\n",
    "\n",
    "new_val['SL1'] = sl_full1\n",
    "\n",
    "#각 article 내 가장 긴 문장의 token 개수 반환-> 'SL2'\n",
    "sl_full2 = pd.DataFrame(new_val.groupby(by='id')['SL1'].max())\n",
    "sl_full2.reset_index(inplace=True)\n",
    "sl_full2.rename(columns={'SL1':'SL2'}, inplace=True)\n",
    "new_val = pd.merge(new_val, sl_full2, on='id')\n",
    "\n",
    "#문장의 길이의 비 ('SL' 컬럼) 계산\n",
    "new_val['SL'] = new_val['SL1']/new_val['SL2']\n",
    "new_val.drop(labels=['SL1','SL2'], axis=1, inplace=True) #필요 없는 컬럼 삭제\n",
    "new_val.head()"
   ]
  },
  {
   "cell_type": "markdown",
   "metadata": {
    "id": "RIJJYaPFKPRc"
   },
   "source": [
    "### 2) TF-ISF 값 \n",
    "- 우리가 구하려고 하는 TF-ISF는 TF(term frequency) * ISF(inverse Sentence frequency)임.\n",
    "- TF-IDF에서 D(document)를 S(sentence)로 바꾼 개념이라고 생각.\n",
    "- tf(s,t): 특정 \"문장\" s에서의 특정 단어 t의 등장 횟수 \n",
    "- isf(t): 특정 단어 t가 등장한 \"문장\"의 수의 역수\n",
    "- 참고) TF-IDF는 모든 문서에서 자주 등장하는 단어는 중요도가 낮다고 판단하며, 특정 문서에서만 자주 등장하는 단어는 중요도가 높다고 판단합니다. TF-IDF 값이 낮으면 중요도가 낮은 것이며, TF-IDF 값이 크면 중요도가 큰 것입니다. 즉, the나 a와 같이 불용어의 경우에는 모든 문서에 자주 등장하기 마련이기 때문에 자연스럽게 불용어의 TF-IDF의 값은 다른 단어의 TF-IDF에 비해서 낮아지게 됩니다. (문서를 '문장'으로 바꿔서 읽으면 됨)"
   ]
  },
  {
   "cell_type": "code",
   "execution_count": null,
   "metadata": {
    "id": "-XIfBVMKWbg7"
   },
   "outputs": [],
   "source": [
    "def tf(t, d):\n",
    "    return d.count(t)\n",
    "\n",
    "def idf(t):\n",
    "    df = 0\n",
    "    for doc in docs:\n",
    "        df += t in doc\n",
    "    return log(N/(df + 1)) +1\n",
    "\n",
    "def tfidf(t, d):\n",
    "    return tf(t,d)* idf(t)"
   ]
  },
  {
   "cell_type": "code",
   "execution_count": null,
   "metadata": {
    "id": "D60vozMSuu6K"
   },
   "outputs": [],
   "source": [
    "import pandas as pd # 데이터프레임 사용을 위해\n",
    "from math import log # IDF 계산을 위해\n",
    "\n",
    "mecab = Mecab()"
   ]
  },
  {
   "cell_type": "code",
   "execution_count": null,
   "metadata": {
    "id": "6T7QOqnwns2l"
   },
   "outputs": [],
   "source": [
    "#유니크한 id 리스트 만들기\n",
    "id_list = new_train['id'].unique()\n",
    "su_list =[]\n",
    "error_list=[]\n",
    "#각 id가 들어있는 미니 df 만듦\n",
    "for id in id_list:\n",
    "  # try:\n",
    "    tmp = new_train[new_train['id']==id]\n",
    "    doc_list = tmp['article_sent'].tolist()\n",
    "    docs = [' '.join(mecab.nouns(doc)) for doc in doc_list] #앞의 doc_list의 문장들을 명사만 남긴 문장으로 변환 \n",
    "    vocab = list(set(w for doc in docs for w in doc.split())) #word\n",
    "\n",
    "    N = len(docs) # 총 문서의 수\n",
    "  \n",
    "    ## TF-IDF 행렬\n",
    "    result = []\n",
    "    for i in range(N):\n",
    "      result.append([])\n",
    "      d = docs[i] #sent\n",
    "      for j in range(len(vocab)):\n",
    "        t = vocab[j] #word \n",
    "        result[-1].append(tfidf(t,d))\n",
    "    \n",
    "    tfidf_ = pd.DataFrame(result, columns = vocab) #행렬\n",
    "    tf_list = tfidf_.mean(axis=1).tolist()\n",
    "    su_list.extend(tf_list)\n",
    "  # except:\n",
    "  #   error_list.append(id)"
   ]
  },
  {
   "cell_type": "code",
   "execution_count": null,
   "metadata": {
    "colab": {
     "base_uri": "https://localhost:8080/"
    },
    "id": "LdsgpH5w_DVD",
    "outputId": "3815b828-d414-4205-e448-e21c1ebf5291"
   },
   "outputs": [
    {
     "data": {
      "text/plain": [
       "453903"
      ]
     },
     "execution_count": 91,
     "metadata": {
      "tags": []
     },
     "output_type": "execute_result"
    }
   ],
   "source": [
    "len(su_list)"
   ]
  },
  {
   "cell_type": "code",
   "execution_count": null,
   "metadata": {
    "colab": {
     "base_uri": "https://localhost:8080/",
     "height": 430
    },
    "id": "Ac5snw3sKtdr",
    "outputId": "a6096582-8754-42dc-902b-0127996939f7"
   },
   "outputs": [
    {
     "data": {
      "text/html": [
       "<div>\n",
       "<style scoped>\n",
       "    .dataframe tbody tr th:only-of-type {\n",
       "        vertical-align: middle;\n",
       "    }\n",
       "\n",
       "    .dataframe tbody tr th {\n",
       "        vertical-align: top;\n",
       "    }\n",
       "\n",
       "    .dataframe thead th {\n",
       "        text-align: right;\n",
       "    }\n",
       "</style>\n",
       "<table border=\"1\" class=\"dataframe\">\n",
       "  <thead>\n",
       "    <tr style=\"text-align: right;\">\n",
       "      <th></th>\n",
       "      <th>media</th>\n",
       "      <th>article_original</th>\n",
       "      <th>abstractive</th>\n",
       "      <th>extractive</th>\n",
       "      <th>id</th>\n",
       "      <th>article_sent</th>\n",
       "      <th>label</th>\n",
       "      <th>first</th>\n",
       "      <th>bias</th>\n",
       "      <th>article_token</th>\n",
       "      <th>SL</th>\n",
       "      <th>TF_ISF</th>\n",
       "    </tr>\n",
       "  </thead>\n",
       "  <tbody>\n",
       "    <tr>\n",
       "      <th>0</th>\n",
       "      <td>국제신문</td>\n",
       "      <td>[부산시가 2032년 하계올림픽 국내 유치 신청 도시 선정을 앞두고 경쟁 도시인 서...</td>\n",
       "      <td>부산시가 2032년 하계올림픽 국내 유치 신청 도시 선정을 앞두고 경쟁 도시인 서울...</td>\n",
       "      <td>[0, 5, 3]</td>\n",
       "      <td>333727228</td>\n",
       "      <td>부산시가 2032년 하계올림픽 국내 유치 신청 도시 선정을 앞두고 경쟁 도시인 서울...</td>\n",
       "      <td>1</td>\n",
       "      <td>1</td>\n",
       "      <td>10.642857</td>\n",
       "      <td>[부산시, 하계, 올림픽, 국내, 유치, 신청, 도시, 선정, 앞두, 경쟁, 도시,...</td>\n",
       "      <td>0.466667</td>\n",
       "      <td>0.421750</td>\n",
       "    </tr>\n",
       "    <tr>\n",
       "      <th>1</th>\n",
       "      <td>국제신문</td>\n",
       "      <td>[부산시가 2032년 하계올림픽 국내 유치 신청 도시 선정을 앞두고 경쟁 도시인 서...</td>\n",
       "      <td>부산시가 2032년 하계올림픽 국내 유치 신청 도시 선정을 앞두고 경쟁 도시인 서울...</td>\n",
       "      <td>[0, 5, 3]</td>\n",
       "      <td>333727228</td>\n",
       "      <td>오거돈 부산시장은 11일 오후 충북 진천 국가대표 선수촌에서 열릴 대한체육회의 대의...</td>\n",
       "      <td>0</td>\n",
       "      <td>0</td>\n",
       "      <td>8.848214</td>\n",
       "      <td>[오거돈, 부산, 시장, 오후, 충북, 진천, 국가, 대표, 선수, 촌, 대한체육회...</td>\n",
       "      <td>0.577778</td>\n",
       "      <td>0.550548</td>\n",
       "    </tr>\n",
       "    <tr>\n",
       "      <th>2</th>\n",
       "      <td>국제신문</td>\n",
       "      <td>[부산시가 2032년 하계올림픽 국내 유치 신청 도시 선정을 앞두고 경쟁 도시인 서...</td>\n",
       "      <td>부산시가 2032년 하계올림픽 국내 유치 신청 도시 선정을 앞두고 경쟁 도시인 서울...</td>\n",
       "      <td>[0, 5, 3]</td>\n",
       "      <td>333727228</td>\n",
       "      <td>대의원 총회 심의에는 오거돈 부산시장과 박원순 서울시장이 참석해 각각 올림픽 유치 ...</td>\n",
       "      <td>0</td>\n",
       "      <td>0</td>\n",
       "      <td>8.375000</td>\n",
       "      <td>[대의원, 총회, 심의, 오거돈, 부산, 시장, 박원순, 서울, 시장, 참석, 각각...</td>\n",
       "      <td>0.333333</td>\n",
       "      <td>0.244185</td>\n",
       "    </tr>\n",
       "    <tr>\n",
       "      <th>3</th>\n",
       "      <td>국제신문</td>\n",
       "      <td>[부산시가 2032년 하계올림픽 국내 유치 신청 도시 선정을 앞두고 경쟁 도시인 서...</td>\n",
       "      <td>부산시가 2032년 하계올림픽 국내 유치 신청 도시 선정을 앞두고 경쟁 도시인 서울...</td>\n",
       "      <td>[0, 5, 3]</td>\n",
       "      <td>333727228</td>\n",
       "      <td>두 광역단체장의 발표와 질의응답을 거친 뒤 대의원 투표를 통해 국내 유치 도시가 확...</td>\n",
       "      <td>1</td>\n",
       "      <td>0</td>\n",
       "      <td>6.511905</td>\n",
       "      <td>[광역, 단체장, 발표, 질, 응답, 뒤, 대의원, 투표, 국내, 유치, 도시, 확정]</td>\n",
       "      <td>0.266667</td>\n",
       "      <td>0.229979</td>\n",
       "    </tr>\n",
       "    <tr>\n",
       "      <th>4</th>\n",
       "      <td>국제신문</td>\n",
       "      <td>[부산시가 2032년 하계올림픽 국내 유치 신청 도시 선정을 앞두고 경쟁 도시인 서...</td>\n",
       "      <td>부산시가 2032년 하계올림픽 국내 유치 신청 도시 선정을 앞두고 경쟁 도시인 서울...</td>\n",
       "      <td>[0, 5, 3]</td>\n",
       "      <td>333727228</td>\n",
       "      <td>오 시장은 한반도는 되돌릴 수 없는 평화의 미래를 향해 또 한 번 큰 걸음을 내딛는...</td>\n",
       "      <td>0</td>\n",
       "      <td>0</td>\n",
       "      <td>4.895833</td>\n",
       "      <td>[시장, 한반도, 수, 없, 평화, 미래, 또, 걸음, 내딛, 중]</td>\n",
       "      <td>0.222222</td>\n",
       "      <td>0.157651</td>\n",
       "    </tr>\n",
       "  </tbody>\n",
       "</table>\n",
       "</div>"
      ],
      "text/plain": [
       "  media                                   article_original  ...        SL    TF_ISF\n",
       "0  국제신문  [부산시가 2032년 하계올림픽 국내 유치 신청 도시 선정을 앞두고 경쟁 도시인 서...  ...  0.466667  0.421750\n",
       "1  국제신문  [부산시가 2032년 하계올림픽 국내 유치 신청 도시 선정을 앞두고 경쟁 도시인 서...  ...  0.577778  0.550548\n",
       "2  국제신문  [부산시가 2032년 하계올림픽 국내 유치 신청 도시 선정을 앞두고 경쟁 도시인 서...  ...  0.333333  0.244185\n",
       "3  국제신문  [부산시가 2032년 하계올림픽 국내 유치 신청 도시 선정을 앞두고 경쟁 도시인 서...  ...  0.266667  0.229979\n",
       "4  국제신문  [부산시가 2032년 하계올림픽 국내 유치 신청 도시 선정을 앞두고 경쟁 도시인 서...  ...  0.222222  0.157651\n",
       "\n",
       "[5 rows x 12 columns]"
      ]
     },
     "execution_count": 92,
     "metadata": {
      "tags": []
     },
     "output_type": "execute_result"
    }
   ],
   "source": [
    "new_train['TF_ISF'] = su_list\n",
    "new_train.head()"
   ]
  },
  {
   "cell_type": "code",
   "execution_count": null,
   "metadata": {
    "colab": {
     "base_uri": "https://localhost:8080/"
    },
    "id": "0Lfk_cW61u1r",
    "outputId": "6ca89b32-812b-475c-ace4-35136df2a56d"
   },
   "outputs": [
    {
     "data": {
      "text/plain": [
       "0"
      ]
     },
     "execution_count": 93,
     "metadata": {
      "tags": []
     },
     "output_type": "execute_result"
    }
   ],
   "source": [
    "new_train['TF_ISF'].isna().sum()"
   ]
  },
  {
   "cell_type": "code",
   "execution_count": null,
   "metadata": {
    "id": "6nSgpU6R8KIJ"
   },
   "outputs": [],
   "source": [
    "# for validation\n",
    "\n",
    "id_list = new_val['id'].unique()\n",
    "su_list =[]\n",
    "error_list=[]\n",
    "#각 id가 들어있는 미니 df 만듦\n",
    "for id in id_list:\n",
    "  # try:\n",
    "    tmp = new_val[new_val['id']==id]\n",
    "    doc_list = tmp['article_sent'].tolist()\n",
    "    docs = [' '.join(mecab.nouns(doc)) for doc in doc_list] #앞의 doc_list의 문장들을 명사만 남긴 문장으로 변환 \n",
    "    vocab = list(set(w for doc in docs for w in doc.split())) #word\n",
    "\n",
    "    N = len(docs) # 총 문서의 수\n",
    "  \n",
    "    ## TF-IDF 행렬\n",
    "    result = []\n",
    "    for i in range(N):\n",
    "      result.append([])\n",
    "      d = docs[i] #sent\n",
    "      for j in range(len(vocab)):\n",
    "        t = vocab[j] #word \n",
    "        result[-1].append(tfidf(t,d))\n",
    "    \n",
    "    tfidf_ = pd.DataFrame(result, columns = vocab) #행렬\n",
    "    tf_list = tfidf_.mean(axis=1).tolist()\n",
    "    su_list.extend(tf_list)\n",
    "  # except:\n",
    "  #   error_list.append(id)"
   ]
  },
  {
   "cell_type": "code",
   "execution_count": null,
   "metadata": {
    "colab": {
     "base_uri": "https://localhost:8080/",
     "height": 430
    },
    "id": "7UQpi6B-8XGD",
    "outputId": "46f691a7-a0e4-4ce9-af5a-ab68b48c6ae7"
   },
   "outputs": [
    {
     "name": "stdout",
     "output_type": "stream",
     "text": [
      "0\n"
     ]
    },
    {
     "data": {
      "text/html": [
       "<div>\n",
       "<style scoped>\n",
       "    .dataframe tbody tr th:only-of-type {\n",
       "        vertical-align: middle;\n",
       "    }\n",
       "\n",
       "    .dataframe tbody tr th {\n",
       "        vertical-align: top;\n",
       "    }\n",
       "\n",
       "    .dataframe thead th {\n",
       "        text-align: right;\n",
       "    }\n",
       "</style>\n",
       "<table border=\"1\" class=\"dataframe\">\n",
       "  <thead>\n",
       "    <tr style=\"text-align: right;\">\n",
       "      <th></th>\n",
       "      <th>media</th>\n",
       "      <th>article_original</th>\n",
       "      <th>abstractive</th>\n",
       "      <th>extractive</th>\n",
       "      <th>id</th>\n",
       "      <th>article_sent</th>\n",
       "      <th>label</th>\n",
       "      <th>first</th>\n",
       "      <th>bias</th>\n",
       "      <th>article_token</th>\n",
       "      <th>SL</th>\n",
       "      <th>TF_ISF</th>\n",
       "    </tr>\n",
       "  </thead>\n",
       "  <tbody>\n",
       "    <tr>\n",
       "      <th>0</th>\n",
       "      <td>기호일보</td>\n",
       "      <td>[포토 : 바세린, 기호일보=디지털뉴스부 요근래 매일매일 다채로운 Quiz를 내놓고...</td>\n",
       "      <td>매일 다채로운 Quiz 를 내놓고 있는 'TOSS'가 '바세린 바른 입술'과 관련한...</td>\n",
       "      <td>[1, 3, 5]</td>\n",
       "      <td>366196093</td>\n",
       "      <td>포토 : 바세린</td>\n",
       "      <td>0</td>\n",
       "      <td>1</td>\n",
       "      <td>6.926789</td>\n",
       "      <td>[포토, 바세린]</td>\n",
       "      <td>0.054054</td>\n",
       "      <td>0.057993</td>\n",
       "    </tr>\n",
       "    <tr>\n",
       "      <th>1</th>\n",
       "      <td>기호일보</td>\n",
       "      <td>[포토 : 바세린, 기호일보=디지털뉴스부 요근래 매일매일 다채로운 Quiz를 내놓고...</td>\n",
       "      <td>매일 다채로운 Quiz 를 내놓고 있는 'TOSS'가 '바세린 바른 입술'과 관련한...</td>\n",
       "      <td>[1, 3, 5]</td>\n",
       "      <td>366196093</td>\n",
       "      <td>기호일보=디지털뉴스부 요근래 매일매일 다채로운 Quiz를 내놓고 있는 TOSS'가 ...</td>\n",
       "      <td>1</td>\n",
       "      <td>0</td>\n",
       "      <td>6.930116</td>\n",
       "      <td>[기호일보, 디지털, 뉴스, 부, 근래, 매일, 매일, 내놓, 있, 이번, 바세린,...</td>\n",
       "      <td>0.405405</td>\n",
       "      <td>0.322731</td>\n",
       "    </tr>\n",
       "    <tr>\n",
       "      <th>2</th>\n",
       "      <td>기호일보</td>\n",
       "      <td>[포토 : 바세린, 기호일보=디지털뉴스부 요근래 매일매일 다채로운 Quiz를 내놓고...</td>\n",
       "      <td>매일 다채로운 Quiz 를 내놓고 있는 'TOSS'가 '바세린 바른 입술'과 관련한...</td>\n",
       "      <td>[1, 3, 5]</td>\n",
       "      <td>366196093</td>\n",
       "      <td>이로인해 현재 대형포털의 서칭리스트 상단에 바세린 바른입술 이 순위권을 장악하고 있...</td>\n",
       "      <td>0</td>\n",
       "      <td>0</td>\n",
       "      <td>5.683860</td>\n",
       "      <td>[현재, 대형, 포털, 서, 칭, 리스트, 상단, 바세린, 입술, 순위, 장악, 하...</td>\n",
       "      <td>0.540541</td>\n",
       "      <td>0.453334</td>\n",
       "    </tr>\n",
       "    <tr>\n",
       "      <th>3</th>\n",
       "      <td>기호일보</td>\n",
       "      <td>[포토 : 바세린, 기호일보=디지털뉴스부 요근래 매일매일 다채로운 Quiz를 내놓고...</td>\n",
       "      <td>매일 다채로운 Quiz 를 내놓고 있는 'TOSS'가 '바세린 바른 입술'과 관련한...</td>\n",
       "      <td>[1, 3, 5]</td>\n",
       "      <td>366196093</td>\n",
       "      <td>칠 일 'toss'에는 바세린 바른입술 과 관련한 event에 대한 내용을 열거한 ...</td>\n",
       "      <td>1</td>\n",
       "      <td>0</td>\n",
       "      <td>3.911814</td>\n",
       "      <td>[바세린, 입술, 과, 관련, 내용, 열거, 후, 내용, 들어가, 단어, 묻]</td>\n",
       "      <td>0.297297</td>\n",
       "      <td>0.299018</td>\n",
       "    </tr>\n",
       "    <tr>\n",
       "      <th>4</th>\n",
       "      <td>기호일보</td>\n",
       "      <td>[포토 : 바세린, 기호일보=디지털뉴스부 요근래 매일매일 다채로운 Quiz를 내놓고...</td>\n",
       "      <td>매일 다채로운 Quiz 를 내놓고 있는 'TOSS'가 '바세린 바른 입술'과 관련한...</td>\n",
       "      <td>[1, 3, 5]</td>\n",
       "      <td>366196093</td>\n",
       "      <td>이어 hint로 naver에서 복사한 해당 문구를 붙여넣기를 한 후 엔터를 쳐 나오...</td>\n",
       "      <td>0</td>\n",
       "      <td>0</td>\n",
       "      <td>2.923461</td>\n",
       "      <td>[이어, 복사, 해당, 문구, 넣, 후, 엔터, 나오, 결과물, 참조, 하, 설명,...</td>\n",
       "      <td>0.648649</td>\n",
       "      <td>0.585356</td>\n",
       "    </tr>\n",
       "  </tbody>\n",
       "</table>\n",
       "</div>"
      ],
      "text/plain": [
       "  media                                   article_original  ...        SL    TF_ISF\n",
       "0  기호일보  [포토 : 바세린, 기호일보=디지털뉴스부 요근래 매일매일 다채로운 Quiz를 내놓고...  ...  0.054054  0.057993\n",
       "1  기호일보  [포토 : 바세린, 기호일보=디지털뉴스부 요근래 매일매일 다채로운 Quiz를 내놓고...  ...  0.405405  0.322731\n",
       "2  기호일보  [포토 : 바세린, 기호일보=디지털뉴스부 요근래 매일매일 다채로운 Quiz를 내놓고...  ...  0.540541  0.453334\n",
       "3  기호일보  [포토 : 바세린, 기호일보=디지털뉴스부 요근래 매일매일 다채로운 Quiz를 내놓고...  ...  0.297297  0.299018\n",
       "4  기호일보  [포토 : 바세린, 기호일보=디지털뉴스부 요근래 매일매일 다채로운 Quiz를 내놓고...  ...  0.648649  0.585356\n",
       "\n",
       "[5 rows x 12 columns]"
      ]
     },
     "execution_count": 95,
     "metadata": {
      "tags": []
     },
     "output_type": "execute_result"
    }
   ],
   "source": [
    "new_val['TF_ISF'] = su_list\n",
    "print(new_val['TF_ISF'].isna().sum())\n",
    "new_val.head()"
   ]
  },
  {
   "cell_type": "markdown",
   "metadata": {
    "id": "Q2T7xV9e0_n1"
   },
   "source": [
    "### 3) sent2sim: 각 문장 간 유사도 구하기 "
   ]
  },
  {
   "cell_type": "code",
   "execution_count": null,
   "metadata": {
    "id": "-7XpOkUsXy6v"
   },
   "outputs": [],
   "source": [
    "def cos_like(array1, array2):\n",
    "        num = float(np.matmul(array1, array2))\n",
    "        s = np.linalg.norm(array1) * np.linalg.norm(array2)\n",
    "        if s ==0:\n",
    "            result = 0.0\n",
    "        else:\n",
    "            result = num/s\n",
    "        return result"
   ]
  },
  {
   "cell_type": "code",
   "execution_count": null,
   "metadata": {
    "id": "aqXal6hc0_5d"
   },
   "outputs": [],
   "source": [
    "#유니크한 id 리스트 만들기\n",
    "id_list = new_train['id'].unique()\n",
    "su_list2 =[]\n",
    "\n",
    "#각 id가 들어있는 미니 df 만듦\n",
    "for id in id_list:\n",
    "    tmp = new_train[new_train['id']==id]\n",
    "    doc_list = tmp['article_sent'].tolist()\n",
    "    docs = [' '.join(mecab.nouns(doc)) for doc in doc_list] #앞의 doc_list의 문장들을 명사만 남긴 문장으로 변환 \n",
    "    vocab = list(set(w for doc in docs for w in doc.split())) #word\n",
    "\n",
    "    N = len(docs) # 총 문서의 수\n",
    "  \n",
    "    ## TF-IDF 행렬\n",
    "    result = []\n",
    "    for i in range(N):\n",
    "        result.append([])\n",
    "        d = docs[i] #sent\n",
    "        for j in range(len(vocab)):\n",
    "            t = vocab[j] #word \n",
    "            result[-1].append(tfidf(t,d))\n",
    "    \n",
    "    tfidf_ = pd.DataFrame(result, columns = vocab) #행렬\n",
    "    tfarr = tfidf_.values #array로 변환 \n",
    "\n",
    "    #각 문장의 유사도 합 \n",
    "    sim_list = []\n",
    "    for i in range(len(tfarr)):\n",
    "        txt =[]\n",
    "        for j in range(1, len(tfarr)):\n",
    "            c= cos_like(tfarr[i], tfarr[j])\n",
    "            txt.append(c)\n",
    "            sim_sum = sum(txt)\n",
    "        sim_list.append(sim_sum)\n",
    "    su_list2.extend(sim_list)\n"
   ]
  },
  {
   "cell_type": "code",
   "execution_count": null,
   "metadata": {
    "colab": {
     "base_uri": "https://localhost:8080/"
    },
    "id": "7Hb27jhpCjJv",
    "outputId": "1f6d4c89-669b-42eb-c1e5-dd1561a6f473"
   },
   "outputs": [
    {
     "data": {
      "text/plain": [
       "453903"
      ]
     },
     "execution_count": 98,
     "metadata": {
      "tags": []
     },
     "output_type": "execute_result"
    }
   ],
   "source": [
    "len(su_list2)"
   ]
  },
  {
   "cell_type": "code",
   "execution_count": null,
   "metadata": {
    "colab": {
     "base_uri": "https://localhost:8080/",
     "height": 430
    },
    "id": "oIiigwfK0_81",
    "outputId": "389b2280-0669-4a30-dcca-b1b98efcc6a7"
   },
   "outputs": [
    {
     "data": {
      "text/html": [
       "<div>\n",
       "<style scoped>\n",
       "    .dataframe tbody tr th:only-of-type {\n",
       "        vertical-align: middle;\n",
       "    }\n",
       "\n",
       "    .dataframe tbody tr th {\n",
       "        vertical-align: top;\n",
       "    }\n",
       "\n",
       "    .dataframe thead th {\n",
       "        text-align: right;\n",
       "    }\n",
       "</style>\n",
       "<table border=\"1\" class=\"dataframe\">\n",
       "  <thead>\n",
       "    <tr style=\"text-align: right;\">\n",
       "      <th></th>\n",
       "      <th>media</th>\n",
       "      <th>article_original</th>\n",
       "      <th>abstractive</th>\n",
       "      <th>extractive</th>\n",
       "      <th>id</th>\n",
       "      <th>article_sent</th>\n",
       "      <th>label</th>\n",
       "      <th>first</th>\n",
       "      <th>bias</th>\n",
       "      <th>article_token</th>\n",
       "      <th>SL</th>\n",
       "      <th>TF_ISF</th>\n",
       "      <th>sent2sim</th>\n",
       "    </tr>\n",
       "  </thead>\n",
       "  <tbody>\n",
       "    <tr>\n",
       "      <th>0</th>\n",
       "      <td>국제신문</td>\n",
       "      <td>[부산시가 2032년 하계올림픽 국내 유치 신청 도시 선정을 앞두고 경쟁 도시인 서...</td>\n",
       "      <td>부산시가 2032년 하계올림픽 국내 유치 신청 도시 선정을 앞두고 경쟁 도시인 서울...</td>\n",
       "      <td>[0, 5, 3]</td>\n",
       "      <td>333727228</td>\n",
       "      <td>부산시가 2032년 하계올림픽 국내 유치 신청 도시 선정을 앞두고 경쟁 도시인 서울...</td>\n",
       "      <td>1</td>\n",
       "      <td>1</td>\n",
       "      <td>10.642857</td>\n",
       "      <td>[부산시, 하계, 올림픽, 국내, 유치, 신청, 도시, 선정, 앞두, 경쟁, 도시,...</td>\n",
       "      <td>0.466667</td>\n",
       "      <td>0.421750</td>\n",
       "      <td>1.643160</td>\n",
       "    </tr>\n",
       "    <tr>\n",
       "      <th>1</th>\n",
       "      <td>국제신문</td>\n",
       "      <td>[부산시가 2032년 하계올림픽 국내 유치 신청 도시 선정을 앞두고 경쟁 도시인 서...</td>\n",
       "      <td>부산시가 2032년 하계올림픽 국내 유치 신청 도시 선정을 앞두고 경쟁 도시인 서울...</td>\n",
       "      <td>[0, 5, 3]</td>\n",
       "      <td>333727228</td>\n",
       "      <td>오거돈 부산시장은 11일 오후 충북 진천 국가대표 선수촌에서 열릴 대한체육회의 대의...</td>\n",
       "      <td>0</td>\n",
       "      <td>0</td>\n",
       "      <td>8.848214</td>\n",
       "      <td>[오거돈, 부산, 시장, 오후, 충북, 진천, 국가, 대표, 선수, 촌, 대한체육회...</td>\n",
       "      <td>0.577778</td>\n",
       "      <td>0.550548</td>\n",
       "      <td>2.468398</td>\n",
       "    </tr>\n",
       "    <tr>\n",
       "      <th>2</th>\n",
       "      <td>국제신문</td>\n",
       "      <td>[부산시가 2032년 하계올림픽 국내 유치 신청 도시 선정을 앞두고 경쟁 도시인 서...</td>\n",
       "      <td>부산시가 2032년 하계올림픽 국내 유치 신청 도시 선정을 앞두고 경쟁 도시인 서울...</td>\n",
       "      <td>[0, 5, 3]</td>\n",
       "      <td>333727228</td>\n",
       "      <td>대의원 총회 심의에는 오거돈 부산시장과 박원순 서울시장이 참석해 각각 올림픽 유치 ...</td>\n",
       "      <td>0</td>\n",
       "      <td>0</td>\n",
       "      <td>8.375000</td>\n",
       "      <td>[대의원, 총회, 심의, 오거돈, 부산, 시장, 박원순, 서울, 시장, 참석, 각각...</td>\n",
       "      <td>0.333333</td>\n",
       "      <td>0.244185</td>\n",
       "      <td>2.285997</td>\n",
       "    </tr>\n",
       "    <tr>\n",
       "      <th>3</th>\n",
       "      <td>국제신문</td>\n",
       "      <td>[부산시가 2032년 하계올림픽 국내 유치 신청 도시 선정을 앞두고 경쟁 도시인 서...</td>\n",
       "      <td>부산시가 2032년 하계올림픽 국내 유치 신청 도시 선정을 앞두고 경쟁 도시인 서울...</td>\n",
       "      <td>[0, 5, 3]</td>\n",
       "      <td>333727228</td>\n",
       "      <td>두 광역단체장의 발표와 질의응답을 거친 뒤 대의원 투표를 통해 국내 유치 도시가 확...</td>\n",
       "      <td>1</td>\n",
       "      <td>0</td>\n",
       "      <td>6.511905</td>\n",
       "      <td>[광역, 단체장, 발표, 질, 응답, 뒤, 대의원, 투표, 국내, 유치, 도시, 확정]</td>\n",
       "      <td>0.266667</td>\n",
       "      <td>0.229979</td>\n",
       "      <td>1.524343</td>\n",
       "    </tr>\n",
       "    <tr>\n",
       "      <th>4</th>\n",
       "      <td>국제신문</td>\n",
       "      <td>[부산시가 2032년 하계올림픽 국내 유치 신청 도시 선정을 앞두고 경쟁 도시인 서...</td>\n",
       "      <td>부산시가 2032년 하계올림픽 국내 유치 신청 도시 선정을 앞두고 경쟁 도시인 서울...</td>\n",
       "      <td>[0, 5, 3]</td>\n",
       "      <td>333727228</td>\n",
       "      <td>오 시장은 한반도는 되돌릴 수 없는 평화의 미래를 향해 또 한 번 큰 걸음을 내딛는...</td>\n",
       "      <td>0</td>\n",
       "      <td>0</td>\n",
       "      <td>4.895833</td>\n",
       "      <td>[시장, 한반도, 수, 없, 평화, 미래, 또, 걸음, 내딛, 중]</td>\n",
       "      <td>0.222222</td>\n",
       "      <td>0.157651</td>\n",
       "      <td>2.248480</td>\n",
       "    </tr>\n",
       "  </tbody>\n",
       "</table>\n",
       "</div>"
      ],
      "text/plain": [
       "  media                                   article_original  ...    TF_ISF  sent2sim\n",
       "0  국제신문  [부산시가 2032년 하계올림픽 국내 유치 신청 도시 선정을 앞두고 경쟁 도시인 서...  ...  0.421750  1.643160\n",
       "1  국제신문  [부산시가 2032년 하계올림픽 국내 유치 신청 도시 선정을 앞두고 경쟁 도시인 서...  ...  0.550548  2.468398\n",
       "2  국제신문  [부산시가 2032년 하계올림픽 국내 유치 신청 도시 선정을 앞두고 경쟁 도시인 서...  ...  0.244185  2.285997\n",
       "3  국제신문  [부산시가 2032년 하계올림픽 국내 유치 신청 도시 선정을 앞두고 경쟁 도시인 서...  ...  0.229979  1.524343\n",
       "4  국제신문  [부산시가 2032년 하계올림픽 국내 유치 신청 도시 선정을 앞두고 경쟁 도시인 서...  ...  0.157651  2.248480\n",
       "\n",
       "[5 rows x 13 columns]"
      ]
     },
     "execution_count": 99,
     "metadata": {
      "tags": []
     },
     "output_type": "execute_result"
    }
   ],
   "source": [
    "new_train['sent2sim'] = su_list2\n",
    "new_train.head()"
   ]
  },
  {
   "cell_type": "code",
   "execution_count": null,
   "metadata": {
    "colab": {
     "base_uri": "https://localhost:8080/",
     "height": 47
    },
    "id": "T746d1UW1ACN",
    "outputId": "94b285f4-950e-44e3-b29b-fa4ce0184472"
   },
   "outputs": [
    {
     "data": {
      "text/html": [
       "<div>\n",
       "<style scoped>\n",
       "    .dataframe tbody tr th:only-of-type {\n",
       "        vertical-align: middle;\n",
       "    }\n",
       "\n",
       "    .dataframe tbody tr th {\n",
       "        vertical-align: top;\n",
       "    }\n",
       "\n",
       "    .dataframe thead th {\n",
       "        text-align: right;\n",
       "    }\n",
       "</style>\n",
       "<table border=\"1\" class=\"dataframe\">\n",
       "  <thead>\n",
       "    <tr style=\"text-align: right;\">\n",
       "      <th></th>\n",
       "      <th>media</th>\n",
       "      <th>article_original</th>\n",
       "      <th>abstractive</th>\n",
       "      <th>extractive</th>\n",
       "      <th>id</th>\n",
       "      <th>article_sent</th>\n",
       "      <th>label</th>\n",
       "      <th>first</th>\n",
       "      <th>bias</th>\n",
       "      <th>article_token</th>\n",
       "      <th>SL</th>\n",
       "      <th>TF_ISF</th>\n",
       "      <th>sent2sim</th>\n",
       "    </tr>\n",
       "  </thead>\n",
       "  <tbody>\n",
       "  </tbody>\n",
       "</table>\n",
       "</div>"
      ],
      "text/plain": [
       "Empty DataFrame\n",
       "Columns: [media, article_original, abstractive, extractive, id, article_sent, label, first, bias, article_token, SL, TF_ISF, sent2sim]\n",
       "Index: []"
      ]
     },
     "execution_count": 100,
     "metadata": {
      "tags": []
     },
     "output_type": "execute_result"
    }
   ],
   "source": [
    "new_train[new_train['sent2sim'].isna()]"
   ]
  },
  {
   "cell_type": "code",
   "execution_count": null,
   "metadata": {
    "id": "hxx7yXRRELR8"
   },
   "outputs": [],
   "source": [
    "# for validation\n",
    "#유니크한 id 리스트 만들기\n",
    "id_list = new_val['id'].unique()\n",
    "su_list3 =[]\n",
    "\n",
    "#각 id가 들어있는 미니 df 만듦\n",
    "for id in id_list:\n",
    "    tmp = new_val[new_val['id']==id]\n",
    "    doc_list = tmp['article_sent'].tolist()\n",
    "    docs = [' '.join(mecab.nouns(doc)) for doc in doc_list] #앞의 doc_list의 문장들을 명사만 남긴 문장으로 변환 \n",
    "    vocab = list(set(w for doc in docs for w in doc.split())) #word\n",
    "\n",
    "    N = len(docs) # 총 문서의 수\n",
    "  \n",
    "    ## TF-IDF 행렬\n",
    "    result = []\n",
    "    for i in range(N):\n",
    "        result.append([])\n",
    "        d = docs[i] #sent\n",
    "        for j in range(len(vocab)):\n",
    "            t = vocab[j] #word \n",
    "            result[-1].append(tfidf(t,d))\n",
    "    \n",
    "    tfidf_ = pd.DataFrame(result, columns = vocab) #행렬\n",
    "    tfarr = tfidf_.values #array로 변환 \n",
    "\n",
    "    #각 문장의 유사도 합 \n",
    "    sim_list = []\n",
    "    for i in range(len(tfarr)):\n",
    "        txt =[]\n",
    "        for j in range(1, len(tfarr)):\n",
    "            c= cos_like(tfarr[i], tfarr[j])\n",
    "            txt.append(c)\n",
    "            sim_sum = sum(txt)\n",
    "        sim_list.append(sim_sum)\n",
    "    su_list3.extend(sim_list)\n"
   ]
  },
  {
   "cell_type": "code",
   "execution_count": null,
   "metadata": {
    "colab": {
     "base_uri": "https://localhost:8080/",
     "height": 414
    },
    "id": "iO4vfAsvEaBI",
    "outputId": "5f3d984e-f81b-475c-dbc8-e1b30943e93b"
   },
   "outputs": [
    {
     "data": {
      "text/html": [
       "<div>\n",
       "<style scoped>\n",
       "    .dataframe tbody tr th:only-of-type {\n",
       "        vertical-align: middle;\n",
       "    }\n",
       "\n",
       "    .dataframe tbody tr th {\n",
       "        vertical-align: top;\n",
       "    }\n",
       "\n",
       "    .dataframe thead th {\n",
       "        text-align: right;\n",
       "    }\n",
       "</style>\n",
       "<table border=\"1\" class=\"dataframe\">\n",
       "  <thead>\n",
       "    <tr style=\"text-align: right;\">\n",
       "      <th></th>\n",
       "      <th>media</th>\n",
       "      <th>article_original</th>\n",
       "      <th>abstractive</th>\n",
       "      <th>extractive</th>\n",
       "      <th>id</th>\n",
       "      <th>article_sent</th>\n",
       "      <th>label</th>\n",
       "      <th>first</th>\n",
       "      <th>bias</th>\n",
       "      <th>article_token</th>\n",
       "      <th>SL</th>\n",
       "      <th>TF_ISF</th>\n",
       "      <th>sent2sim</th>\n",
       "    </tr>\n",
       "  </thead>\n",
       "  <tbody>\n",
       "    <tr>\n",
       "      <th>0</th>\n",
       "      <td>기호일보</td>\n",
       "      <td>[포토 : 바세린, 기호일보=디지털뉴스부 요근래 매일매일 다채로운 Quiz를 내놓고...</td>\n",
       "      <td>매일 다채로운 Quiz 를 내놓고 있는 'TOSS'가 '바세린 바른 입술'과 관련한...</td>\n",
       "      <td>[1, 3, 5]</td>\n",
       "      <td>366196093</td>\n",
       "      <td>포토 : 바세린</td>\n",
       "      <td>0</td>\n",
       "      <td>1</td>\n",
       "      <td>6.926789</td>\n",
       "      <td>[포토, 바세린]</td>\n",
       "      <td>0.054054</td>\n",
       "      <td>0.057993</td>\n",
       "      <td>1.509345</td>\n",
       "    </tr>\n",
       "    <tr>\n",
       "      <th>1</th>\n",
       "      <td>기호일보</td>\n",
       "      <td>[포토 : 바세린, 기호일보=디지털뉴스부 요근래 매일매일 다채로운 Quiz를 내놓고...</td>\n",
       "      <td>매일 다채로운 Quiz 를 내놓고 있는 'TOSS'가 '바세린 바른 입술'과 관련한...</td>\n",
       "      <td>[1, 3, 5]</td>\n",
       "      <td>366196093</td>\n",
       "      <td>기호일보=디지털뉴스부 요근래 매일매일 다채로운 Quiz를 내놓고 있는 TOSS'가 ...</td>\n",
       "      <td>1</td>\n",
       "      <td>0</td>\n",
       "      <td>6.930116</td>\n",
       "      <td>[기호일보, 디지털, 뉴스, 부, 근래, 매일, 매일, 내놓, 있, 이번, 바세린,...</td>\n",
       "      <td>0.405405</td>\n",
       "      <td>0.322731</td>\n",
       "      <td>1.800734</td>\n",
       "    </tr>\n",
       "    <tr>\n",
       "      <th>2</th>\n",
       "      <td>기호일보</td>\n",
       "      <td>[포토 : 바세린, 기호일보=디지털뉴스부 요근래 매일매일 다채로운 Quiz를 내놓고...</td>\n",
       "      <td>매일 다채로운 Quiz 를 내놓고 있는 'TOSS'가 '바세린 바른 입술'과 관련한...</td>\n",
       "      <td>[1, 3, 5]</td>\n",
       "      <td>366196093</td>\n",
       "      <td>이로인해 현재 대형포털의 서칭리스트 상단에 바세린 바른입술 이 순위권을 장악하고 있...</td>\n",
       "      <td>0</td>\n",
       "      <td>0</td>\n",
       "      <td>5.683860</td>\n",
       "      <td>[현재, 대형, 포털, 서, 칭, 리스트, 상단, 바세린, 입술, 순위, 장악, 하...</td>\n",
       "      <td>0.540541</td>\n",
       "      <td>0.453334</td>\n",
       "      <td>1.607474</td>\n",
       "    </tr>\n",
       "    <tr>\n",
       "      <th>3</th>\n",
       "      <td>기호일보</td>\n",
       "      <td>[포토 : 바세린, 기호일보=디지털뉴스부 요근래 매일매일 다채로운 Quiz를 내놓고...</td>\n",
       "      <td>매일 다채로운 Quiz 를 내놓고 있는 'TOSS'가 '바세린 바른 입술'과 관련한...</td>\n",
       "      <td>[1, 3, 5]</td>\n",
       "      <td>366196093</td>\n",
       "      <td>칠 일 'toss'에는 바세린 바른입술 과 관련한 event에 대한 내용을 열거한 ...</td>\n",
       "      <td>1</td>\n",
       "      <td>0</td>\n",
       "      <td>3.911814</td>\n",
       "      <td>[바세린, 입술, 과, 관련, 내용, 열거, 후, 내용, 들어가, 단어, 묻]</td>\n",
       "      <td>0.297297</td>\n",
       "      <td>0.299018</td>\n",
       "      <td>1.729383</td>\n",
       "    </tr>\n",
       "    <tr>\n",
       "      <th>4</th>\n",
       "      <td>기호일보</td>\n",
       "      <td>[포토 : 바세린, 기호일보=디지털뉴스부 요근래 매일매일 다채로운 Quiz를 내놓고...</td>\n",
       "      <td>매일 다채로운 Quiz 를 내놓고 있는 'TOSS'가 '바세린 바른 입술'과 관련한...</td>\n",
       "      <td>[1, 3, 5]</td>\n",
       "      <td>366196093</td>\n",
       "      <td>이어 hint로 naver에서 복사한 해당 문구를 붙여넣기를 한 후 엔터를 쳐 나오...</td>\n",
       "      <td>0</td>\n",
       "      <td>0</td>\n",
       "      <td>2.923461</td>\n",
       "      <td>[이어, 복사, 해당, 문구, 넣, 후, 엔터, 나오, 결과물, 참조, 하, 설명,...</td>\n",
       "      <td>0.648649</td>\n",
       "      <td>0.585356</td>\n",
       "      <td>1.593133</td>\n",
       "    </tr>\n",
       "  </tbody>\n",
       "</table>\n",
       "</div>"
      ],
      "text/plain": [
       "  media                                   article_original  ...    TF_ISF  sent2sim\n",
       "0  기호일보  [포토 : 바세린, 기호일보=디지털뉴스부 요근래 매일매일 다채로운 Quiz를 내놓고...  ...  0.057993  1.509345\n",
       "1  기호일보  [포토 : 바세린, 기호일보=디지털뉴스부 요근래 매일매일 다채로운 Quiz를 내놓고...  ...  0.322731  1.800734\n",
       "2  기호일보  [포토 : 바세린, 기호일보=디지털뉴스부 요근래 매일매일 다채로운 Quiz를 내놓고...  ...  0.453334  1.607474\n",
       "3  기호일보  [포토 : 바세린, 기호일보=디지털뉴스부 요근래 매일매일 다채로운 Quiz를 내놓고...  ...  0.299018  1.729383\n",
       "4  기호일보  [포토 : 바세린, 기호일보=디지털뉴스부 요근래 매일매일 다채로운 Quiz를 내놓고...  ...  0.585356  1.593133\n",
       "\n",
       "[5 rows x 13 columns]"
      ]
     },
     "execution_count": 102,
     "metadata": {
      "tags": []
     },
     "output_type": "execute_result"
    }
   ],
   "source": [
    "new_val['sent2sim'] = su_list3\n",
    "new_val.head()"
   ]
  },
  {
   "cell_type": "code",
   "execution_count": null,
   "metadata": {
    "colab": {
     "base_uri": "https://localhost:8080/"
    },
    "id": "he6QYWdEFG1_",
    "outputId": "44db59c0-0041-4b66-e43e-58876fad477f"
   },
   "outputs": [
    {
     "data": {
      "text/plain": [
       "0"
      ]
     },
     "execution_count": 103,
     "metadata": {
      "tags": []
     },
     "output_type": "execute_result"
    }
   ],
   "source": [
    "new_val['sent2sim'].isna().sum()"
   ]
  },
  {
   "cell_type": "markdown",
   "metadata": {
    "id": "Bp7Lat0ciim4"
   },
   "source": [
    "### 4) ab2sim: abstractive와 해당 문장 간 유사도 구하기"
   ]
  },
  {
   "cell_type": "code",
   "execution_count": null,
   "metadata": {
    "id": "p5Qn0vgIgXKE"
   },
   "outputs": [],
   "source": [
    "#유니크한 id 리스트 만들기\n",
    "id_list = new_train['id'].unique()\n",
    "ab_list =[]\n",
    "\n",
    "#각 id가 들어있는 미니 df 만듦\n",
    "for id in id_list:\n",
    "    tmp = new_train[new_train['id']==id]\n",
    "    doc_a = tmp['abstractive'].tolist()[0]\n",
    "    doc_list = tmp['article_sent'].tolist()\n",
    "    doc_list.append(doc_a)\n",
    "    docs = [' '.join(mecab.nouns(doc)) for doc in doc_list] #앞의 doc_list의 문장들을 명사만 남긴 문장으로 변환 \n",
    "    vocab = list(set(w for doc in docs for w in doc.split())) #word\n",
    "\n",
    "    N = len(docs) # 총 문서의 수\n",
    "  \n",
    "    ## TF-IDF 행렬\n",
    "    result = []\n",
    "    for i in range(N):\n",
    "        result.append([])\n",
    "        d = docs[i] #sent\n",
    "        for j in range(len(vocab)):\n",
    "            t = vocab[j] #word \n",
    "            result[-1].append(tfidf(t,d))\n",
    "    \n",
    "    tfidf_ = pd.DataFrame(result, columns = vocab) #행렬\n",
    "    tfarr = tfidf_.values #array로 변환 \n",
    "\n",
    "    #마지막 문장(요약문)과 다른 문장 간  유사도\n",
    "    txt =[]\n",
    "    for i in range(len(tfarr)-1):\n",
    "      c= cos_like(tfarr[-1], tfarr[i])\n",
    "      txt.append(c)\n",
    "\n",
    "    ab_list.extend(txt)"
   ]
  },
  {
   "cell_type": "code",
   "execution_count": null,
   "metadata": {
    "colab": {
     "base_uri": "https://localhost:8080/"
    },
    "id": "m9tWJ8ztihG6",
    "outputId": "ecb5a787-7f86-4c78-b96e-b5438d38ff70"
   },
   "outputs": [
    {
     "data": {
      "text/plain": [
       "453903"
      ]
     },
     "execution_count": 105,
     "metadata": {
      "tags": []
     },
     "output_type": "execute_result"
    }
   ],
   "source": [
    "len(ab_list)"
   ]
  },
  {
   "cell_type": "code",
   "execution_count": null,
   "metadata": {
    "colab": {
     "base_uri": "https://localhost:8080/",
     "height": 447
    },
    "id": "wbUvXr9hihNn",
    "outputId": "cdfb20fd-6802-4346-db27-9bcef103039b"
   },
   "outputs": [
    {
     "data": {
      "text/html": [
       "<div>\n",
       "<style scoped>\n",
       "    .dataframe tbody tr th:only-of-type {\n",
       "        vertical-align: middle;\n",
       "    }\n",
       "\n",
       "    .dataframe tbody tr th {\n",
       "        vertical-align: top;\n",
       "    }\n",
       "\n",
       "    .dataframe thead th {\n",
       "        text-align: right;\n",
       "    }\n",
       "</style>\n",
       "<table border=\"1\" class=\"dataframe\">\n",
       "  <thead>\n",
       "    <tr style=\"text-align: right;\">\n",
       "      <th></th>\n",
       "      <th>media</th>\n",
       "      <th>article_original</th>\n",
       "      <th>abstractive</th>\n",
       "      <th>extractive</th>\n",
       "      <th>id</th>\n",
       "      <th>article_sent</th>\n",
       "      <th>label</th>\n",
       "      <th>first</th>\n",
       "      <th>bias</th>\n",
       "      <th>article_token</th>\n",
       "      <th>SL</th>\n",
       "      <th>TF_ISF</th>\n",
       "      <th>sent2sim</th>\n",
       "      <th>ab2sim</th>\n",
       "    </tr>\n",
       "  </thead>\n",
       "  <tbody>\n",
       "    <tr>\n",
       "      <th>0</th>\n",
       "      <td>국제신문</td>\n",
       "      <td>[부산시가 2032년 하계올림픽 국내 유치 신청 도시 선정을 앞두고 경쟁 도시인 서...</td>\n",
       "      <td>부산시가 2032년 하계올림픽 국내 유치 신청 도시 선정을 앞두고 경쟁 도시인 서울...</td>\n",
       "      <td>[0, 5, 3]</td>\n",
       "      <td>333727228</td>\n",
       "      <td>부산시가 2032년 하계올림픽 국내 유치 신청 도시 선정을 앞두고 경쟁 도시인 서울...</td>\n",
       "      <td>1</td>\n",
       "      <td>1</td>\n",
       "      <td>10.642857</td>\n",
       "      <td>[부산시, 하계, 올림픽, 국내, 유치, 신청, 도시, 선정, 앞두, 경쟁, 도시,...</td>\n",
       "      <td>0.466667</td>\n",
       "      <td>0.421750</td>\n",
       "      <td>1.643160</td>\n",
       "      <td>0.544845</td>\n",
       "    </tr>\n",
       "    <tr>\n",
       "      <th>1</th>\n",
       "      <td>국제신문</td>\n",
       "      <td>[부산시가 2032년 하계올림픽 국내 유치 신청 도시 선정을 앞두고 경쟁 도시인 서...</td>\n",
       "      <td>부산시가 2032년 하계올림픽 국내 유치 신청 도시 선정을 앞두고 경쟁 도시인 서울...</td>\n",
       "      <td>[0, 5, 3]</td>\n",
       "      <td>333727228</td>\n",
       "      <td>오거돈 부산시장은 11일 오후 충북 진천 국가대표 선수촌에서 열릴 대한체육회의 대의...</td>\n",
       "      <td>0</td>\n",
       "      <td>0</td>\n",
       "      <td>8.848214</td>\n",
       "      <td>[오거돈, 부산, 시장, 오후, 충북, 진천, 국가, 대표, 선수, 촌, 대한체육회...</td>\n",
       "      <td>0.577778</td>\n",
       "      <td>0.550548</td>\n",
       "      <td>2.468398</td>\n",
       "      <td>0.298872</td>\n",
       "    </tr>\n",
       "    <tr>\n",
       "      <th>2</th>\n",
       "      <td>국제신문</td>\n",
       "      <td>[부산시가 2032년 하계올림픽 국내 유치 신청 도시 선정을 앞두고 경쟁 도시인 서...</td>\n",
       "      <td>부산시가 2032년 하계올림픽 국내 유치 신청 도시 선정을 앞두고 경쟁 도시인 서울...</td>\n",
       "      <td>[0, 5, 3]</td>\n",
       "      <td>333727228</td>\n",
       "      <td>대의원 총회 심의에는 오거돈 부산시장과 박원순 서울시장이 참석해 각각 올림픽 유치 ...</td>\n",
       "      <td>0</td>\n",
       "      <td>0</td>\n",
       "      <td>8.375000</td>\n",
       "      <td>[대의원, 총회, 심의, 오거돈, 부산, 시장, 박원순, 서울, 시장, 참석, 각각...</td>\n",
       "      <td>0.333333</td>\n",
       "      <td>0.244185</td>\n",
       "      <td>2.285997</td>\n",
       "      <td>0.193521</td>\n",
       "    </tr>\n",
       "    <tr>\n",
       "      <th>3</th>\n",
       "      <td>국제신문</td>\n",
       "      <td>[부산시가 2032년 하계올림픽 국내 유치 신청 도시 선정을 앞두고 경쟁 도시인 서...</td>\n",
       "      <td>부산시가 2032년 하계올림픽 국내 유치 신청 도시 선정을 앞두고 경쟁 도시인 서울...</td>\n",
       "      <td>[0, 5, 3]</td>\n",
       "      <td>333727228</td>\n",
       "      <td>두 광역단체장의 발표와 질의응답을 거친 뒤 대의원 투표를 통해 국내 유치 도시가 확...</td>\n",
       "      <td>1</td>\n",
       "      <td>0</td>\n",
       "      <td>6.511905</td>\n",
       "      <td>[광역, 단체장, 발표, 질, 응답, 뒤, 대의원, 투표, 국내, 유치, 도시, 확정]</td>\n",
       "      <td>0.266667</td>\n",
       "      <td>0.229979</td>\n",
       "      <td>1.524343</td>\n",
       "      <td>0.648721</td>\n",
       "    </tr>\n",
       "    <tr>\n",
       "      <th>4</th>\n",
       "      <td>국제신문</td>\n",
       "      <td>[부산시가 2032년 하계올림픽 국내 유치 신청 도시 선정을 앞두고 경쟁 도시인 서...</td>\n",
       "      <td>부산시가 2032년 하계올림픽 국내 유치 신청 도시 선정을 앞두고 경쟁 도시인 서울...</td>\n",
       "      <td>[0, 5, 3]</td>\n",
       "      <td>333727228</td>\n",
       "      <td>오 시장은 한반도는 되돌릴 수 없는 평화의 미래를 향해 또 한 번 큰 걸음을 내딛는...</td>\n",
       "      <td>0</td>\n",
       "      <td>0</td>\n",
       "      <td>4.895833</td>\n",
       "      <td>[시장, 한반도, 수, 없, 평화, 미래, 또, 걸음, 내딛, 중]</td>\n",
       "      <td>0.222222</td>\n",
       "      <td>0.157651</td>\n",
       "      <td>2.248480</td>\n",
       "      <td>0.034450</td>\n",
       "    </tr>\n",
       "  </tbody>\n",
       "</table>\n",
       "</div>"
      ],
      "text/plain": [
       "  media                                   article_original  ...  sent2sim    ab2sim\n",
       "0  국제신문  [부산시가 2032년 하계올림픽 국내 유치 신청 도시 선정을 앞두고 경쟁 도시인 서...  ...  1.643160  0.544845\n",
       "1  국제신문  [부산시가 2032년 하계올림픽 국내 유치 신청 도시 선정을 앞두고 경쟁 도시인 서...  ...  2.468398  0.298872\n",
       "2  국제신문  [부산시가 2032년 하계올림픽 국내 유치 신청 도시 선정을 앞두고 경쟁 도시인 서...  ...  2.285997  0.193521\n",
       "3  국제신문  [부산시가 2032년 하계올림픽 국내 유치 신청 도시 선정을 앞두고 경쟁 도시인 서...  ...  1.524343  0.648721\n",
       "4  국제신문  [부산시가 2032년 하계올림픽 국내 유치 신청 도시 선정을 앞두고 경쟁 도시인 서...  ...  2.248480  0.034450\n",
       "\n",
       "[5 rows x 14 columns]"
      ]
     },
     "execution_count": 106,
     "metadata": {
      "tags": []
     },
     "output_type": "execute_result"
    }
   ],
   "source": [
    "new_train['ab2sim'] = ab_list\n",
    "new_train.head()"
   ]
  },
  {
   "cell_type": "code",
   "execution_count": null,
   "metadata": {
    "colab": {
     "base_uri": "https://localhost:8080/"
    },
    "id": "jP8aozUVihQu",
    "outputId": "0e2caa27-898d-491f-9760-3839aef43c37"
   },
   "outputs": [
    {
     "data": {
      "text/plain": [
       "0"
      ]
     },
     "execution_count": 107,
     "metadata": {
      "tags": []
     },
     "output_type": "execute_result"
    }
   ],
   "source": [
    "new_train['ab2sim'].isna().sum()"
   ]
  },
  {
   "cell_type": "code",
   "execution_count": null,
   "metadata": {
    "id": "F3B9naXKihUC"
   },
   "outputs": [],
   "source": [
    "#val set에 대해서도 같은 과정 진행\n",
    "id_list = new_val['id'].unique()\n",
    "ab_list =[]\n",
    "\n",
    "#각 id가 들어있는 미니 df 만듦\n",
    "for id in id_list:\n",
    "    tmp = new_val[new_val['id']==id]\n",
    "    doc_a = tmp['abstractive'].tolist()[0]\n",
    "    doc_list = tmp['article_sent'].tolist()\n",
    "    doc_list.append(doc_a)\n",
    "    docs = [' '.join(mecab.nouns(doc)) for doc in doc_list] #앞의 doc_list의 문장들을 명사만 남긴 문장으로 변환 \n",
    "    vocab = list(set(w for doc in docs for w in doc.split())) #word\n",
    "\n",
    "    N = len(docs) # 총 문서의 수\n",
    "\n",
    "    ## TF-IDF 행렬\n",
    "    result = []\n",
    "    for i in range(N):\n",
    "        result.append([])\n",
    "        d = docs[i] #sent\n",
    "        for j in range(len(vocab)):\n",
    "            t = vocab[j] #word \n",
    "            result[-1].append(tfidf(t,d))\n",
    "\n",
    "    tfidf_ = pd.DataFrame(result, columns = vocab) #행렬\n",
    "    tfarr = tfidf_.values #array로 변환 \n",
    "\n",
    "    #마지막 문장(요약문)과 다른 문장 간  유사도\n",
    "    txt =[]\n",
    "    for i in range(len(tfarr)-1):\n",
    "        c= cos_like(tfarr[-1], tfarr[i])\n",
    "        txt.append(c)\n",
    "\n",
    "    ab_list.extend(txt)"
   ]
  },
  {
   "cell_type": "code",
   "execution_count": null,
   "metadata": {
    "colab": {
     "base_uri": "https://localhost:8080/",
     "height": 447
    },
    "id": "O7KZ-7nejhuk",
    "outputId": "b1df9e64-b177-4d7e-faf9-b0a2dbb5b9eb"
   },
   "outputs": [
    {
     "name": "stdout",
     "output_type": "stream",
     "text": [
      "0\n"
     ]
    },
    {
     "data": {
      "text/html": [
       "<div>\n",
       "<style scoped>\n",
       "    .dataframe tbody tr th:only-of-type {\n",
       "        vertical-align: middle;\n",
       "    }\n",
       "\n",
       "    .dataframe tbody tr th {\n",
       "        vertical-align: top;\n",
       "    }\n",
       "\n",
       "    .dataframe thead th {\n",
       "        text-align: right;\n",
       "    }\n",
       "</style>\n",
       "<table border=\"1\" class=\"dataframe\">\n",
       "  <thead>\n",
       "    <tr style=\"text-align: right;\">\n",
       "      <th></th>\n",
       "      <th>media</th>\n",
       "      <th>article_original</th>\n",
       "      <th>abstractive</th>\n",
       "      <th>extractive</th>\n",
       "      <th>id</th>\n",
       "      <th>article_sent</th>\n",
       "      <th>label</th>\n",
       "      <th>first</th>\n",
       "      <th>bias</th>\n",
       "      <th>article_token</th>\n",
       "      <th>SL</th>\n",
       "      <th>TF_ISF</th>\n",
       "      <th>sent2sim</th>\n",
       "      <th>ab2sim</th>\n",
       "    </tr>\n",
       "  </thead>\n",
       "  <tbody>\n",
       "    <tr>\n",
       "      <th>0</th>\n",
       "      <td>기호일보</td>\n",
       "      <td>[포토 : 바세린, 기호일보=디지털뉴스부 요근래 매일매일 다채로운 Quiz를 내놓고...</td>\n",
       "      <td>매일 다채로운 Quiz 를 내놓고 있는 'TOSS'가 '바세린 바른 입술'과 관련한...</td>\n",
       "      <td>[1, 3, 5]</td>\n",
       "      <td>366196093</td>\n",
       "      <td>포토 : 바세린</td>\n",
       "      <td>0</td>\n",
       "      <td>1</td>\n",
       "      <td>6.926789</td>\n",
       "      <td>[포토, 바세린]</td>\n",
       "      <td>0.054054</td>\n",
       "      <td>0.057993</td>\n",
       "      <td>1.509345</td>\n",
       "      <td>0.146774</td>\n",
       "    </tr>\n",
       "    <tr>\n",
       "      <th>1</th>\n",
       "      <td>기호일보</td>\n",
       "      <td>[포토 : 바세린, 기호일보=디지털뉴스부 요근래 매일매일 다채로운 Quiz를 내놓고...</td>\n",
       "      <td>매일 다채로운 Quiz 를 내놓고 있는 'TOSS'가 '바세린 바른 입술'과 관련한...</td>\n",
       "      <td>[1, 3, 5]</td>\n",
       "      <td>366196093</td>\n",
       "      <td>기호일보=디지털뉴스부 요근래 매일매일 다채로운 Quiz를 내놓고 있는 TOSS'가 ...</td>\n",
       "      <td>1</td>\n",
       "      <td>0</td>\n",
       "      <td>6.930116</td>\n",
       "      <td>[기호일보, 디지털, 뉴스, 부, 근래, 매일, 매일, 내놓, 있, 이번, 바세린,...</td>\n",
       "      <td>0.405405</td>\n",
       "      <td>0.322731</td>\n",
       "      <td>1.800734</td>\n",
       "      <td>0.160651</td>\n",
       "    </tr>\n",
       "    <tr>\n",
       "      <th>2</th>\n",
       "      <td>기호일보</td>\n",
       "      <td>[포토 : 바세린, 기호일보=디지털뉴스부 요근래 매일매일 다채로운 Quiz를 내놓고...</td>\n",
       "      <td>매일 다채로운 Quiz 를 내놓고 있는 'TOSS'가 '바세린 바른 입술'과 관련한...</td>\n",
       "      <td>[1, 3, 5]</td>\n",
       "      <td>366196093</td>\n",
       "      <td>이로인해 현재 대형포털의 서칭리스트 상단에 바세린 바른입술 이 순위권을 장악하고 있...</td>\n",
       "      <td>0</td>\n",
       "      <td>0</td>\n",
       "      <td>5.683860</td>\n",
       "      <td>[현재, 대형, 포털, 서, 칭, 리스트, 상단, 바세린, 입술, 순위, 장악, 하...</td>\n",
       "      <td>0.540541</td>\n",
       "      <td>0.453334</td>\n",
       "      <td>1.607474</td>\n",
       "      <td>0.081672</td>\n",
       "    </tr>\n",
       "    <tr>\n",
       "      <th>3</th>\n",
       "      <td>기호일보</td>\n",
       "      <td>[포토 : 바세린, 기호일보=디지털뉴스부 요근래 매일매일 다채로운 Quiz를 내놓고...</td>\n",
       "      <td>매일 다채로운 Quiz 를 내놓고 있는 'TOSS'가 '바세린 바른 입술'과 관련한...</td>\n",
       "      <td>[1, 3, 5]</td>\n",
       "      <td>366196093</td>\n",
       "      <td>칠 일 'toss'에는 바세린 바른입술 과 관련한 event에 대한 내용을 열거한 ...</td>\n",
       "      <td>1</td>\n",
       "      <td>0</td>\n",
       "      <td>3.911814</td>\n",
       "      <td>[바세린, 입술, 과, 관련, 내용, 열거, 후, 내용, 들어가, 단어, 묻]</td>\n",
       "      <td>0.297297</td>\n",
       "      <td>0.299018</td>\n",
       "      <td>1.729383</td>\n",
       "      <td>0.752785</td>\n",
       "    </tr>\n",
       "    <tr>\n",
       "      <th>4</th>\n",
       "      <td>기호일보</td>\n",
       "      <td>[포토 : 바세린, 기호일보=디지털뉴스부 요근래 매일매일 다채로운 Quiz를 내놓고...</td>\n",
       "      <td>매일 다채로운 Quiz 를 내놓고 있는 'TOSS'가 '바세린 바른 입술'과 관련한...</td>\n",
       "      <td>[1, 3, 5]</td>\n",
       "      <td>366196093</td>\n",
       "      <td>이어 hint로 naver에서 복사한 해당 문구를 붙여넣기를 한 후 엔터를 쳐 나오...</td>\n",
       "      <td>0</td>\n",
       "      <td>0</td>\n",
       "      <td>2.923461</td>\n",
       "      <td>[이어, 복사, 해당, 문구, 넣, 후, 엔터, 나오, 결과물, 참조, 하, 설명,...</td>\n",
       "      <td>0.648649</td>\n",
       "      <td>0.585356</td>\n",
       "      <td>1.593133</td>\n",
       "      <td>0.079717</td>\n",
       "    </tr>\n",
       "  </tbody>\n",
       "</table>\n",
       "</div>"
      ],
      "text/plain": [
       "  media                                   article_original  ...  sent2sim    ab2sim\n",
       "0  기호일보  [포토 : 바세린, 기호일보=디지털뉴스부 요근래 매일매일 다채로운 Quiz를 내놓고...  ...  1.509345  0.146774\n",
       "1  기호일보  [포토 : 바세린, 기호일보=디지털뉴스부 요근래 매일매일 다채로운 Quiz를 내놓고...  ...  1.800734  0.160651\n",
       "2  기호일보  [포토 : 바세린, 기호일보=디지털뉴스부 요근래 매일매일 다채로운 Quiz를 내놓고...  ...  1.607474  0.081672\n",
       "3  기호일보  [포토 : 바세린, 기호일보=디지털뉴스부 요근래 매일매일 다채로운 Quiz를 내놓고...  ...  1.729383  0.752785\n",
       "4  기호일보  [포토 : 바세린, 기호일보=디지털뉴스부 요근래 매일매일 다채로운 Quiz를 내놓고...  ...  1.593133  0.079717\n",
       "\n",
       "[5 rows x 14 columns]"
      ]
     },
     "execution_count": 109,
     "metadata": {
      "tags": []
     },
     "output_type": "execute_result"
    }
   ],
   "source": [
    "new_val['ab2sim'] =ab_list\n",
    "print(new_val['ab2sim'].isna().sum())\n",
    "new_val.head()"
   ]
  },
  {
   "cell_type": "markdown",
   "metadata": {
    "id": "8GVtR32NVwTf"
   },
   "source": [
    "### 5) SP(Sentence Position) \n",
    "- 문장의 몇 번 위치인지에 따라 percentile 값 도출"
   ]
  },
  {
   "cell_type": "code",
   "execution_count": null,
   "metadata": {
    "colab": {
     "base_uri": "https://localhost:8080/"
    },
    "id": "jdpxey6EjUYW",
    "outputId": "423c17c3-0c03-4131-a36d-80dc312266a5"
   },
   "outputs": [
    {
     "data": {
      "text/plain": [
       "7234211"
      ]
     },
     "execution_count": 110,
     "metadata": {
      "tags": []
     },
     "output_type": "execute_result"
    }
   ],
   "source": [
    "perclist = []\n",
    "for i in range(len(new_train)):\n",
    "    length = len(new_train['article_original'][i])\n",
    "    for num in range(length):\n",
    "        perc = num / length\n",
    "        perclist.append(round(perc, 5))\n",
    "\n",
    "len(perclist)"
   ]
  },
  {
   "cell_type": "code",
   "execution_count": null,
   "metadata": {
    "colab": {
     "base_uri": "https://localhost:8080/",
     "height": 304
    },
    "id": "B7-tF-vPjUb8",
    "outputId": "cd2b4848-cd20-4243-d291-ba2a184b01ba"
   },
   "outputs": [
    {
     "data": {
      "text/html": [
       "<div>\n",
       "<style scoped>\n",
       "    .dataframe tbody tr th:only-of-type {\n",
       "        vertical-align: middle;\n",
       "    }\n",
       "\n",
       "    .dataframe tbody tr th {\n",
       "        vertical-align: top;\n",
       "    }\n",
       "\n",
       "    .dataframe thead th {\n",
       "        text-align: right;\n",
       "    }\n",
       "</style>\n",
       "<table border=\"1\" class=\"dataframe\">\n",
       "  <thead>\n",
       "    <tr style=\"text-align: right;\">\n",
       "      <th></th>\n",
       "      <th>media</th>\n",
       "      <th>article_original</th>\n",
       "      <th>abstractive</th>\n",
       "      <th>extractive</th>\n",
       "      <th>id</th>\n",
       "      <th>article_sent</th>\n",
       "      <th>label</th>\n",
       "      <th>first</th>\n",
       "      <th>bias</th>\n",
       "      <th>article_token</th>\n",
       "      <th>SL</th>\n",
       "      <th>TF_ISF</th>\n",
       "      <th>sent2sim</th>\n",
       "      <th>ab2sim</th>\n",
       "      <th>SP</th>\n",
       "    </tr>\n",
       "  </thead>\n",
       "  <tbody>\n",
       "    <tr>\n",
       "      <th>0</th>\n",
       "      <td>국제신문</td>\n",
       "      <td>[부산시가 2032년 하계올림픽 국내 유치 신청 도시 선정을 앞두고 경쟁 도시인 서...</td>\n",
       "      <td>부산시가 2032년 하계올림픽 국내 유치 신청 도시 선정을 앞두고 경쟁 도시인 서울...</td>\n",
       "      <td>[0, 5, 3]</td>\n",
       "      <td>333727228</td>\n",
       "      <td>부산시가 2032년 하계올림픽 국내 유치 신청 도시 선정을 앞두고 경쟁 도시인 서울...</td>\n",
       "      <td>1</td>\n",
       "      <td>1</td>\n",
       "      <td>10.642857</td>\n",
       "      <td>[부산시, 하계, 올림픽, 국내, 유치, 신청, 도시, 선정, 앞두, 경쟁, 도시,...</td>\n",
       "      <td>0.466667</td>\n",
       "      <td>0.421750</td>\n",
       "      <td>1.643160</td>\n",
       "      <td>0.544845</td>\n",
       "      <td>0.00000</td>\n",
       "    </tr>\n",
       "    <tr>\n",
       "      <th>1</th>\n",
       "      <td>국제신문</td>\n",
       "      <td>[부산시가 2032년 하계올림픽 국내 유치 신청 도시 선정을 앞두고 경쟁 도시인 서...</td>\n",
       "      <td>부산시가 2032년 하계올림픽 국내 유치 신청 도시 선정을 앞두고 경쟁 도시인 서울...</td>\n",
       "      <td>[0, 5, 3]</td>\n",
       "      <td>333727228</td>\n",
       "      <td>오거돈 부산시장은 11일 오후 충북 진천 국가대표 선수촌에서 열릴 대한체육회의 대의...</td>\n",
       "      <td>0</td>\n",
       "      <td>0</td>\n",
       "      <td>8.848214</td>\n",
       "      <td>[오거돈, 부산, 시장, 오후, 충북, 진천, 국가, 대표, 선수, 촌, 대한체육회...</td>\n",
       "      <td>0.577778</td>\n",
       "      <td>0.550548</td>\n",
       "      <td>2.468398</td>\n",
       "      <td>0.298872</td>\n",
       "      <td>0.07692</td>\n",
       "    </tr>\n",
       "    <tr>\n",
       "      <th>2</th>\n",
       "      <td>국제신문</td>\n",
       "      <td>[부산시가 2032년 하계올림픽 국내 유치 신청 도시 선정을 앞두고 경쟁 도시인 서...</td>\n",
       "      <td>부산시가 2032년 하계올림픽 국내 유치 신청 도시 선정을 앞두고 경쟁 도시인 서울...</td>\n",
       "      <td>[0, 5, 3]</td>\n",
       "      <td>333727228</td>\n",
       "      <td>대의원 총회 심의에는 오거돈 부산시장과 박원순 서울시장이 참석해 각각 올림픽 유치 ...</td>\n",
       "      <td>0</td>\n",
       "      <td>0</td>\n",
       "      <td>8.375000</td>\n",
       "      <td>[대의원, 총회, 심의, 오거돈, 부산, 시장, 박원순, 서울, 시장, 참석, 각각...</td>\n",
       "      <td>0.333333</td>\n",
       "      <td>0.244185</td>\n",
       "      <td>2.285997</td>\n",
       "      <td>0.193521</td>\n",
       "      <td>0.15385</td>\n",
       "    </tr>\n",
       "  </tbody>\n",
       "</table>\n",
       "</div>"
      ],
      "text/plain": [
       "  media                                   article_original  ...    ab2sim       SP\n",
       "0  국제신문  [부산시가 2032년 하계올림픽 국내 유치 신청 도시 선정을 앞두고 경쟁 도시인 서...  ...  0.544845  0.00000\n",
       "1  국제신문  [부산시가 2032년 하계올림픽 국내 유치 신청 도시 선정을 앞두고 경쟁 도시인 서...  ...  0.298872  0.07692\n",
       "2  국제신문  [부산시가 2032년 하계올림픽 국내 유치 신청 도시 선정을 앞두고 경쟁 도시인 서...  ...  0.193521  0.15385\n",
       "\n",
       "[3 rows x 15 columns]"
      ]
     },
     "execution_count": 111,
     "metadata": {
      "tags": []
     },
     "output_type": "execute_result"
    }
   ],
   "source": [
    "percvec = pd.DataFrame(perclist, columns=['SP'])\n",
    "new_train['SP'] = percvec\n",
    "new_train.head(3)"
   ]
  },
  {
   "cell_type": "code",
   "execution_count": null,
   "metadata": {
    "id": "kW2rULVQjUfW"
   },
   "outputs": [],
   "source": [
    "#val set에 대해서도 같은 과정 진행\n",
    "perclist = []\n",
    "for i in range(len(new_val)):\n",
    "    length = len(new_val['article_original'][i])\n",
    "    for num in range(length):\n",
    "        perc = num / length\n",
    "        perclist.append(round(perc, 5))"
   ]
  },
  {
   "cell_type": "code",
   "execution_count": null,
   "metadata": {
    "colab": {
     "base_uri": "https://localhost:8080/",
     "height": 447
    },
    "id": "YSgHAU2OlVus",
    "outputId": "b0bf9ae0-3537-4de9-9f8c-47dbd066529b"
   },
   "outputs": [
    {
     "data": {
      "text/html": [
       "<div>\n",
       "<style scoped>\n",
       "    .dataframe tbody tr th:only-of-type {\n",
       "        vertical-align: middle;\n",
       "    }\n",
       "\n",
       "    .dataframe tbody tr th {\n",
       "        vertical-align: top;\n",
       "    }\n",
       "\n",
       "    .dataframe thead th {\n",
       "        text-align: right;\n",
       "    }\n",
       "</style>\n",
       "<table border=\"1\" class=\"dataframe\">\n",
       "  <thead>\n",
       "    <tr style=\"text-align: right;\">\n",
       "      <th></th>\n",
       "      <th>media</th>\n",
       "      <th>article_original</th>\n",
       "      <th>abstractive</th>\n",
       "      <th>extractive</th>\n",
       "      <th>id</th>\n",
       "      <th>article_sent</th>\n",
       "      <th>label</th>\n",
       "      <th>first</th>\n",
       "      <th>bias</th>\n",
       "      <th>article_token</th>\n",
       "      <th>SL</th>\n",
       "      <th>TF_ISF</th>\n",
       "      <th>sent2sim</th>\n",
       "      <th>ab2sim</th>\n",
       "      <th>SP</th>\n",
       "    </tr>\n",
       "  </thead>\n",
       "  <tbody>\n",
       "    <tr>\n",
       "      <th>0</th>\n",
       "      <td>기호일보</td>\n",
       "      <td>[포토 : 바세린, 기호일보=디지털뉴스부 요근래 매일매일 다채로운 Quiz를 내놓고...</td>\n",
       "      <td>매일 다채로운 Quiz 를 내놓고 있는 'TOSS'가 '바세린 바른 입술'과 관련한...</td>\n",
       "      <td>[1, 3, 5]</td>\n",
       "      <td>366196093</td>\n",
       "      <td>포토 : 바세린</td>\n",
       "      <td>0</td>\n",
       "      <td>1</td>\n",
       "      <td>6.926789</td>\n",
       "      <td>[포토, 바세린]</td>\n",
       "      <td>0.054054</td>\n",
       "      <td>0.057993</td>\n",
       "      <td>1.509345</td>\n",
       "      <td>0.146774</td>\n",
       "      <td>0.00000</td>\n",
       "    </tr>\n",
       "    <tr>\n",
       "      <th>1</th>\n",
       "      <td>기호일보</td>\n",
       "      <td>[포토 : 바세린, 기호일보=디지털뉴스부 요근래 매일매일 다채로운 Quiz를 내놓고...</td>\n",
       "      <td>매일 다채로운 Quiz 를 내놓고 있는 'TOSS'가 '바세린 바른 입술'과 관련한...</td>\n",
       "      <td>[1, 3, 5]</td>\n",
       "      <td>366196093</td>\n",
       "      <td>기호일보=디지털뉴스부 요근래 매일매일 다채로운 Quiz를 내놓고 있는 TOSS'가 ...</td>\n",
       "      <td>1</td>\n",
       "      <td>0</td>\n",
       "      <td>6.930116</td>\n",
       "      <td>[기호일보, 디지털, 뉴스, 부, 근래, 매일, 매일, 내놓, 있, 이번, 바세린,...</td>\n",
       "      <td>0.405405</td>\n",
       "      <td>0.322731</td>\n",
       "      <td>1.800734</td>\n",
       "      <td>0.160651</td>\n",
       "      <td>0.11111</td>\n",
       "    </tr>\n",
       "    <tr>\n",
       "      <th>2</th>\n",
       "      <td>기호일보</td>\n",
       "      <td>[포토 : 바세린, 기호일보=디지털뉴스부 요근래 매일매일 다채로운 Quiz를 내놓고...</td>\n",
       "      <td>매일 다채로운 Quiz 를 내놓고 있는 'TOSS'가 '바세린 바른 입술'과 관련한...</td>\n",
       "      <td>[1, 3, 5]</td>\n",
       "      <td>366196093</td>\n",
       "      <td>이로인해 현재 대형포털의 서칭리스트 상단에 바세린 바른입술 이 순위권을 장악하고 있...</td>\n",
       "      <td>0</td>\n",
       "      <td>0</td>\n",
       "      <td>5.683860</td>\n",
       "      <td>[현재, 대형, 포털, 서, 칭, 리스트, 상단, 바세린, 입술, 순위, 장악, 하...</td>\n",
       "      <td>0.540541</td>\n",
       "      <td>0.453334</td>\n",
       "      <td>1.607474</td>\n",
       "      <td>0.081672</td>\n",
       "      <td>0.22222</td>\n",
       "    </tr>\n",
       "    <tr>\n",
       "      <th>3</th>\n",
       "      <td>기호일보</td>\n",
       "      <td>[포토 : 바세린, 기호일보=디지털뉴스부 요근래 매일매일 다채로운 Quiz를 내놓고...</td>\n",
       "      <td>매일 다채로운 Quiz 를 내놓고 있는 'TOSS'가 '바세린 바른 입술'과 관련한...</td>\n",
       "      <td>[1, 3, 5]</td>\n",
       "      <td>366196093</td>\n",
       "      <td>칠 일 'toss'에는 바세린 바른입술 과 관련한 event에 대한 내용을 열거한 ...</td>\n",
       "      <td>1</td>\n",
       "      <td>0</td>\n",
       "      <td>3.911814</td>\n",
       "      <td>[바세린, 입술, 과, 관련, 내용, 열거, 후, 내용, 들어가, 단어, 묻]</td>\n",
       "      <td>0.297297</td>\n",
       "      <td>0.299018</td>\n",
       "      <td>1.729383</td>\n",
       "      <td>0.752785</td>\n",
       "      <td>0.33333</td>\n",
       "    </tr>\n",
       "    <tr>\n",
       "      <th>4</th>\n",
       "      <td>기호일보</td>\n",
       "      <td>[포토 : 바세린, 기호일보=디지털뉴스부 요근래 매일매일 다채로운 Quiz를 내놓고...</td>\n",
       "      <td>매일 다채로운 Quiz 를 내놓고 있는 'TOSS'가 '바세린 바른 입술'과 관련한...</td>\n",
       "      <td>[1, 3, 5]</td>\n",
       "      <td>366196093</td>\n",
       "      <td>이어 hint로 naver에서 복사한 해당 문구를 붙여넣기를 한 후 엔터를 쳐 나오...</td>\n",
       "      <td>0</td>\n",
       "      <td>0</td>\n",
       "      <td>2.923461</td>\n",
       "      <td>[이어, 복사, 해당, 문구, 넣, 후, 엔터, 나오, 결과물, 참조, 하, 설명,...</td>\n",
       "      <td>0.648649</td>\n",
       "      <td>0.585356</td>\n",
       "      <td>1.593133</td>\n",
       "      <td>0.079717</td>\n",
       "      <td>0.44444</td>\n",
       "    </tr>\n",
       "  </tbody>\n",
       "</table>\n",
       "</div>"
      ],
      "text/plain": [
       "  media                                   article_original  ...    ab2sim       SP\n",
       "0  기호일보  [포토 : 바세린, 기호일보=디지털뉴스부 요근래 매일매일 다채로운 Quiz를 내놓고...  ...  0.146774  0.00000\n",
       "1  기호일보  [포토 : 바세린, 기호일보=디지털뉴스부 요근래 매일매일 다채로운 Quiz를 내놓고...  ...  0.160651  0.11111\n",
       "2  기호일보  [포토 : 바세린, 기호일보=디지털뉴스부 요근래 매일매일 다채로운 Quiz를 내놓고...  ...  0.081672  0.22222\n",
       "3  기호일보  [포토 : 바세린, 기호일보=디지털뉴스부 요근래 매일매일 다채로운 Quiz를 내놓고...  ...  0.752785  0.33333\n",
       "4  기호일보  [포토 : 바세린, 기호일보=디지털뉴스부 요근래 매일매일 다채로운 Quiz를 내놓고...  ...  0.079717  0.44444\n",
       "\n",
       "[5 rows x 15 columns]"
      ]
     },
     "execution_count": 113,
     "metadata": {
      "tags": []
     },
     "output_type": "execute_result"
    }
   ],
   "source": [
    "percvec = pd.DataFrame(perclist, columns=['SP'])\n",
    "new_val['SP'] = percvec\n",
    "new_val.head()"
   ]
  },
  {
   "cell_type": "markdown",
   "metadata": {
    "id": "AiEisn3lWCyY"
   },
   "source": [
    "### 6)bias \n",
    "- media별 bias 값을 구한 피처\n",
    "- 전처리 과정에서 생성완료함"
   ]
  },
  {
   "cell_type": "markdown",
   "metadata": {
    "id": "6J57PxEcnGXC"
   },
   "source": [
    "### 7) first\n",
    "- 첫번쨰 문장이면 1, 아니면 0\n",
    "- 전처리 과정에서 생성완료함"
   ]
  },
  {
   "cell_type": "code",
   "execution_count": null,
   "metadata": {
    "id": "oz2U8JdbjUoj"
   },
   "outputs": [],
   "source": [
    "# csv 파일로 저장\n",
    "new_train2= new_train.drop('article_original', axis=1)\n",
    "new_train2.to_csv('new_train2.csv', index=False)\n",
    "new_val.to_csv('new_val.csv', index=False)\n",
    "from google.colab import files\n",
    "files.download('new_train2.csv')\n",
    "files.download('new_val.csv')"
   ]
  },
  {
   "cell_type": "code",
   "execution_count": null,
   "metadata": {},
   "outputs": [],
   "source": []
  },
  {
   "cell_type": "markdown",
   "metadata": {
    "id": "5MIfD2YF5gSU"
   },
   "source": [
    "## 3. modeling for classification\n",
    "- 만들어진 new_train dataframe을 이용해 모델을 만듦 \n",
    "- 하이퍼 파라미터 튜닝) train set 이용\n",
    "- 그 이후 new_val로 성능 평가 - 기준은 accuracy"
   ]
  },
  {
   "cell_type": "code",
   "execution_count": null,
   "metadata": {
    "colab": {
     "base_uri": "https://localhost:8080/",
     "height": 710
    },
    "id": "D0KphD3AWxsD",
    "outputId": "ef942654-5838-45d8-dabd-6d9d914ad5d4"
   },
   "outputs": [
    {
     "data": {
      "text/html": [
       "<div>\n",
       "<style scoped>\n",
       "    .dataframe tbody tr th:only-of-type {\n",
       "        vertical-align: middle;\n",
       "    }\n",
       "\n",
       "    .dataframe tbody tr th {\n",
       "        vertical-align: top;\n",
       "    }\n",
       "\n",
       "    .dataframe thead th {\n",
       "        text-align: right;\n",
       "    }\n",
       "</style>\n",
       "<table border=\"1\" class=\"dataframe\">\n",
       "  <thead>\n",
       "    <tr style=\"text-align: right;\">\n",
       "      <th></th>\n",
       "      <th>media</th>\n",
       "      <th>abstractive</th>\n",
       "      <th>extractive</th>\n",
       "      <th>id</th>\n",
       "      <th>article_sent</th>\n",
       "      <th>label</th>\n",
       "      <th>first</th>\n",
       "      <th>article_token</th>\n",
       "      <th>SL</th>\n",
       "      <th>TF_ISF</th>\n",
       "      <th>sent2sim</th>\n",
       "      <th>ab2sim</th>\n",
       "      <th>SP</th>\n",
       "      <th>bias</th>\n",
       "    </tr>\n",
       "  </thead>\n",
       "  <tbody>\n",
       "    <tr>\n",
       "      <th>0</th>\n",
       "      <td>국제신문</td>\n",
       "      <td>부산시가 2032년 하계올림픽 국내 유치 신청 도시 선정을 앞두고 경쟁 도시인 서울...</td>\n",
       "      <td>[0, 5, 3]</td>\n",
       "      <td>333727228</td>\n",
       "      <td>부산시가 2032년 하계올림픽 국내 유치 신청 도시 선정을 앞두고 경쟁 도시인 서울...</td>\n",
       "      <td>1</td>\n",
       "      <td>1</td>\n",
       "      <td>['부산시', '하계', '올림픽', '국내', '유치', '신청', '도시', '...</td>\n",
       "      <td>0.466667</td>\n",
       "      <td>0.421750</td>\n",
       "      <td>1.643160</td>\n",
       "      <td>0.544845</td>\n",
       "      <td>0.00000</td>\n",
       "      <td>10.402214</td>\n",
       "    </tr>\n",
       "    <tr>\n",
       "      <th>1</th>\n",
       "      <td>국제신문</td>\n",
       "      <td>부산시가 2032년 하계올림픽 국내 유치 신청 도시 선정을 앞두고 경쟁 도시인 서울...</td>\n",
       "      <td>[0, 5, 3]</td>\n",
       "      <td>333727228</td>\n",
       "      <td>오거돈 부산시장은 11일 오후 충북 진천 국가대표 선수촌에서 열릴 대한체육회의 대의...</td>\n",
       "      <td>0</td>\n",
       "      <td>0</td>\n",
       "      <td>['오거돈', '부산', '시장', '오후', '충북', '진천', '국가', '대...</td>\n",
       "      <td>0.577778</td>\n",
       "      <td>0.550548</td>\n",
       "      <td>2.468398</td>\n",
       "      <td>0.298872</td>\n",
       "      <td>0.07692</td>\n",
       "      <td>8.749077</td>\n",
       "    </tr>\n",
       "    <tr>\n",
       "      <th>2</th>\n",
       "      <td>국제신문</td>\n",
       "      <td>부산시가 2032년 하계올림픽 국내 유치 신청 도시 선정을 앞두고 경쟁 도시인 서울...</td>\n",
       "      <td>[0, 5, 3]</td>\n",
       "      <td>333727228</td>\n",
       "      <td>대의원 총회 심의에는 오거돈 부산시장과 박원순 서울시장이 참석해 각각 올림픽 유치 ...</td>\n",
       "      <td>0</td>\n",
       "      <td>0</td>\n",
       "      <td>['대의원', '총회', '심의', '오거돈', '부산', '시장', '박원순', ...</td>\n",
       "      <td>0.333333</td>\n",
       "      <td>0.244185</td>\n",
       "      <td>2.285997</td>\n",
       "      <td>0.193521</td>\n",
       "      <td>0.15385</td>\n",
       "      <td>8.206642</td>\n",
       "    </tr>\n",
       "    <tr>\n",
       "      <th>3</th>\n",
       "      <td>국제신문</td>\n",
       "      <td>부산시가 2032년 하계올림픽 국내 유치 신청 도시 선정을 앞두고 경쟁 도시인 서울...</td>\n",
       "      <td>[0, 5, 3]</td>\n",
       "      <td>333727228</td>\n",
       "      <td>두 광역단체장의 발표와 질의응답을 거친 뒤 대의원 투표를 통해 국내 유치 도시가 확...</td>\n",
       "      <td>1</td>\n",
       "      <td>0</td>\n",
       "      <td>['광역', '단체장', '발표', '질', '응답', '뒤', '대의원', '투표...</td>\n",
       "      <td>0.266667</td>\n",
       "      <td>0.229979</td>\n",
       "      <td>1.524343</td>\n",
       "      <td>0.648721</td>\n",
       "      <td>0.23077</td>\n",
       "      <td>6.439114</td>\n",
       "    </tr>\n",
       "    <tr>\n",
       "      <th>4</th>\n",
       "      <td>국제신문</td>\n",
       "      <td>부산시가 2032년 하계올림픽 국내 유치 신청 도시 선정을 앞두고 경쟁 도시인 서울...</td>\n",
       "      <td>[0, 5, 3]</td>\n",
       "      <td>333727228</td>\n",
       "      <td>오 시장은 한반도는 되돌릴 수 없는 평화의 미래를 향해 또 한 번 큰 걸음을 내딛는...</td>\n",
       "      <td>0</td>\n",
       "      <td>0</td>\n",
       "      <td>['시장', '한반도', '수', '없', '평화', '미래', '또', '걸음',...</td>\n",
       "      <td>0.222222</td>\n",
       "      <td>0.157651</td>\n",
       "      <td>2.248480</td>\n",
       "      <td>0.034450</td>\n",
       "      <td>0.30769</td>\n",
       "      <td>4.808118</td>\n",
       "    </tr>\n",
       "  </tbody>\n",
       "</table>\n",
       "</div>"
      ],
      "text/plain": [
       "  media                                        abstractive  ...       SP       bias\n",
       "0  국제신문  부산시가 2032년 하계올림픽 국내 유치 신청 도시 선정을 앞두고 경쟁 도시인 서울...  ...  0.00000  10.402214\n",
       "1  국제신문  부산시가 2032년 하계올림픽 국내 유치 신청 도시 선정을 앞두고 경쟁 도시인 서울...  ...  0.07692   8.749077\n",
       "2  국제신문  부산시가 2032년 하계올림픽 국내 유치 신청 도시 선정을 앞두고 경쟁 도시인 서울...  ...  0.15385   8.206642\n",
       "3  국제신문  부산시가 2032년 하계올림픽 국내 유치 신청 도시 선정을 앞두고 경쟁 도시인 서울...  ...  0.23077   6.439114\n",
       "4  국제신문  부산시가 2032년 하계올림픽 국내 유치 신청 도시 선정을 앞두고 경쟁 도시인 서울...  ...  0.30769   4.808118\n",
       "\n",
       "[5 rows x 14 columns]"
      ]
     },
     "metadata": {
      "tags": []
     },
     "output_type": "display_data"
    },
    {
     "data": {
      "text/html": [
       "<div>\n",
       "<style scoped>\n",
       "    .dataframe tbody tr th:only-of-type {\n",
       "        vertical-align: middle;\n",
       "    }\n",
       "\n",
       "    .dataframe tbody tr th {\n",
       "        vertical-align: top;\n",
       "    }\n",
       "\n",
       "    .dataframe thead th {\n",
       "        text-align: right;\n",
       "    }\n",
       "</style>\n",
       "<table border=\"1\" class=\"dataframe\">\n",
       "  <thead>\n",
       "    <tr style=\"text-align: right;\">\n",
       "      <th></th>\n",
       "      <th>media</th>\n",
       "      <th>abstractive</th>\n",
       "      <th>extractive</th>\n",
       "      <th>id</th>\n",
       "      <th>article_sent</th>\n",
       "      <th>label</th>\n",
       "      <th>first</th>\n",
       "      <th>article_token</th>\n",
       "      <th>SL</th>\n",
       "      <th>TF_ISF</th>\n",
       "      <th>sent2sim</th>\n",
       "      <th>ab2sim</th>\n",
       "      <th>SP</th>\n",
       "      <th>bias</th>\n",
       "    </tr>\n",
       "  </thead>\n",
       "  <tbody>\n",
       "    <tr>\n",
       "      <th>0</th>\n",
       "      <td>기호일보</td>\n",
       "      <td>매일 다채로운 Quiz 를 내놓고 있는 'TOSS'가 '바세린 바른 입술'과 관련한...</td>\n",
       "      <td>[1, 3, 5]</td>\n",
       "      <td>366196093</td>\n",
       "      <td>포토 : 바세린</td>\n",
       "      <td>0</td>\n",
       "      <td>1</td>\n",
       "      <td>['포토', '바세린']</td>\n",
       "      <td>0.054054</td>\n",
       "      <td>0.057993</td>\n",
       "      <td>1.509345</td>\n",
       "      <td>0.146774</td>\n",
       "      <td>0.00000</td>\n",
       "      <td>7.025862</td>\n",
       "    </tr>\n",
       "    <tr>\n",
       "      <th>1</th>\n",
       "      <td>기호일보</td>\n",
       "      <td>매일 다채로운 Quiz 를 내놓고 있는 'TOSS'가 '바세린 바른 입술'과 관련한...</td>\n",
       "      <td>[1, 3, 5]</td>\n",
       "      <td>366196093</td>\n",
       "      <td>기호일보=디지털뉴스부 요근래 매일매일 다채로운 Quiz를 내놓고 있는 TOSS'가 ...</td>\n",
       "      <td>1</td>\n",
       "      <td>0</td>\n",
       "      <td>['기호일보', '디지털', '뉴스', '부', '근래', '매일', '매일', '...</td>\n",
       "      <td>0.405405</td>\n",
       "      <td>0.322731</td>\n",
       "      <td>1.800734</td>\n",
       "      <td>0.160651</td>\n",
       "      <td>0.11111</td>\n",
       "      <td>6.922414</td>\n",
       "    </tr>\n",
       "    <tr>\n",
       "      <th>2</th>\n",
       "      <td>기호일보</td>\n",
       "      <td>매일 다채로운 Quiz 를 내놓고 있는 'TOSS'가 '바세린 바른 입술'과 관련한...</td>\n",
       "      <td>[1, 3, 5]</td>\n",
       "      <td>366196093</td>\n",
       "      <td>이로인해 현재 대형포털의 서칭리스트 상단에 바세린 바른입술 이 순위권을 장악하고 있...</td>\n",
       "      <td>0</td>\n",
       "      <td>0</td>\n",
       "      <td>['현재', '대형', '포털', '서', '칭', '리스트', '상단', '바세린...</td>\n",
       "      <td>0.540541</td>\n",
       "      <td>0.453334</td>\n",
       "      <td>1.607474</td>\n",
       "      <td>0.081672</td>\n",
       "      <td>0.22222</td>\n",
       "      <td>5.689655</td>\n",
       "    </tr>\n",
       "    <tr>\n",
       "      <th>3</th>\n",
       "      <td>기호일보</td>\n",
       "      <td>매일 다채로운 Quiz 를 내놓고 있는 'TOSS'가 '바세린 바른 입술'과 관련한...</td>\n",
       "      <td>[1, 3, 5]</td>\n",
       "      <td>366196093</td>\n",
       "      <td>칠 일 'toss'에는 바세린 바른입술 과 관련한 event에 대한 내용을 열거한 ...</td>\n",
       "      <td>1</td>\n",
       "      <td>0</td>\n",
       "      <td>['바세린', '입술', '과', '관련', '내용', '열거', '후', '내용'...</td>\n",
       "      <td>0.297297</td>\n",
       "      <td>0.299018</td>\n",
       "      <td>1.729383</td>\n",
       "      <td>0.752785</td>\n",
       "      <td>0.33333</td>\n",
       "      <td>3.767241</td>\n",
       "    </tr>\n",
       "    <tr>\n",
       "      <th>4</th>\n",
       "      <td>기호일보</td>\n",
       "      <td>매일 다채로운 Quiz 를 내놓고 있는 'TOSS'가 '바세린 바른 입술'과 관련한...</td>\n",
       "      <td>[1, 3, 5]</td>\n",
       "      <td>366196093</td>\n",
       "      <td>이어 hint로 naver에서 복사한 해당 문구를 붙여넣기를 한 후 엔터를 쳐 나오...</td>\n",
       "      <td>0</td>\n",
       "      <td>0</td>\n",
       "      <td>['이어', '복사', '해당', '문구', '넣', '후', '엔터', '나오',...</td>\n",
       "      <td>0.648649</td>\n",
       "      <td>0.585356</td>\n",
       "      <td>1.593133</td>\n",
       "      <td>0.079717</td>\n",
       "      <td>0.44444</td>\n",
       "      <td>2.879310</td>\n",
       "    </tr>\n",
       "  </tbody>\n",
       "</table>\n",
       "</div>"
      ],
      "text/plain": [
       "  media                                        abstractive  ...       SP      bias\n",
       "0  기호일보  매일 다채로운 Quiz 를 내놓고 있는 'TOSS'가 '바세린 바른 입술'과 관련한...  ...  0.00000  7.025862\n",
       "1  기호일보  매일 다채로운 Quiz 를 내놓고 있는 'TOSS'가 '바세린 바른 입술'과 관련한...  ...  0.11111  6.922414\n",
       "2  기호일보  매일 다채로운 Quiz 를 내놓고 있는 'TOSS'가 '바세린 바른 입술'과 관련한...  ...  0.22222  5.689655\n",
       "3  기호일보  매일 다채로운 Quiz 를 내놓고 있는 'TOSS'가 '바세린 바른 입술'과 관련한...  ...  0.33333  3.767241\n",
       "4  기호일보  매일 다채로운 Quiz 를 내놓고 있는 'TOSS'가 '바세린 바른 입술'과 관련한...  ...  0.44444  2.879310\n",
       "\n",
       "[5 rows x 14 columns]"
      ]
     },
     "metadata": {
      "tags": []
     },
     "output_type": "display_data"
    }
   ],
   "source": [
    "new_train = pd.read_csv('drive/MyDrive/concattrain.csv')\n",
    "new_val = pd.read_csv('drive/MyDrive/concatval.csv')\n",
    "display(new_train.head(), new_val.head())"
   ]
  },
  {
   "cell_type": "code",
   "execution_count": null,
   "metadata": {
    "colab": {
     "base_uri": "https://localhost:8080/"
    },
    "id": "SvJJYr_IXNKR",
    "outputId": "4071e6e3-6dc8-4217-be96-c8a6439b1625"
   },
   "outputs": [
    {
     "name": "stdout",
     "output_type": "stream",
     "text": [
      "<class 'pandas.core.frame.DataFrame'>\n",
      "RangeIndex: 453837 entries, 0 to 453836\n",
      "Data columns (total 14 columns):\n",
      " #   Column         Non-Null Count   Dtype  \n",
      "---  ------         --------------   -----  \n",
      " 0   media          453837 non-null  object \n",
      " 1   abstractive    453837 non-null  object \n",
      " 2   extractive     453837 non-null  object \n",
      " 3   id             453837 non-null  int64  \n",
      " 4   article_sent   453837 non-null  object \n",
      " 5   label          453837 non-null  int64  \n",
      " 6   first          453837 non-null  int64  \n",
      " 7   article_token  453837 non-null  object \n",
      " 8   SL             453837 non-null  float64\n",
      " 9   TF_ISF         453837 non-null  float64\n",
      " 10  sent2sim       453837 non-null  float64\n",
      " 11  ab2sim         453837 non-null  float64\n",
      " 12  SP             453837 non-null  float64\n",
      " 13  bias           453837 non-null  float64\n",
      "dtypes: float64(6), int64(3), object(5)\n",
      "memory usage: 48.5+ MB\n"
     ]
    }
   ],
   "source": [
    "new_train.info()"
   ]
  },
  {
   "cell_type": "code",
   "execution_count": null,
   "metadata": {
    "id": "MqXYlXkh6G9F"
   },
   "outputs": [],
   "source": [
    "import pandas as pd\n",
    "import seaborn as sns\n",
    "from sklearn.model_selection import GridSearchCV\n",
    "from sklearn.tree import DecisionTreeClassifier\n",
    "from sklearn.ensemble import RandomForestClassifier\n",
    "#또 어떤 모델을 넣을까\n",
    "\n",
    "from sklearn.metrics import accuracy_score"
   ]
  },
  {
   "cell_type": "code",
   "execution_count": null,
   "metadata": {
    "colab": {
     "base_uri": "https://localhost:8080/",
     "height": 336
    },
    "id": "Be0OMh26fczH",
    "outputId": "2a169755-54da-4da7-c23c-e9a1f0aeb1c2"
   },
   "outputs": [
    {
     "name": "stderr",
     "output_type": "stream",
     "text": [
      "/usr/local/lib/python3.7/dist-packages/seaborn/distributions.py:2557: FutureWarning: `distplot` is a deprecated function and will be removed in a future version. Please adapt your code to use either `displot` (a figure-level function with similar flexibility) or `histplot` (an axes-level function for histograms).\n",
      "  warnings.warn(msg, FutureWarning)\n"
     ]
    },
    {
     "data": {
      "image/png": "[encoded data removed]",
      "text/plain": [
       "<Figure size 432x288 with 1 Axes>"
      ]
     },
     "metadata": {
      "needs_background": "light",
      "tags": []
     },
     "output_type": "display_data"
    }
   ],
   "source": [
    "#bias 분포 확인\n",
    "sns.distplot(new_train['bias'])\n",
    "plt.show()"
   ]
  },
  {
   "cell_type": "code",
   "execution_count": null,
   "metadata": {
    "colab": {
     "base_uri": "https://localhost:8080/",
     "height": 333
    },
    "id": "drYCEfKpfhZj",
    "outputId": "0ab1e864-f60f-45bc-9160-f255ac1504b4"
   },
   "outputs": [
    {
     "name": "stderr",
     "output_type": "stream",
     "text": [
      "/usr/local/lib/python3.7/dist-packages/seaborn/distributions.py:2557: FutureWarning: `distplot` is a deprecated function and will be removed in a future version. Please adapt your code to use either `displot` (a figure-level function with similar flexibility) or `histplot` (an axes-level function for histograms).\n",
      "  warnings.warn(msg, FutureWarning)\n"
     ]
    },
    {
     "data": {
      "image/png": "[encoded data removed]",
      "text/plain": [
       "<Figure size 432x288 with 1 Axes>"
      ]
     },
     "metadata": {
      "needs_background": "light",
      "tags": []
     },
     "output_type": "display_data"
    }
   ],
   "source": [
    "#sent2sim 분포 확인\n",
    "sns.distplot(new_train['sent2sim'])\n",
    "plt.show()\n",
    "## 가우시안 분포를 따른다면 표준화, 아니면 정규화 진행 "
   ]
  },
  {
   "cell_type": "code",
   "execution_count": null,
   "metadata": {
    "id": "tL4hChMsw9it"
   },
   "outputs": [],
   "source": [
    "#X, y 나누기(위에서부터 실행시 'article_original' 컬럼도 drop!!)\n",
    "train_x = new_train.drop(['abstractive','extractive','id','article_sent','label','article_token'], axis=1) #필요한 피처 제외 모두 drop\n",
    "train_y = new_train.loc[:, 'label']\n",
    "val_x = new_val.drop(['abstractive','extractive','article_sent','label','article_token'], axis=1) #val에는 id 남기고 돌리기(나중에 id별로 잘 뽑혔는지 보기위해)\n",
    "val_y = new_val.loc[:, 'label']"
   ]
  },
  {
   "cell_type": "code",
   "execution_count": null,
   "metadata": {
    "id": "Tq2IvapoXWI9"
   },
   "outputs": [],
   "source": [
    "train_x.drop(['media'], axis=1, inplace=True)\n",
    "val_x.drop(['media'], axis=1, inplace=True)"
   ]
  },
  {
   "cell_type": "code",
   "execution_count": null,
   "metadata": {
    "colab": {
     "base_uri": "https://localhost:8080/"
    },
    "id": "ghMxKiXIXckq",
    "outputId": "17c951b5-0388-430c-b38a-0cd76a49f994"
   },
   "outputs": [
    {
     "data": {
      "text/plain": [
       "((453837, 7), (113515, 8))"
      ]
     },
     "execution_count": 9,
     "metadata": {
      "tags": []
     },
     "output_type": "execute_result"
    }
   ],
   "source": [
    "train_x.shape, val_x.shape"
   ]
  },
  {
   "cell_type": "code",
   "execution_count": null,
   "metadata": {
    "id": "c7aH0ojpVA4s"
   },
   "outputs": [],
   "source": [
    "from sklearn.preprocessing import PowerTransformer\n",
    "from sklearn.compose import make_column_transformer\n",
    "transformer = make_column_transformer(\n",
    "    (PowerTransformer(), ['bias', 'sent2sim']),\n",
    "    remainder='drop')"
   ]
  },
  {
   "cell_type": "code",
   "execution_count": null,
   "metadata": {
    "id": "nXEIT0x-VA-5"
   },
   "outputs": [],
   "source": [
    "transformer.fit(train_x)\n",
    "transformedcol = transformer.transform(train_x)\n",
    "transformedcol = pd.DataFrame(transformedcol)"
   ]
  },
  {
   "cell_type": "code",
   "execution_count": null,
   "metadata": {
    "colab": {
     "base_uri": "https://localhost:8080/",
     "height": 195
    },
    "id": "ZPGookToXyKB",
    "outputId": "891d9fc4-69e4-446b-d347-51dcdf1b6f66"
   },
   "outputs": [
    {
     "data": {
      "text/html": [
       "<div>\n",
       "<style scoped>\n",
       "    .dataframe tbody tr th:only-of-type {\n",
       "        vertical-align: middle;\n",
       "    }\n",
       "\n",
       "    .dataframe tbody tr th {\n",
       "        vertical-align: top;\n",
       "    }\n",
       "\n",
       "    .dataframe thead th {\n",
       "        text-align: right;\n",
       "    }\n",
       "</style>\n",
       "<table border=\"1\" class=\"dataframe\">\n",
       "  <thead>\n",
       "    <tr style=\"text-align: right;\">\n",
       "      <th></th>\n",
       "      <th>first</th>\n",
       "      <th>SL</th>\n",
       "      <th>TF_ISF</th>\n",
       "      <th>ab2sim</th>\n",
       "      <th>SP</th>\n",
       "      <th>transformed_bias</th>\n",
       "      <th>transformed_sent2sim</th>\n",
       "    </tr>\n",
       "  </thead>\n",
       "  <tbody>\n",
       "    <tr>\n",
       "      <th>0</th>\n",
       "      <td>1</td>\n",
       "      <td>0.466667</td>\n",
       "      <td>0.421750</td>\n",
       "      <td>0.544845</td>\n",
       "      <td>0.00000</td>\n",
       "      <td>0.670039</td>\n",
       "      <td>-0.872133</td>\n",
       "    </tr>\n",
       "    <tr>\n",
       "      <th>1</th>\n",
       "      <td>0</td>\n",
       "      <td>0.577778</td>\n",
       "      <td>0.550548</td>\n",
       "      <td>0.298872</td>\n",
       "      <td>0.07692</td>\n",
       "      <td>0.538631</td>\n",
       "      <td>0.192674</td>\n",
       "    </tr>\n",
       "    <tr>\n",
       "      <th>2</th>\n",
       "      <td>0</td>\n",
       "      <td>0.333333</td>\n",
       "      <td>0.244185</td>\n",
       "      <td>0.193521</td>\n",
       "      <td>0.15385</td>\n",
       "      <td>0.488308</td>\n",
       "      <td>-0.016781</td>\n",
       "    </tr>\n",
       "    <tr>\n",
       "      <th>3</th>\n",
       "      <td>0</td>\n",
       "      <td>0.266667</td>\n",
       "      <td>0.229979</td>\n",
       "      <td>0.648721</td>\n",
       "      <td>0.23077</td>\n",
       "      <td>0.289419</td>\n",
       "      <td>-1.055196</td>\n",
       "    </tr>\n",
       "    <tr>\n",
       "      <th>4</th>\n",
       "      <td>0</td>\n",
       "      <td>0.222222</td>\n",
       "      <td>0.157651</td>\n",
       "      <td>0.034450</td>\n",
       "      <td>0.30769</td>\n",
       "      <td>0.033960</td>\n",
       "      <td>-0.061445</td>\n",
       "    </tr>\n",
       "  </tbody>\n",
       "</table>\n",
       "</div>"
      ],
      "text/plain": [
       "   first        SL    TF_ISF  ...       SP  transformed_bias  transformed_sent2sim\n",
       "0      1  0.466667  0.421750  ...  0.00000          0.670039             -0.872133\n",
       "1      0  0.577778  0.550548  ...  0.07692          0.538631              0.192674\n",
       "2      0  0.333333  0.244185  ...  0.15385          0.488308             -0.016781\n",
       "3      0  0.266667  0.229979  ...  0.23077          0.289419             -1.055196\n",
       "4      0  0.222222  0.157651  ...  0.30769          0.033960             -0.061445\n",
       "\n",
       "[5 rows x 7 columns]"
      ]
     },
     "execution_count": 12,
     "metadata": {
      "tags": []
     },
     "output_type": "execute_result"
    }
   ],
   "source": [
    "train_x['transformed_bias'] = transformedcol[0]\n",
    "train_x['transformed_sent2sim'] = transformedcol[1]\n",
    "train_x.drop(['sent2sim','bias'], axis=1, inplace=True)\n",
    "train_x.head()"
   ]
  },
  {
   "cell_type": "code",
   "execution_count": null,
   "metadata": {
    "id": "K1rtKJjMYCtO"
   },
   "outputs": [],
   "source": [
    "transformer.fit(val_x)\n",
    "transformedcol = transformer.transform(val_x)\n",
    "transformedcol = pd.DataFrame(transformedcol)"
   ]
  },
  {
   "cell_type": "code",
   "execution_count": null,
   "metadata": {
    "id": "jm5FZsxOVOOR"
   },
   "outputs": [],
   "source": [
    "val_x['transformed_bias'] = transformedcol[0]\n",
    "val_x['transformed_sent2sim'] = transformedcol[1]\n",
    "val_x.drop(['sent2sim','bias'], axis=1, inplace=True)"
   ]
  },
  {
   "cell_type": "code",
   "execution_count": null,
   "metadata": {
    "colab": {
     "base_uri": "https://localhost:8080/",
     "height": 225
    },
    "id": "_pRc2-tTVBOy",
    "outputId": "01a277ce-282e-439c-f9b8-00e8dfb14fa7"
   },
   "outputs": [
    {
     "data": {
      "text/html": [
       "<div>\n",
       "<style scoped>\n",
       "    .dataframe tbody tr th:only-of-type {\n",
       "        vertical-align: middle;\n",
       "    }\n",
       "\n",
       "    .dataframe tbody tr th {\n",
       "        vertical-align: top;\n",
       "    }\n",
       "\n",
       "    .dataframe thead th {\n",
       "        text-align: right;\n",
       "    }\n",
       "</style>\n",
       "<table border=\"1\" class=\"dataframe\">\n",
       "  <thead>\n",
       "    <tr style=\"text-align: right;\">\n",
       "      <th></th>\n",
       "      <th>first</th>\n",
       "      <th>SL</th>\n",
       "      <th>TF_ISF</th>\n",
       "      <th>ab2sim</th>\n",
       "      <th>SP</th>\n",
       "      <th>transformed_bias</th>\n",
       "      <th>transformed_sent2sim</th>\n",
       "    </tr>\n",
       "    <tr>\n",
       "      <th>id</th>\n",
       "      <th></th>\n",
       "      <th></th>\n",
       "      <th></th>\n",
       "      <th></th>\n",
       "      <th></th>\n",
       "      <th></th>\n",
       "      <th></th>\n",
       "    </tr>\n",
       "  </thead>\n",
       "  <tbody>\n",
       "    <tr>\n",
       "      <th>366196093</th>\n",
       "      <td>1</td>\n",
       "      <td>0.054054</td>\n",
       "      <td>0.057993</td>\n",
       "      <td>0.146774</td>\n",
       "      <td>0.00000</td>\n",
       "      <td>0.360349</td>\n",
       "      <td>-1.073581</td>\n",
       "    </tr>\n",
       "    <tr>\n",
       "      <th>366196093</th>\n",
       "      <td>0</td>\n",
       "      <td>0.405405</td>\n",
       "      <td>0.322731</td>\n",
       "      <td>0.160651</td>\n",
       "      <td>0.11111</td>\n",
       "      <td>0.348142</td>\n",
       "      <td>-0.641370</td>\n",
       "    </tr>\n",
       "    <tr>\n",
       "      <th>366196093</th>\n",
       "      <td>0</td>\n",
       "      <td>0.540541</td>\n",
       "      <td>0.453334</td>\n",
       "      <td>0.081672</td>\n",
       "      <td>0.22222</td>\n",
       "      <td>0.182758</td>\n",
       "      <td>-0.922482</td>\n",
       "    </tr>\n",
       "    <tr>\n",
       "      <th>366196093</th>\n",
       "      <td>0</td>\n",
       "      <td>0.297297</td>\n",
       "      <td>0.299018</td>\n",
       "      <td>0.752785</td>\n",
       "      <td>0.33333</td>\n",
       "      <td>-0.186006</td>\n",
       "      <td>-0.742752</td>\n",
       "    </tr>\n",
       "    <tr>\n",
       "      <th>366196093</th>\n",
       "      <td>0</td>\n",
       "      <td>0.648649</td>\n",
       "      <td>0.585356</td>\n",
       "      <td>0.079717</td>\n",
       "      <td>0.44444</td>\n",
       "      <td>-0.437384</td>\n",
       "      <td>-0.944195</td>\n",
       "    </tr>\n",
       "  </tbody>\n",
       "</table>\n",
       "</div>"
      ],
      "text/plain": [
       "           first        SL  ...  transformed_bias  transformed_sent2sim\n",
       "id                          ...                                        \n",
       "366196093      1  0.054054  ...          0.360349             -1.073581\n",
       "366196093      0  0.405405  ...          0.348142             -0.641370\n",
       "366196093      0  0.540541  ...          0.182758             -0.922482\n",
       "366196093      0  0.297297  ...         -0.186006             -0.742752\n",
       "366196093      0  0.648649  ...         -0.437384             -0.944195\n",
       "\n",
       "[5 rows x 7 columns]"
      ]
     },
     "execution_count": 15,
     "metadata": {
      "tags": []
     },
     "output_type": "execute_result"
    }
   ],
   "source": [
    "val_x.set_index('id',inplace=True)\n",
    "val_x.head()"
   ]
  },
  {
   "cell_type": "code",
   "execution_count": null,
   "metadata": {
    "colab": {
     "base_uri": "https://localhost:8080/"
    },
    "id": "xjKlH7wcYOZf",
    "outputId": "e2de31de-58e0-4c75-a197-50fd4f6cd763"
   },
   "outputs": [
    {
     "name": "stdout",
     "output_type": "stream",
     "text": [
      "<class 'pandas.core.frame.DataFrame'>\n",
      "RangeIndex: 453837 entries, 0 to 453836\n",
      "Data columns (total 7 columns):\n",
      " #   Column                Non-Null Count   Dtype  \n",
      "---  ------                --------------   -----  \n",
      " 0   first                 453837 non-null  int64  \n",
      " 1   SL                    453837 non-null  float64\n",
      " 2   TF_ISF                453837 non-null  float64\n",
      " 3   ab2sim                453837 non-null  float64\n",
      " 4   SP                    453837 non-null  float64\n",
      " 5   transformed_bias      453837 non-null  float64\n",
      " 6   transformed_sent2sim  453837 non-null  float64\n",
      "dtypes: float64(6), int64(1)\n",
      "memory usage: 24.2 MB\n"
     ]
    }
   ],
   "source": [
    "train_x.info()"
   ]
  },
  {
   "cell_type": "code",
   "execution_count": null,
   "metadata": {
    "colab": {
     "base_uri": "https://localhost:8080/"
    },
    "id": "ZsWMZAykYVqd",
    "outputId": "a73572a9-59f5-4477-a0e4-bd02a5e9a63f"
   },
   "outputs": [
    {
     "name": "stdout",
     "output_type": "stream",
     "text": [
      "<class 'pandas.core.frame.DataFrame'>\n",
      "Int64Index: 113515 entries, 366196093 to 341140100\n",
      "Data columns (total 7 columns):\n",
      " #   Column                Non-Null Count   Dtype  \n",
      "---  ------                --------------   -----  \n",
      " 0   first                 113515 non-null  int64  \n",
      " 1   SL                    113515 non-null  float64\n",
      " 2   TF_ISF                113515 non-null  float64\n",
      " 3   ab2sim                113515 non-null  float64\n",
      " 4   SP                    113515 non-null  float64\n",
      " 5   transformed_bias      113515 non-null  float64\n",
      " 6   transformed_sent2sim  113515 non-null  float64\n",
      "dtypes: float64(6), int64(1)\n",
      "memory usage: 6.9 MB\n"
     ]
    }
   ],
   "source": [
    "val_x.info()"
   ]
  },
  {
   "cell_type": "code",
   "execution_count": null,
   "metadata": {
    "colab": {
     "base_uri": "https://localhost:8080/",
     "height": 350
    },
    "id": "Yb9CT1aGZmTP",
    "outputId": "7a3e944f-091f-49fb-9ba9-3aa8f53e051e"
   },
   "outputs": [
    {
     "name": "stderr",
     "output_type": "stream",
     "text": [
      "/usr/local/lib/python3.7/dist-packages/seaborn/distributions.py:2557: FutureWarning: `distplot` is a deprecated function and will be removed in a future version. Please adapt your code to use either `displot` (a figure-level function with similar flexibility) or `histplot` (an axes-level function for histograms).\n",
      "  warnings.warn(msg, FutureWarning)\n"
     ]
    },
    {
     "data": {
      "text/plain": [
       "<matplotlib.axes._subplots.AxesSubplot at 0x7f41ff27c7d0>"
      ]
     },
     "execution_count": 18,
     "metadata": {
      "tags": []
     },
     "output_type": "execute_result"
    },
    {
     "data": {
      "image/png": "[encoded data removed]",
      "text/plain": [
       "<Figure size 432x288 with 1 Axes>"
      ]
     },
     "metadata": {
      "needs_background": "light",
      "tags": []
     },
     "output_type": "display_data"
    }
   ],
   "source": [
    "sns.distplot(train_x['transformed_bias'])"
   ]
  },
  {
   "cell_type": "code",
   "execution_count": null,
   "metadata": {
    "colab": {
     "base_uri": "https://localhost:8080/",
     "height": 350
    },
    "id": "93Qdg0dTZoMl",
    "outputId": "54ba6f10-399f-42d5-e278-338561ca8df2"
   },
   "outputs": [
    {
     "name": "stderr",
     "output_type": "stream",
     "text": [
      "/usr/local/lib/python3.7/dist-packages/seaborn/distributions.py:2557: FutureWarning: `distplot` is a deprecated function and will be removed in a future version. Please adapt your code to use either `displot` (a figure-level function with similar flexibility) or `histplot` (an axes-level function for histograms).\n",
      "  warnings.warn(msg, FutureWarning)\n"
     ]
    },
    {
     "data": {
      "text/plain": [
       "<matplotlib.axes._subplots.AxesSubplot at 0x7f4208bf7c90>"
      ]
     },
     "execution_count": 19,
     "metadata": {
      "tags": []
     },
     "output_type": "execute_result"
    },
    {
     "data": {
      "image/png": "[encoded data removed]",
      "text/plain": [
       "<Figure size 432x288 with 1 Axes>"
      ]
     },
     "metadata": {
      "needs_background": "light",
      "tags": []
     },
     "output_type": "display_data"
    }
   ],
   "source": [
    "sns.distplot(train_x['transformed_sent2sim'])"
   ]
  },
  {
   "cell_type": "code",
   "execution_count": null,
   "metadata": {
    "colab": {
     "base_uri": "https://localhost:8080/",
     "height": 285
    },
    "id": "YuixKlGIYora",
    "outputId": "5591d02e-a86f-46b3-eabc-a96eddb0b7a6"
   },
   "outputs": [
    {
     "data": {
      "text/html": [
       "<div>\n",
       "<style scoped>\n",
       "    .dataframe tbody tr th:only-of-type {\n",
       "        vertical-align: middle;\n",
       "    }\n",
       "\n",
       "    .dataframe tbody tr th {\n",
       "        vertical-align: top;\n",
       "    }\n",
       "\n",
       "    .dataframe thead th {\n",
       "        text-align: right;\n",
       "    }\n",
       "</style>\n",
       "<table border=\"1\" class=\"dataframe\">\n",
       "  <thead>\n",
       "    <tr style=\"text-align: right;\">\n",
       "      <th></th>\n",
       "      <th>first</th>\n",
       "      <th>SL</th>\n",
       "      <th>TF_ISF</th>\n",
       "      <th>ab2sim</th>\n",
       "      <th>SP</th>\n",
       "      <th>transformed_bias</th>\n",
       "      <th>transformed_sent2sim</th>\n",
       "    </tr>\n",
       "  </thead>\n",
       "  <tbody>\n",
       "    <tr>\n",
       "      <th>0</th>\n",
       "      <td>1</td>\n",
       "      <td>0.466667</td>\n",
       "      <td>0.421750</td>\n",
       "      <td>0.544845</td>\n",
       "      <td>0.00000</td>\n",
       "      <td>0.670039</td>\n",
       "      <td>-0.872133</td>\n",
       "    </tr>\n",
       "    <tr>\n",
       "      <th>1</th>\n",
       "      <td>0</td>\n",
       "      <td>0.577778</td>\n",
       "      <td>0.550548</td>\n",
       "      <td>0.298872</td>\n",
       "      <td>0.07692</td>\n",
       "      <td>0.538631</td>\n",
       "      <td>0.192674</td>\n",
       "    </tr>\n",
       "    <tr>\n",
       "      <th>2</th>\n",
       "      <td>0</td>\n",
       "      <td>0.333333</td>\n",
       "      <td>0.244185</td>\n",
       "      <td>0.193521</td>\n",
       "      <td>0.15385</td>\n",
       "      <td>0.488308</td>\n",
       "      <td>-0.016781</td>\n",
       "    </tr>\n",
       "  </tbody>\n",
       "</table>\n",
       "</div>"
      ],
      "text/plain": [
       "   first        SL    TF_ISF  ...       SP  transformed_bias  transformed_sent2sim\n",
       "0      1  0.466667  0.421750  ...  0.00000          0.670039             -0.872133\n",
       "1      0  0.577778  0.550548  ...  0.07692          0.538631              0.192674\n",
       "2      0  0.333333  0.244185  ...  0.15385          0.488308             -0.016781\n",
       "\n",
       "[3 rows x 7 columns]"
      ]
     },
     "metadata": {
      "tags": []
     },
     "output_type": "display_data"
    },
    {
     "data": {
      "text/html": [
       "<div>\n",
       "<style scoped>\n",
       "    .dataframe tbody tr th:only-of-type {\n",
       "        vertical-align: middle;\n",
       "    }\n",
       "\n",
       "    .dataframe tbody tr th {\n",
       "        vertical-align: top;\n",
       "    }\n",
       "\n",
       "    .dataframe thead th {\n",
       "        text-align: right;\n",
       "    }\n",
       "</style>\n",
       "<table border=\"1\" class=\"dataframe\">\n",
       "  <thead>\n",
       "    <tr style=\"text-align: right;\">\n",
       "      <th></th>\n",
       "      <th>first</th>\n",
       "      <th>SL</th>\n",
       "      <th>TF_ISF</th>\n",
       "      <th>ab2sim</th>\n",
       "      <th>SP</th>\n",
       "      <th>transformed_bias</th>\n",
       "      <th>transformed_sent2sim</th>\n",
       "    </tr>\n",
       "    <tr>\n",
       "      <th>id</th>\n",
       "      <th></th>\n",
       "      <th></th>\n",
       "      <th></th>\n",
       "      <th></th>\n",
       "      <th></th>\n",
       "      <th></th>\n",
       "      <th></th>\n",
       "    </tr>\n",
       "  </thead>\n",
       "  <tbody>\n",
       "    <tr>\n",
       "      <th>366196093</th>\n",
       "      <td>1</td>\n",
       "      <td>0.054054</td>\n",
       "      <td>0.057993</td>\n",
       "      <td>0.146774</td>\n",
       "      <td>0.00000</td>\n",
       "      <td>0.360349</td>\n",
       "      <td>-1.073581</td>\n",
       "    </tr>\n",
       "    <tr>\n",
       "      <th>366196093</th>\n",
       "      <td>0</td>\n",
       "      <td>0.405405</td>\n",
       "      <td>0.322731</td>\n",
       "      <td>0.160651</td>\n",
       "      <td>0.11111</td>\n",
       "      <td>0.348142</td>\n",
       "      <td>-0.641370</td>\n",
       "    </tr>\n",
       "    <tr>\n",
       "      <th>366196093</th>\n",
       "      <td>0</td>\n",
       "      <td>0.540541</td>\n",
       "      <td>0.453334</td>\n",
       "      <td>0.081672</td>\n",
       "      <td>0.22222</td>\n",
       "      <td>0.182758</td>\n",
       "      <td>-0.922482</td>\n",
       "    </tr>\n",
       "  </tbody>\n",
       "</table>\n",
       "</div>"
      ],
      "text/plain": [
       "           first        SL  ...  transformed_bias  transformed_sent2sim\n",
       "id                          ...                                        \n",
       "366196093      1  0.054054  ...          0.360349             -1.073581\n",
       "366196093      0  0.405405  ...          0.348142             -0.641370\n",
       "366196093      0  0.540541  ...          0.182758             -0.922482\n",
       "\n",
       "[3 rows x 7 columns]"
      ]
     },
     "metadata": {
      "tags": []
     },
     "output_type": "display_data"
    }
   ],
   "source": [
    "display(train_x.head(3), val_x.head(3))"
   ]
  },
  {
   "cell_type": "markdown",
   "metadata": {
    "id": "4vrLyzU3w93A"
   },
   "source": [
    "### 1) Decision Tree Classifier"
   ]
  },
  {
   "cell_type": "code",
   "execution_count": null,
   "metadata": {
    "colab": {
     "base_uri": "https://localhost:8080/"
    },
    "id": "1FUVRtQ0whnK",
    "outputId": "f1de184c-830b-410f-dccf-cfc72cacb656"
   },
   "outputs": [
    {
     "name": "stdout",
     "output_type": "stream",
     "text": [
      "0.852451217900718\n"
     ]
    }
   ],
   "source": [
    "## 파라미터 튜닝 없이 돌렸을 때 \n",
    "dt_model = DecisionTreeClassifier(random_state=99)\n",
    "#학습\n",
    "dt_model.fit(train_x, train_y)\n",
    "#예측\n",
    "pred = dt_model.predict(val_x)\n",
    "#결과\n",
    "print(accuracy_score(val_y, pred))"
   ]
  },
  {
   "cell_type": "code",
   "execution_count": null,
   "metadata": {
    "colab": {
     "base_uri": "https://localhost:8080/"
    },
    "id": "zs1rW5jPwhwK",
    "outputId": "ef47bec5-fdac-4eca-a7db-76c7b5b0345c"
   },
   "outputs": [
    {
     "name": "stdout",
     "output_type": "stream",
     "text": [
      "Fitting 5 folds for each of 48 candidates, totalling 240 fits\n"
     ]
    },
    {
     "name": "stderr",
     "output_type": "stream",
     "text": [
      "[Parallel(n_jobs=-1)]: Using backend LokyBackend with 2 concurrent workers.\n",
      "[Parallel(n_jobs=-1)]: Done  46 tasks      | elapsed:   25.8s\n",
      "[Parallel(n_jobs=-1)]: Done 196 tasks      | elapsed:  2.1min\n",
      "[Parallel(n_jobs=-1)]: Done 240 out of 240 | elapsed:  2.7min finished\n"
     ]
    },
    {
     "data": {
      "text/plain": [
       "GridSearchCV(cv=5, error_score=nan,\n",
       "             estimator=DecisionTreeClassifier(ccp_alpha=0.0, class_weight=None,\n",
       "                                              criterion='gini', max_depth=None,\n",
       "                                              max_features=None,\n",
       "                                              max_leaf_nodes=None,\n",
       "                                              min_impurity_decrease=0.0,\n",
       "                                              min_impurity_split=None,\n",
       "                                              min_samples_leaf=1,\n",
       "                                              min_samples_split=2,\n",
       "                                              min_weight_fraction_leaf=0.0,\n",
       "                                              presort='deprecated',\n",
       "                                              random_state=99,\n",
       "                                              splitter='best'),\n",
       "             iid='deprecated', n_jobs=-1,\n",
       "             param_grid={'max_depth': [3, 5, 7, 9],\n",
       "                         'max_leaf_nodes': [5, 10, 15, 20],\n",
       "                         'min_samples_leaf': [None, 1, 2]},\n",
       "             pre_dispatch='2*n_jobs', refit=True, return_train_score=False,\n",
       "             scoring=None, verbose=1)"
      ]
     },
     "execution_count": 22,
     "metadata": {
      "tags": []
     },
     "output_type": "execute_result"
    }
   ],
   "source": [
    "## train set에 대해 파라미터 튜닝 \n",
    "#다양한 파라미터를 주기\n",
    "params = {'max_depth': [3, 5, 7, 9], \n",
    "          'max_leaf_nodes': [5, 10, 15, 20], # list(range(10, 50))\n",
    "          'min_samples_leaf': [None, 1, 2]}\n",
    "#5-fold cv로 그리드서치를 수행해 봄.\n",
    "grid_search_cv = GridSearchCV(DecisionTreeClassifier(random_state=99),\n",
    "                              params, verbose=1, cv=5, n_jobs=-1)\n",
    "#트레인셋으로 학습, k-fold 적용\n",
    "grid_search_cv.fit(train_x, train_y)"
   ]
  },
  {
   "cell_type": "code",
   "execution_count": null,
   "metadata": {
    "colab": {
     "base_uri": "https://localhost:8080/"
    },
    "id": "zKNIsfYOwhzq",
    "outputId": "7ead429e-654e-46e2-f6b2-1d9a86f749eb"
   },
   "outputs": [
    {
     "name": "stdout",
     "output_type": "stream",
     "text": [
      "그리드서치 결과, 가장 최적의 하이퍼 파라미터는:  {'max_depth': 5, 'max_leaf_nodes': 20, 'min_samples_leaf': 1}\n",
      "그 때의 스코어는: 0.896\n"
     ]
    }
   ],
   "source": [
    "print('그리드서치 결과, 가장 최적의 하이퍼 파라미터는: ',grid_search_cv.best_params_)\n",
    "print('그 때의 스코어는: {0:.3f}'.format(grid_search_cv.best_score_))"
   ]
  },
  {
   "cell_type": "code",
   "execution_count": null,
   "metadata": {
    "colab": {
     "base_uri": "https://localhost:8080/"
    },
    "id": "dC-NflZbzQ_q",
    "outputId": "8c0112b2-75be-4149-f8ed-25ce749cc6f8"
   },
   "outputs": [
    {
     "name": "stdout",
     "output_type": "stream",
     "text": [
      "0.8963132625644188\n"
     ]
    }
   ],
   "source": [
    "# 다시 전체 train set으로 학습 후, val set에 대한 예측 정확도는?\n",
    "dt_model = DecisionTreeClassifier(random_state=99, max_depth= 5, max_leaf_nodes= 20, min_samples_leaf= 1) ##추가\n",
    "#학습\n",
    "dt_model.fit(train_x, train_y)\n",
    "#예측\n",
    "pred = dt_model.predict(val_x)\n",
    "#결과\n",
    "print(accuracy_score(val_y, pred))"
   ]
  },
  {
   "cell_type": "markdown",
   "metadata": {
    "id": "0GmtWnpW19gl"
   },
   "source": [
    "### 2) Random Forest Classifier"
   ]
  },
  {
   "cell_type": "code",
   "execution_count": null,
   "metadata": {
    "colab": {
     "base_uri": "https://localhost:8080/"
    },
    "id": "v7S4JvV65vXT",
    "outputId": "a1d97015-7490-4d0c-ea06-4cac7e3ad405"
   },
   "outputs": [
    {
     "name": "stdout",
     "output_type": "stream",
     "text": [
      "0.9048055323085055\n"
     ]
    }
   ],
   "source": [
    "## 파라미터 튜닝 없이 돌렸을 때 \n",
    "rf_model = RandomForestClassifier(random_state=99)\n",
    "#학습\n",
    "rf_model.fit(train_x, train_y)\n",
    "#예측\n",
    "pred2 = rf_model.predict(val_x)\n",
    "#결과\n",
    "print(accuracy_score(val_y, pred2))"
   ]
  },
  {
   "cell_type": "code",
   "execution_count": null,
   "metadata": {
    "colab": {
     "base_uri": "https://localhost:8080/"
    },
    "id": "JLB_C0bF50gO",
    "outputId": "d426d397-9a4c-47d4-85b6-95cef73a4886"
   },
   "outputs": [
    {
     "name": "stdout",
     "output_type": "stream",
     "text": [
      "Fitting 5 folds for each of 54 candidates, totalling 270 fits\n"
     ]
    },
    {
     "name": "stderr",
     "output_type": "stream",
     "text": [
      "[Parallel(n_jobs=-1)]: Using backend LokyBackend with 2 concurrent workers.\n",
      "[Parallel(n_jobs=-1)]: Done  46 tasks      | elapsed: 21.8min\n",
      "[Parallel(n_jobs=-1)]: Done 196 tasks      | elapsed: 132.6min\n",
      "[Parallel(n_jobs=-1)]: Done 270 out of 270 | elapsed: 204.4min finished\n"
     ]
    },
    {
     "data": {
      "text/plain": [
       "GridSearchCV(cv=5, error_score=nan,\n",
       "             estimator=RandomForestClassifier(bootstrap=True, ccp_alpha=0.0,\n",
       "                                              class_weight=None,\n",
       "                                              criterion='gini', max_depth=None,\n",
       "                                              max_features='auto',\n",
       "                                              max_leaf_nodes=None,\n",
       "                                              max_samples=None,\n",
       "                                              min_impurity_decrease=0.0,\n",
       "                                              min_impurity_split=None,\n",
       "                                              min_samples_leaf=1,\n",
       "                                              min_samples_split=2,\n",
       "                                              min_weight_fraction_leaf=0.0,\n",
       "                                              n_estimators=100, n_jobs=None,\n",
       "                                              oob_score=False, random_state=99,\n",
       "                                              verbose=0, warm_start=False),\n",
       "             iid='deprecated', n_jobs=-1,\n",
       "             param_grid={'max_depth': [2, 5, 10], 'max_leaf_nodes': [3, 5, 10],\n",
       "                         'min_samples_leaf': [None, 2, 4],\n",
       "                         'n_estimators': [200, 500]},\n",
       "             pre_dispatch='2*n_jobs', refit=True, return_train_score=False,\n",
       "             scoring=None, verbose=1)"
      ]
     },
     "execution_count": 35,
     "metadata": {
      "tags": []
     },
     "output_type": "execute_result"
    }
   ],
   "source": [
    "## train set에 대해 파라미터 튜닝 \n",
    "#다양한 파라미터를 주기\n",
    "params = {'n_estimators': [200, 500],\n",
    "          'max_depth': [2, 5, 10], \n",
    "          'max_leaf_nodes': [3, 5, 10], \n",
    "          'min_samples_leaf': [None, 2, 4]}\n",
    "#5-fold cv로 그리드서치를 수행해 봄.\n",
    "grid_search_cv = GridSearchCV(RandomForestClassifier(random_state=99),\n",
    "                              params, verbose=1, cv=5, n_jobs=-1)\n",
    "#트레인셋으로 학습, k-fold 적용\n",
    "grid_search_cv.fit(train_x, train_y)"
   ]
  },
  {
   "cell_type": "code",
   "execution_count": null,
   "metadata": {
    "colab": {
     "base_uri": "https://localhost:8080/"
    },
    "id": "qLHuqeR13C9W",
    "outputId": "aed1d5cd-528e-4b73-a4a5-f13fd7700775"
   },
   "outputs": [
    {
     "name": "stdout",
     "output_type": "stream",
     "text": [
      "그리드서치 결과, 가장 최적의 하이퍼 파라미터는:  {'max_depth': 10, 'max_leaf_nodes': 10, 'min_samples_leaf': 2, 'n_estimators': 500}\n",
      "그 때의 스코어는: 0.893\n"
     ]
    }
   ],
   "source": [
    "print('그리드서치 결과, 가장 최적의 하이퍼 파라미터는: ',grid_search_cv.best_params_)\n",
    "print('그 때의 스코어는: {0:.3f}'.format(grid_search_cv.best_score_))"
   ]
  },
  {
   "cell_type": "markdown",
   "metadata": {
    "id": "dyxBribdkZoU"
   },
   "source": [
    "### 3) LGBM(LightGBM) with Bayesian optimization"
   ]
  },
  {
   "cell_type": "code",
   "execution_count": 1,
   "metadata": {
    "colab": {
     "base_uri": "https://localhost:8080/",
     "height": 366
    },
    "id": "7L304u3Rh8Ym",
    "outputId": "18eac231-f02c-4cda-b607-f7f2e5f653ce"
   },
   "outputs": [],
   "source": [
    "import lightgbm as lgb\n",
    "from sklearn.preprocessing import MinMaxScaler\n",
    "from sklearn.preprocessing import RobustScaler\n",
    "\n",
    "from sklearn import metrics\n",
    "from sklearn.metrics import roc_curve, auc\n",
    "from sklearn.metrics import roc_auc_score\n",
    "from bayes_opt import BayesianOptimization\n",
    "from sklearn.preprocessing import LabelBinarizer\n",
    "import numpy as np \n",
    "import pandas as pd \n",
    "import lightgbm as lgb                       # Lightgbm 패키지\n",
    "from lightgbm.sklearn import LGBMClassifier\n",
    "from sklearn.model_selection import KFold   # K-Fold CV\n",
    "from functools import partial"
   ]
  },
  {
   "cell_type": "code",
   "execution_count": 3,
   "metadata": {
    "id": "wP6-DYRxkYO1"
   },
   "outputs": [],
   "source": [
    "def multiclass_roc_auc_score(y_test, y_pred, average=\"macro\"): # 여기서는 binary classification이므로 macro!\n",
    "    lb = LabelBinarizer()\n",
    "    lb.fit(y_test)\n",
    "    y_test = lb.transform(y_test)\n",
    "    y_pred = lb.transform(y_pred)\n",
    "    return roc_auc_score(y_test, y_pred, average=average)"
   ]
  },
  {
   "cell_type": "code",
   "execution_count": 4,
   "metadata": {
    "id": "__-VIIuBkYUp"
   },
   "outputs": [],
   "source": [
    "def lgb_cv(num_leaves, learning_rate, n_estimators, subsample, colsample_bytree, reg_alpha, reg_lambda,\n",
    "           x_data=None, y_data=None, n_splits=5, output='score'):\n",
    "    \n",
    "    score = 0\n",
    "    kf = KFold(n_splits=n_splits)\n",
    "    models = []\n",
    "    for train_index, valid_index in kf.split(x_data):\n",
    "        x_train, y_train = x_data.iloc[train_index], y_data.iloc[train_index]\n",
    "        x_valid, y_valid = x_data.iloc[valid_index], y_data.iloc[valid_index]\n",
    "        \n",
    "        model = lgb.LGBMClassifier(\n",
    "            random_state=99, ##\n",
    "            num_leaves = int(num_leaves), \n",
    "            learning_rate = learning_rate, \n",
    "            n_estimators = int(n_estimators), \n",
    "            subsample = np.clip(subsample, 0, 1), \n",
    "            colsample_bytree = np.clip(colsample_bytree, 0, 1), \n",
    "            reg_alpha = reg_alpha, \n",
    "            reg_lambda = reg_lambda\n",
    "        )\n",
    "        \n",
    "        model.fit(x_train, y_train)\n",
    "        models.append(model)\n",
    "        \n",
    "        pred = model.predict_proba(x_valid)\n",
    "        pred = [np.argmax(line) for line in pred]\n",
    "        score += multiclass_roc_auc_score(y_valid, pred, average='macro') / n_splits ##\n",
    "    \n",
    "    if output == 'score':\n",
    "        return score\n",
    "    if output == 'model':\n",
    "        return models"
   ]
  },
  {
   "cell_type": "code",
   "execution_count": 2,
   "metadata": {
    "colab": {
     "base_uri": "https://localhost:8080/",
     "height": 232
    },
    "id": "mIWZURBYkYYa",
    "outputId": "ffbfb4d4-27b6-43ab-d385-ae87bbfced6d"
   },
   "outputs": [],
   "source": [
    "# 모델과 관련없는 변수 고정\n",
    "func_fixed = partial(lgb_cv, x_data=train_x, y_data=train_y, n_splits=5, output='score') \n",
    "# 베이지안 최적화 범위 설정\n",
    "lgbBO = BayesianOptimization(\n",
    "    func_fixed, \n",
    "    {\n",
    "        'num_leaves': (16, 1024),        # num_leaves,       범위(16~1024)\n",
    "        'learning_rate': (0.0001, 0.1),  # learning_rate,    범위(0.0001~0.1)\n",
    "        'n_estimators': (16, 1024),      # n_estimators,     범위(16~1024)\n",
    "        'subsample': (0.1, 1),             # subsample,        범위(0~1)\n",
    "        'colsample_bytree': (0.1, 0.9),      # colsample_bytree, 범위(0~1)\n",
    "        'reg_alpha': (0.1, 10),            # reg_alpha,        범위(0~10)\n",
    "        'reg_lambda': (0.1, 50),           # reg_lambda,       범위(0~50)\n",
    "    }, \n",
    "    random_state=2020                    # 시드 고정\n",
    ")\n",
    "lgbBO.maximize(init_points=5, n_iter=10) # 처음 5회 랜덤 값으로 score 계산 후 20회 최적화"
   ]
  },
  {
   "cell_type": "code",
   "execution_count": null,
   "metadata": {
    "id": "xTib8DJwkYdC"
   },
   "outputs": [],
   "source": [
    "params = lgbBO.max['params']\n",
    "models = lgb_cv(\n",
    "    params['num_leaves'], \n",
    "    params['learning_rate'], \n",
    "    params['n_estimators'], \n",
    "    params['subsample'], \n",
    "    params['colsample_bytree'], \n",
    "    params['reg_alpha'], \n",
    "    params['reg_lambda'], \n",
    "    x_data=train_x, y_data=train_y, n_splits=5, output='model')"
   ]
  },
  {
   "cell_type": "code",
   "execution_count": null,
   "metadata": {
    "id": "2m0DkxCHkYkD"
   },
   "outputs": [],
   "source": [
    "##5 kfold 예측\n",
    "preds=[]\n",
    "for model in models:\n",
    "    pred = model.predict_proba(val_x)\n",
    "    preds.append(pred)\n",
    "\n",
    "pred = np.mean(preds , axis=0)\n",
    "pred = [np.argmax(line) for line in pred]"
   ]
  },
  {
   "cell_type": "code",
   "execution_count": null,
   "metadata": {
    "id": "aBEsjZxpkswU"
   },
   "outputs": [],
   "source": [
    "#accuracy, confusion_maxtrix\n",
    "from sklearn.metrics import accuracy_score\n",
    "\n",
    "print(model.__class__.__name__, accuracy_score(val_y, pred))\n",
    "print(); print(metrics.classification_report(val_y, pred))\n",
    "print(); print(metrics.confusion_matrix(val_y, pred))"
   ]
  },
  {
   "cell_type": "markdown",
   "metadata": {
    "id": "TmFm7RTp3WQp"
   },
   "source": [
    "### 3) Voting Classifier"
   ]
  },
  {
   "cell_type": "code",
   "execution_count": null,
   "metadata": {
    "id": "tBVaEo6BzTmM"
   },
   "outputs": [],
   "source": [
    "#필요한 패키지 로드(모델링에 사용할 것들)\n",
    "from sklearn.ensemble import RandomForestClassifier, ExtraTreesClassifier\n",
    "import xgboost\n",
    "from sklearn.ensemble import VotingClassifier"
   ]
  },
  {
   "cell_type": "code",
   "execution_count": null,
   "metadata": {
    "id": "ttX2a3tyzTrV"
   },
   "outputs": [],
   "source": [
    "#여러가지 모델들을 만들어 보자.(파라미터 튜닝 x)\n",
    "#1. randomforest classifier\n",
    "rf_clf = RandomForestClassifier(n_estimators=100, random_state=99)\n",
    "#2. extra-trees classifier\n",
    "et_clf = ExtraTreesClassifier(n_estimators=100, random_state=99)\n",
    "#3. DT\n",
    "dt_model = DecisionTreeClassifier(random_state=99, max_depth= 5, max_leaf_nodes= 20, min_samples_leaf= 1)\n",
    "#4. xgboost classifier\n",
    "xgb_clf = xgboost.XGBClassifier(random_state=99)"
   ]
  },
  {
   "cell_type": "code",
   "execution_count": null,
   "metadata": {
    "colab": {
     "base_uri": "https://localhost:8080/"
    },
    "id": "dSEvCE4bzTw1",
    "outputId": "b82d1ba2-f626-4850-8e92-86e904cb8697"
   },
   "outputs": [
    {
     "name": "stdout",
     "output_type": "stream",
     "text": [
      "### Training the RandomForestClassifier(bootstrap=True, ccp_alpha=0.0, class_weight=None,\n",
      "                       criterion='gini', max_depth=None, max_features='auto',\n",
      "                       max_leaf_nodes=None, max_samples=None,\n",
      "                       min_impurity_decrease=0.0, min_impurity_split=None,\n",
      "                       min_samples_leaf=1, min_samples_split=2,\n",
      "                       min_weight_fraction_leaf=0.0, n_estimators=100,\n",
      "                       n_jobs=None, oob_score=False, random_state=99, verbose=0,\n",
      "                       warm_start=False) ###\n",
      "### Training the ExtraTreesClassifier(bootstrap=False, ccp_alpha=0.0, class_weight=None,\n",
      "                     criterion='gini', max_depth=None, max_features='auto',\n",
      "                     max_leaf_nodes=None, max_samples=None,\n",
      "                     min_impurity_decrease=0.0, min_impurity_split=None,\n",
      "                     min_samples_leaf=1, min_samples_split=2,\n",
      "                     min_weight_fraction_leaf=0.0, n_estimators=100,\n",
      "                     n_jobs=None, oob_score=False, random_state=99, verbose=0,\n",
      "                     warm_start=False) ###\n",
      "### Training the DecisionTreeClassifier(ccp_alpha=0.0, class_weight=None, criterion='gini',\n",
      "                       max_depth=5, max_features=None, max_leaf_nodes=20,\n",
      "                       min_impurity_decrease=0.0, min_impurity_split=None,\n",
      "                       min_samples_leaf=1, min_samples_split=2,\n",
      "                       min_weight_fraction_leaf=0.0, presort='deprecated',\n",
      "                       random_state=99, splitter='best') ###\n",
      "### Training the XGBClassifier(base_score=0.5, booster='gbtree', colsample_bylevel=1,\n",
      "              colsample_bynode=1, colsample_bytree=1, gamma=0,\n",
      "              learning_rate=0.1, max_delta_step=0, max_depth=3,\n",
      "              min_child_weight=1, missing=None, n_estimators=100, n_jobs=1,\n",
      "              nthread=None, objective='binary:logistic', random_state=99,\n",
      "              reg_alpha=0, reg_lambda=1, scale_pos_weight=1, seed=None,\n",
      "              silent=None, subsample=1, verbosity=1) ###\n"
     ]
    }
   ],
   "source": [
    "#각 모델들을 train set으로 학습시키고, 가장 성능이 좋은 것은 무엇인지 출력\n",
    "estimators = [rf_clf, et_clf, dt_model, xgb_clf]\n",
    "for estimator in estimators:\n",
    "    print(\"### Training the\", estimator, \"###\")\n",
    "    estimator.fit(train_x, train_y)"
   ]
  },
  {
   "cell_type": "code",
   "execution_count": null,
   "metadata": {
    "colab": {
     "base_uri": "https://localhost:8080/"
    },
    "id": "veoi5EoyzT1l",
    "outputId": "4a57d0d0-5577-4d39-c886-f457599531be"
   },
   "outputs": [
    {
     "name": "stdout",
     "output_type": "stream",
     "text": [
      "RandomForestClassifier : 0.9048055323085055\n",
      "ExtraTreesClassifier : 0.9052548121393649\n",
      "DecisionTreeClassifier : 0.8963132625644188\n",
      "XGBClassifier : 0.9065057481390124\n"
     ]
    }
   ],
   "source": [
    "#validation set에 대해 예측하고, 스코어가 어떤지 출력\n",
    "for estimator in estimators:\n",
    "    print(estimator.__class__.__name__, ':', estimator.score(val_x, val_y))"
   ]
  },
  {
   "cell_type": "code",
   "execution_count": null,
   "metadata": {
    "colab": {
     "base_uri": "https://localhost:8080/"
    },
    "id": "Yc4i05sT6iF_",
    "outputId": "f54dc5a7-0d36-40fe-f83c-530f808d1c23"
   },
   "outputs": [
    {
     "data": {
      "text/plain": [
       "0.9057569484209136"
      ]
     },
     "execution_count": 33,
     "metadata": {
      "tags": []
     },
     "output_type": "execute_result"
    }
   ],
   "source": [
    "#각각의 estimators와 이에 이름을 붙인 'named_estimators'를 만들어 voting classifier 객체에 대입\n",
    "named_estimators = [\n",
    "    (\"rf_clf\", rf_clf), (\"et_clf\", et_clf),\n",
    "    (\"dt_model\", dt_model),(\"xgb_clf\", xgb_clf),]\n",
    "\n",
    "#hard voting classifier\n",
    "voting_clf = VotingClassifier(named_estimators, voting='hard')\n",
    "\n",
    "#학습\n",
    "voting_clf.fit(train_x, train_y)\n",
    "#accuracy 스코어\n",
    "voting_clf.score(val_x, val_y)"
   ]
  },
  {
   "cell_type": "code",
   "execution_count": null,
   "metadata": {
    "colab": {
     "base_uri": "https://localhost:8080/"
    },
    "id": "SGjp52JrzT6w",
    "outputId": "0af10027-a047-4389-e907-ac0cb49d521e"
   },
   "outputs": [
    {
     "data": {
      "text/plain": [
       "0.905457428533674"
      ]
     },
     "execution_count": 34,
     "metadata": {
      "tags": []
     },
     "output_type": "execute_result"
    }
   ],
   "source": [
    "#각각의 estimators와 이에 이름을 붙인 'named_estimators'를 만들어 voting classifier 객체에 대입\n",
    "named_estimators = [\n",
    "    (\"rf_clf\", rf_clf), (\"et_clf\", et_clf),\n",
    "    (\"dt_model\", dt_model),(\"xgb_clf\", xgb_clf),]\n",
    "\n",
    "#hard voting classifier\n",
    "voting_clf = VotingClassifier(named_estimators, voting='soft')\n",
    "\n",
    "#학습\n",
    "voting_clf.fit(train_x, train_y)\n",
    "#accuracy 스코어\n",
    "voting_clf.score(val_x, val_y)"
   ]
  },
  {
   "cell_type": "code",
   "execution_count": null,
   "metadata": {
    "id": "ga0s3HzK5Kbk"
   },
   "outputs": [],
   "source": []
  }
 ],
 "metadata": {
  "colab": {
   "collapsed_sections": [],
   "name": "한국어 추출요약 Text Classification(final).ipynb",
   "provenance": []
  },
  "kernelspec": {
   "display_name": "Python 3",
   "language": "python",
   "name": "python3"
  },
  "language_info": {
   "codemirror_mode": {
    "name": "ipython",
    "version": 3
   },
   "file_extension": ".py",
   "mimetype": "text/x-python",
   "name": "python",
   "nbconvert_exporter": "python",
   "pygments_lexer": "ipython3",
   "version": "3.6.13"
  }
 },
 "nbformat": 4,
 "nbformat_minor": 1
}
